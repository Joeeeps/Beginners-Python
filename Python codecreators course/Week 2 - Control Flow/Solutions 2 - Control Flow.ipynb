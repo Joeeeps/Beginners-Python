{
 "cells": [
  {
   "cell_type": "markdown",
   "metadata": {},
   "source": [
    "# Solutions 2 - Control Flow"
   ]
  },
  {
   "cell_type": "markdown",
   "metadata": {},
   "source": [
    "### Question 1\n",
    "Write a program that asks someone’s age and prints out a message saying whether they can buy alcohol or not and whether they will need proof of age. People who are under 18 cannot buy alcohol, people who are over 18 can but if they are under 25 they need proof of age."
   ]
  },
  {
   "cell_type": "code",
   "execution_count": 6,
   "metadata": {},
   "outputs": [
    {
     "name": "stdout",
     "output_type": "stream",
     "text": [
      "Enter your age: 26\n",
      "You can buy alcohol\n"
     ]
    }
   ],
   "source": [
    "# Get the user's age\n",
    "age = int(input(\"Enter your age: \"))\n",
    "# Check if younger than 18 or not\n",
    "if age < 18:\n",
    "    print(\"You can not buy alcohol\")\n",
    "elif age <= 25:\n",
    "    print(\"You will probably need ID to buy alcohol\")\n",
    "else:\n",
    "    print(\"You can buy alcohol\")\n",
    "    "
   ]
  },
  {
   "cell_type": "markdown",
   "metadata": {},
   "source": [
    "### Question 2\n",
    "You are making a login system, write a program that takes a username and password. If the details are correct (compare to predefined ones you make) it should print a message saying *Welcome 'username'*. Otherwise print out *incorrect details*.\n"
   ]
  },
  {
   "cell_type": "code",
   "execution_count": 4,
   "metadata": {},
   "outputs": [
    {
     "name": "stdout",
     "output_type": "stream",
     "text": [
      "Enter your username: raa\n",
      "Enter your password: ds\n",
      "Incorrect Details\n"
     ]
    }
   ],
   "source": [
    "# Get the user's login information\n",
    "username = input(\"Enter your username: \")\n",
    "password = input(\"Enter your password: \")\n",
    "\n",
    "# Check credentials against hard coded ones\n",
    "if username == \"rafa\" and password == \"codecreators\":\n",
    "    print(\"Welcome\", username)\n",
    "else:\n",
    "    print(\"Incorrect Details\")"
   ]
  },
  {
   "cell_type": "markdown",
   "metadata": {},
   "source": [
    "### Question 3\n",
    "Write a program that takes the user's input as a number and prints a statement saying if the number is odd or even. \n",
    "\n",
    "Hint: Remember that a number is even if the remainder when divided by 2 is 0."
   ]
  },
  {
   "cell_type": "code",
   "execution_count": 6,
   "metadata": {},
   "outputs": [
    {
     "name": "stdout",
     "output_type": "stream",
     "text": [
      "Please insert a number: 4\n",
      "4 is even\n"
     ]
    }
   ],
   "source": [
    "# Get the user's number, convert to integer\n",
    "num = int(input(\"Please insert a number: \"))\n",
    "\n",
    "# Check if the number is odd or even\n",
    "if num % 2 == 0:\n",
    "    print(num, \"is even\")\n",
    "else:\n",
    "    print(num, \"is odd\")"
   ]
  },
  {
   "cell_type": "markdown",
   "metadata": {},
   "source": [
    "### Question 4\n",
    "Write a program that asks the user for a month of the year as an **integer** and then prints out which season that month is in. \n",
    "\n",
    "Hint: In the UK, seasons are:\n",
    "- Winter - December to February (12 & 1 to 2)\n",
    "- Spring - March to May (3 to 5)\n",
    "- Summer - June to August (6 to 8)\n",
    "- Autumn - September to November (9 to 11)\n",
    "\n",
    "Feel free to use the seasons from any country."
   ]
  },
  {
   "cell_type": "code",
   "execution_count": null,
   "metadata": {},
   "outputs": [],
   "source": [
    "# Get a month from user, convert to int\n",
    "month = int(input(\"Enter a month (as an integer): \"))\n",
    "\n",
    "# Check month against seasons, assumed is positive integer\n",
    "if month <= 2 or month == 12:\n",
    "    print(\"season is winter\")\n",
    "elif month <= 5:\n",
    "    print(\"season is spring\")\n",
    "elif month <= 8:\n",
    "    print(\"season is summer\")\n",
    "elif month <= 11:\n",
    "    print(\"season is autumn\")\n",
    "else:\n",
    "    print(\"not a valid month!\")"
   ]
  },
  {
   "cell_type": "markdown",
   "metadata": {},
   "source": [
    "### Question 5\n",
    "Write a program that asks the user for a month of the year, this time as a **string**, and then prints out which season that month is in. "
   ]
  },
  {
   "cell_type": "code",
   "execution_count": 9,
   "metadata": {},
   "outputs": [
    {
     "name": "stdout",
     "output_type": "stream",
     "text": [
      "Enter a month (all lower case): january\n",
      "Winter\n"
     ]
    }
   ],
   "source": [
    "# Get a month from user\n",
    "month = input(\"Enter a month (all lower case): \")\n",
    "\n",
    "# Check month against seasons\n",
    "if month == \"march\" or month == \"april\" or month == \"may\":\n",
    "    print(\"Spring\")\n",
    "elif month == \"june\" or month == \"july\" or month == \"august\":\n",
    "    print(\"Summer\")\n",
    "elif month == \"september\" or month == \"october\" or month == \"november\":\n",
    "    print(\"Autumn\")\n",
    "elif month == \"december\" or month == \"january\" or month == \"february\":\n",
    "    print(\"Winter\")\n",
    "else:\n",
    "    print(\"not a valid month!\")"
   ]
  },
  {
   "cell_type": "markdown",
   "metadata": {},
   "source": [
    "### Question 6\n",
    "Write a program that asks the user to select one of the following options:\n",
    "           \n",
    "       1 - Convert from Celsius to Fahrenheit \n",
    "       2 - Convert from Fahrenheit to Celsius\n",
    "           \n",
    "Then asks for the user's input as a number, converts it to the selected option and prints the result. \n",
    "      \n",
    "Hint: [Celsius and Fahrenheit conversion](https://www.rapidtables.com/convert/temperature/how-celsius-to-fahrenheit.html)"
   ]
  },
  {
   "cell_type": "code",
   "execution_count": 1,
   "metadata": {},
   "outputs": [
    {
     "name": "stdout",
     "output_type": "stream",
     "text": [
      "1 - Convert from Celsius to Fahrenheit\n",
      "2 - Convert from Fahrenheit to Celsius\n",
      "Please insert one of the choices: 1\n",
      "Enter the temperature in Celsius: 1\n",
      "1 Celsius is 33.8 Fahrenheit\n"
     ]
    }
   ],
   "source": [
    "# Gets the user's input from the menu\n",
    "\n",
    "print(\"1 - Convert from Celsius to Fahrenheit\")\n",
    "print(\"2 - Convert from Fahrenheit to Celsius\")\n",
    "choice = int(input(\"Please insert one of the choices: \"))\n",
    "\n",
    "# Convert to Celsius or to Fahrenheit \n",
    "if choice == 1:\n",
    "    celsius = int(input(\"Enter the temperature in Celsius: \"))  # Gets the input\n",
    "    fahrenheit = celsius * 9/5 + 32  # Convert to fahrenheit\n",
    "    print(celsius, \"Celsius is\", fahrenheit, \"Fahrenheit\")\n",
    "    \n",
    "elif choice == 2:\n",
    "    fahrenheit = int(input(\"Enter the temperature in Fahrenheit\"))  # Gets the input\n",
    "    celsius = (fahrenheit - 32) * 5/9  # Convert to celsius\n",
    "    print(fahrenheit, \"Fahrenheit is\", celsius, \"Celsius \" ) \n",
    "    \n",
    "else:\n",
    "    print(\"invalid choice\")"
   ]
  },
  {
   "cell_type": "markdown",
   "metadata": {},
   "source": [
    "### Question 7\n",
    "Write a program which checks if a year inputted by the user is a leap year. \n",
    "\n",
    "A leap year is exactly divisible by 4 except for century years (years ending with 00). The century year is a leap year only if it is perfectly divisible by 400."
   ]
  },
  {
   "cell_type": "code",
   "execution_count": 10,
   "metadata": {},
   "outputs": [
    {
     "name": "stdout",
     "output_type": "stream",
     "text": [
      "Enter a year: 34\n",
      "34 is a leap year\n"
     ]
    }
   ],
   "source": [
    "year = int(input(\"Enter a year: \"))\n",
    "\n",
    "if year % 4 == 0:\n",
    "    if year % 100 == 0 and year % 400 != 0:\n",
    "        print(year, \"is not a leap year\")\n",
    "    else:\n",
    "        print(year, \"is a leap year\")\n",
    "else:\n",
    "    print(year, \"is a leap year\")"
   ]
  },
  {
   "cell_type": "code",
   "execution_count": 19,
   "metadata": {},
   "outputs": [
    {
     "name": "stdout",
     "output_type": "stream",
     "text": [
      "Enter a year: 3233\n",
      "3233 is not a leap year\n"
     ]
    }
   ],
   "source": [
    "# Alternatively\n",
    "year = int(input(\"Enter a year: \"))\n",
    "\n",
    "if year % 4 == 0 and (year % 100 != 0 or year % 400 == 0):\n",
    "    print(year, \"is a leap year\")\n",
    "else:\n",
    "    print(year, \"is not a leap year\")"
   ]
  },
  {
   "cell_type": "markdown",
   "metadata": {},
   "source": [
    "### Question 8\n",
    "\n",
    "Write a program that asks the user to specify the cost price and selling price of a product. Check if there is a profit or loss. If there is a profit, print out Profit: *number* (where *number* should be replaced by the actual number). If there is a loss, print out Loss: *number* (again replacing *number* with the actual loss). If there is neither a loss nor a profit, print out *Neither profit nor loss*."
   ]
  },
  {
   "cell_type": "code",
   "execution_count": 22,
   "metadata": {},
   "outputs": [
    {
     "name": "stdout",
     "output_type": "stream",
     "text": [
      "Enter the cost price: 300\n",
      "Enter the sale price: 200\n",
      "Loss: 100\n"
     ]
    }
   ],
   "source": [
    "cost = int(input(\"Enter the cost price: \"))\n",
    "sale = int(input(\"Enter the sale price: \"))\n",
    "\n",
    "if cost < sale:\n",
    "    profit = sale - cost\n",
    "    print(\"Profit:\", profit)\n",
    "elif sale < cost:\n",
    "    loss = cost - sale\n",
    "    print(\"Loss:\", loss)\n",
    "else:\n",
    "    print(\"Neither profit nor loss\")"
   ]
  }
 ],
 "metadata": {
  "kernelspec": {
   "display_name": "Python 3",
   "language": "python",
   "name": "python3"
  },
  "language_info": {
   "codemirror_mode": {
    "name": "ipython",
    "version": 3
   },
   "file_extension": ".py",
   "mimetype": "text/x-python",
   "name": "python",
   "nbconvert_exporter": "python",
   "pygments_lexer": "ipython3",
   "version": "3.7.4"
  }
 },
 "nbformat": 4,
 "nbformat_minor": 2
}
