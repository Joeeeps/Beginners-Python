{
 "cells": [
  {
   "cell_type": "markdown",
   "metadata": {},
   "source": [
    "# Exercise 2 - Control Flow"
   ]
  },
  {
   "cell_type": "markdown",
   "metadata": {},
   "source": [
    "### Question 1\n",
    "Write a program that asks someone’s age and prints out a message saying whether they can buy alcohol or not and whether they will need proof of age. People who are under 18 cannot buy alcohol, people who are over 18 can but if they are under 25 they need proof of age."
   ]
  },
  {
   "cell_type": "code",
   "execution_count": 47,
   "metadata": {},
   "outputs": [
    {
     "name": "stdout",
     "output_type": "stream",
     "text": [
      "Please enter your age 9\n",
      "Sorry no alcohol you're only 9 years old\n",
      "9\n"
     ]
    }
   ],
   "source": [
    "age = int(input(\"Please enter your age \"))\n",
    "if(age < 18):\n",
    "    print(\"Sorry no alcohol you're only\", age, \"years old\"),\n",
    "elif(age <= 25):\n",
    "    print(\"You are\",age, \"years old, ID is required between the ages of 18-25\"), \n",
    "else: print(\"Enjoy the alcohol\")\n",
    "     "
   ]
  },
  {
   "cell_type": "markdown",
   "metadata": {},
   "source": [
    "# Question 2\n",
    "You are making a login system, write a program that takes a username and password. If the details are correct (compare to predefined ones you make) it should print a message saying *Welcome 'username'*. Otherwise print out *incorrect details*."
   ]
  },
  {
   "cell_type": "code",
   "execution_count": 53,
   "metadata": {},
   "outputs": [
    {
     "name": "stdout",
     "output_type": "stream",
     "text": [
      "Please enter your username dog\n",
      "Please enter your password hunter2\n",
      "ERROR!, ERROR! Wrong password!\n"
     ]
    }
   ],
   "source": [
    "username = \"Joe\"\n",
    "password = \"hunter2\"\n",
    "login = str(input(\"Please enter your username \"))\n",
    "pw = str(input(\"Please enter your password \"))\n",
    "\n",
    "if(username == login) and (password == pw):\n",
    "    print(\"Welcome\", username),\n",
    "else: \n",
    "    print(\"ERROR!, ERROR! Wrong log in details!\")"
   ]
  },
  {
   "cell_type": "markdown",
   "metadata": {},
   "source": [
    "### Question 3\n",
    "Write a program that takes the user's input as a number and prints a statement saying if the number is odd or even. \n",
    "\n",
    "Hint: Remember that a number is even if the remainder when divided by 2 is 0."
   ]
  },
  {
   "cell_type": "code",
   "execution_count": 56,
   "metadata": {},
   "outputs": [
    {
     "name": "stdout",
     "output_type": "stream",
     "text": [
      "Enter a number49304930\n",
      "49304930 is an even number!\n"
     ]
    }
   ],
   "source": [
    "num = int(input(\"Enter a number\"))\n",
    "if(num%2 == 0):\n",
    "    print(num,\"is an even number!\")\n",
    "else:\n",
    "    print(num,\"is an odd number!\")"
   ]
  },
  {
   "cell_type": "markdown",
   "metadata": {},
   "source": [
    "### Question 4\n",
    "Write a program that asks the user for a month of the year as an **integer** and then prints out which season that month is in. \n",
    "\n",
    "Hint: In the UK, seasons are:\n",
    "- Winter - December to February (12 & 1 to 2)\n",
    "- Spring - March to May (3 to 5)\n",
    "- Summer - June to August (6 to 8)\n",
    "- Autumn - September to November (9 to 11)\n",
    "\n",
    "Feel free to use the seasons from any country."
   ]
  },
  {
   "cell_type": "code",
   "execution_count": 98,
   "metadata": {},
   "outputs": [
    {
     "name": "stdout",
     "output_type": "stream",
     "text": [
      "Please enter a month (numerical) 3\n",
      "It's spring my dudes\n"
     ]
    }
   ],
   "source": [
    "month = int(input(\"Please enter a month (numerical) \"))\n",
    "if month <= 2 or month == 12:\n",
    "    print(\"It's winter my dudes\")\n",
    "elif month <= 5:\n",
    "    print(\"It's spring my dudes\")\n",
    "elif month <= 8:\n",
    "    print(\"It's summer my dudes\")\n",
    "elif month <= 11:\n",
    "    print(\"It's autumn my dudes\")\n",
    "else:\n",
    "    print(\"There are 12 months in the year, but you wrote\", month)"
   ]
  },
  {
   "cell_type": "markdown",
   "metadata": {},
   "source": [
    "### Question 5\n",
    "Write a program that asks the user for a month of the year, this time as a **string**, and then prints out which season that month is in. "
   ]
  },
  {
   "cell_type": "code",
   "execution_count": 128,
   "metadata": {},
   "outputs": [
    {
     "name": "stdout",
     "output_type": "stream",
     "text": [
      "Please enter a month (using characters): NOVemBer\n",
      "NOVemBer is an autumnal month\n"
     ]
    }
   ],
   "source": [
    "month = str(input(\"Please enter a month (using characters): \"))\n",
    "if month.lower() == \"january\" or month.lower() == \"february\" or month.lower() == \"december\":\n",
    "    print(month, \"is a winter month\")\n",
    "elif month.lower() == \"march\" or month.lower() == \"april\" or month.lower() == \"may\":\n",
    "    print(month, \"is a spring month\")\n",
    "elif month.lower() == \"june\" or month.lower() == \"july\" or month.lower()== \"august\":\n",
    "    print(month, \"is a summer month\")\n",
    "elif month.lower() == \"september\" or month.lower() == \"october\" or month.lower() == \"november\":\n",
    "    print(month, \"is an autumnal month\")\n",
    "else:\n",
    "    print(\"You didn't enter a month :()\")"
   ]
  },
  {
   "cell_type": "markdown",
   "metadata": {},
   "source": [
    "# Question 6\n",
    "Write a program that asks the user to select one of the following options:\n",
    "           \n",
    "       1 - Convert from Celsius to Fahrenheit \n",
    "       2 - Convert from Fahrenheit to Celsius\n",
    "           \n",
    "Then asks for the user's input as a number, converts it to the selected option and prints the result. \n",
    "      \n",
    "Hint: [Celsius and Fahrenheit conversion](https://www.rapidtables.com/convert/temperature/how-celsius-to-fahrenheit.html)"
   ]
  },
  {
   "cell_type": "code",
   "execution_count": 147,
   "metadata": {},
   "outputs": [
    {
     "name": "stdout",
     "output_type": "stream",
     "text": [
      "Enter a number buddy 90 \n",
      "Convert celsius -> fahrenheit or fahrenheit -> celsius? fahRenHEit\n",
      "90.0 fahrenheit is 194.0 celsius\n"
     ]
    }
   ],
   "source": [
    "temperature = float(input(\"Enter a number buddy \"))\n",
    "convert = str(input(\"Convert celsius -> fahrenheit or fahrenheit -> celsius? \"))\n",
    "\n",
    "if convert.lower() == \"fahrenheit\":\n",
    "    print(temperature, \"fahrenheit is\", (temperature * 9/5 + 32 ), \"celsius\")\n",
    "    \n",
    "elif convert.lower() == \"celsius\":\n",
    "    print(temperature, \"celsius is\", (temperature - 32 * 5/9 ), \"fahrenheit\")\n",
    "    \n",
    "else:\n",
    "    print(\"Fahrenheit or celsius, nothing else!\")"
   ]
  },
  {
   "cell_type": "code",
   "execution_count": null,
   "metadata": {},
   "outputs": [],
   "source": [
    "# Gets the user's input from the menu #Alternate version copied from examples\n",
    "\n",
    "print(\"1 - Convert from Celsius to Fahrenheit\")\n",
    "print(\"2 - Convert from Fahrenheit to Celsius\")\n",
    "choice = int(input(\"Please insert one of the choices: \"))\n",
    "\n",
    "# Convert to Celsius or to Fahrenheit \n",
    "if choice == 1:\n",
    "    celsius = int(input(\"Enter the temperature in Celsius: \"))  # Gets the input\n",
    "    fahrenheit = celsius * 9/5 + 32  # Convert to fahrenheit\n",
    "    print(celsius, \"Celsius is\", fahrenheit, \"Fahrenheit\")\n",
    "    \n",
    "elif choice == 2:\n",
    "    fahrenheit = int(input(\"Enter the temperature in Fahrenheit\"))  # Gets the input\n",
    "    celsius = (fahrenheit - 32) * 5/9  # Convert to celsius\n",
    "    print(fahrenheit, \"Fahrenheit is\", celsius, \"Celsius \" ) \n",
    "    \n",
    "else:\n",
    "    print(\"invalid choice\")"
   ]
  },
  {
   "cell_type": "markdown",
   "metadata": {},
   "source": [
    "### Question 7\n",
    "Write a program which checks if a year inputted by the user is a leap year. \n",
    "\n",
    "A leap year is exactly divisible by 4 except for century years (years ending with 00). The century year is a leap year only if it is perfectly divisible by 400."
   ]
  },
  {
   "cell_type": "code",
   "execution_count": 169,
   "metadata": {},
   "outputs": [
    {
     "name": "stdout",
     "output_type": "stream",
     "text": [
      "Enter a year and we'll see if it leaps! 343\n",
      "343 is a leap year\n"
     ]
    }
   ],
   "source": [
    "year = int(input(\"Enter a year and we'll see if it leaps! \"))\n",
    "\n",
    "if year % 4 == 0:\n",
    "    if year % 100 == 0 and year % 400 != 0:\n",
    "        print(year, \"is not a leap year\")\n",
    "    else:\n",
    "        print(year, \"is a leap year\")\n",
    "else:\n",
    "    print(year, \"is a leap year\")"
   ]
  },
  {
   "cell_type": "markdown",
   "metadata": {},
   "source": [
    "### Question 8\n",
    "\n",
    "Write a program that asks the user to specify the cost price and selling price of a product. Check if there is a profit or loss. If there is a profit, print out Profit: *number* (where *number* should be replaced by the actual number). If there is a loss, print out Loss: *number* (again replacing *number* with the actual loss). If there is neither a loss nor a profit, print out *Neither profit nor loss*."
   ]
  },
  {
   "cell_type": "code",
   "execution_count": 183,
   "metadata": {},
   "outputs": [
    {
     "name": "stdout",
     "output_type": "stream",
     "text": [
      "How much does it cost? 0\n",
      "How much can you sell it for? 0\n",
      "You broke even, no profit nor loss! \n"
     ]
    }
   ],
   "source": [
    "buy = float(input(\"How much does it cost? \"))\n",
    "sell = float(input(\"How much can you sell it for? \"))\n",
    "profit = sell-buy\n",
    "loss = buy-sell\n",
    "if profit > 0:\n",
    "    print(\"Nice, you just made £\",profit)\n",
    "elif profit < 0:\n",
    "    print(\"Oh no, you lost £\",loss)\n",
    "else:\n",
    "    print(\"You broke even, no profit nor loss! \")"
   ]
  }
 ],
 "metadata": {
  "kernelspec": {
   "display_name": "Python 3",
   "language": "python",
   "name": "python3"
  },
  "language_info": {
   "codemirror_mode": {
    "name": "ipython",
    "version": 3
   },
   "file_extension": ".py",
   "mimetype": "text/x-python",
   "name": "python",
   "nbconvert_exporter": "python",
   "pygments_lexer": "ipython3",
   "version": "3.7.4"
  }
 },
 "nbformat": 4,
 "nbformat_minor": 2
}
