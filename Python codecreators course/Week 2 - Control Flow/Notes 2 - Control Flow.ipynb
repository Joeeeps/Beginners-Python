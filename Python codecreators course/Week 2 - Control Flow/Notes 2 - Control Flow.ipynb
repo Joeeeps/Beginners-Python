{
 "cells": [
  {
   "cell_type": "markdown",
   "metadata": {},
   "source": [
    "# Notes 2 - Control Flow\n",
    "\n",
    "## 1) Comparison Operators\n",
    "Comparison operators compare two values based on the operator used and return a boolean (`True` or `False`) value. They are the same operators as mathematics, but are syntax specific to the language.\n",
    "\n",
    "### 1.1) Equality\n",
    "Denoted by `==`. Tests equality of 2 values in the same sense of the mathematical operator. `True` if the two values are equal to each other, `False` if not. Can be used to compare any of the data types we have learnt so far, will only be `True` if they are same data type as well as value.\n",
    "\n",
    "Note from week 1, a single `=` is used for assigning variables, so when testing equality we use a double `==`"
   ]
  },
  {
   "cell_type": "code",
   "execution_count": null,
   "metadata": {},
   "outputs": [],
   "source": [
    "3 == 3  # True"
   ]
  },
  {
   "cell_type": "code",
   "execution_count": null,
   "metadata": {},
   "outputs": [],
   "source": [
    "3 == 2 # False"
   ]
  },
  {
   "cell_type": "code",
   "execution_count": null,
   "metadata": {},
   "outputs": [],
   "source": [
    "\"code\" == \"code\"  # True"
   ]
  },
  {
   "cell_type": "code",
   "execution_count": null,
   "metadata": {},
   "outputs": [],
   "source": [
    "2 == '2'  # False"
   ]
  },
  {
   "cell_type": "markdown",
   "metadata": {},
   "source": [
    "### 1.2) Non Equality\n",
    "\n",
    "Denoted by `!=`. `True` if the two values are **not** equal to each other, `False` if they are."
   ]
  },
  {
   "cell_type": "code",
   "execution_count": null,
   "metadata": {},
   "outputs": [],
   "source": [
    "3 != 3  # False"
   ]
  },
  {
   "cell_type": "code",
   "execution_count": null,
   "metadata": {},
   "outputs": [],
   "source": [
    "3 != 2  # True"
   ]
  },
  {
   "cell_type": "code",
   "execution_count": null,
   "metadata": {},
   "outputs": [],
   "source": [
    "\"code\" != \"code\"  # False"
   ]
  },
  {
   "cell_type": "code",
   "execution_count": null,
   "metadata": {},
   "outputs": [],
   "source": [
    "2 != '2'  # True"
   ]
  },
  {
   "cell_type": "markdown",
   "metadata": {},
   "source": [
    "### 1.3) Less than\n",
    "Denoted by `<` . `True` if left value is less than the right. Can be combined with an equals sign (`<=`) which returns `True` if they are equal, where as `<` would return `False`."
   ]
  },
  {
   "cell_type": "code",
   "execution_count": null,
   "metadata": {},
   "outputs": [],
   "source": [
    "4 < 3  # False"
   ]
  },
  {
   "cell_type": "code",
   "execution_count": null,
   "metadata": {},
   "outputs": [],
   "source": [
    "2 < 3  # True"
   ]
  },
  {
   "cell_type": "code",
   "execution_count": null,
   "metadata": {},
   "outputs": [],
   "source": [
    "3 < 3  # False"
   ]
  },
  {
   "cell_type": "code",
   "execution_count": null,
   "metadata": {},
   "outputs": [],
   "source": [
    "3 <= 3  # True"
   ]
  },
  {
   "cell_type": "markdown",
   "metadata": {},
   "source": [
    "### 1.4) Greater than\n",
    "\n",
    "Denoted by `>`. `True` if left is greater than right. Can be combined with an equals sign (`>=`) which returns `True` if they are equal, where as `>` would return `False`."
   ]
  },
  {
   "cell_type": "code",
   "execution_count": null,
   "metadata": {},
   "outputs": [],
   "source": [
    "4 > 3  # True"
   ]
  },
  {
   "cell_type": "code",
   "execution_count": null,
   "metadata": {},
   "outputs": [],
   "source": [
    "2 > 3  # False"
   ]
  },
  {
   "cell_type": "code",
   "execution_count": null,
   "metadata": {},
   "outputs": [],
   "source": [
    "3 > 3  # False"
   ]
  },
  {
   "cell_type": "code",
   "execution_count": null,
   "metadata": {},
   "outputs": [],
   "source": [
    "3 >= 3  # True"
   ]
  },
  {
   "cell_type": "markdown",
   "metadata": {},
   "source": [
    "### 1.5) Default truths\n",
    "\n",
    "In python and many other high-level languages, non-boolean data types can be evaluated to `True` or `False` automatically by the language. We use the `bool()` function to convert non-boolean data types into booleans.\n",
    "For integers and floats, `0` evaluates to `False`, and all other values evaluate to `True`"
   ]
  },
  {
   "cell_type": "code",
   "execution_count": null,
   "metadata": {},
   "outputs": [],
   "source": [
    "bool(0)  # False"
   ]
  },
  {
   "cell_type": "code",
   "execution_count": null,
   "metadata": {},
   "outputs": [],
   "source": [
    "bool(1)  # True"
   ]
  },
  {
   "cell_type": "code",
   "execution_count": null,
   "metadata": {},
   "outputs": [],
   "source": [
    "bool(0.0)  # False"
   ]
  },
  {
   "cell_type": "code",
   "execution_count": null,
   "metadata": {},
   "outputs": [],
   "source": [
    "bool(0.5)  # True"
   ]
  },
  {
   "cell_type": "markdown",
   "metadata": {},
   "source": [
    "For strings, only the empty string `\"\"` evaluates to False, everything else evaluates to True"
   ]
  },
  {
   "cell_type": "code",
   "execution_count": null,
   "metadata": {},
   "outputs": [],
   "source": [
    "bool(\"\")  # False"
   ]
  },
  {
   "cell_type": "code",
   "execution_count": null,
   "metadata": {},
   "outputs": [],
   "source": [
    "bool(\"non-empty string\")  # True"
   ]
  },
  {
   "cell_type": "markdown",
   "metadata": {},
   "source": [
    " "
   ]
  },
  {
   "cell_type": "markdown",
   "metadata": {},
   "source": [
    "***"
   ]
  },
  {
   "cell_type": "markdown",
   "metadata": {},
   "source": [
    " "
   ]
  },
  {
   "cell_type": "markdown",
   "metadata": {},
   "source": [
    "## 2) Boolean Operators"
   ]
  },
  {
   "cell_type": "markdown",
   "metadata": {},
   "source": [
    "Boolean operators takes boolean values and perform logical operations on them."
   ]
  },
  {
   "cell_type": "markdown",
   "metadata": {},
   "source": [
    "### 2.1) AND\n",
    "`and` returns `True` if both boolean values are `True`."
   ]
  },
  {
   "cell_type": "code",
   "execution_count": null,
   "metadata": {},
   "outputs": [],
   "source": [
    "True and True  # True"
   ]
  },
  {
   "cell_type": "code",
   "execution_count": null,
   "metadata": {},
   "outputs": [],
   "source": [
    "True and False  # False"
   ]
  },
  {
   "cell_type": "code",
   "execution_count": null,
   "metadata": {},
   "outputs": [],
   "source": [
    "(1 < 3) and (2 == 2)  # True"
   ]
  },
  {
   "cell_type": "markdown",
   "metadata": {},
   "source": [
    "### 2.2) OR\n",
    "`or` returns `True` if either or both boolean values is `True`."
   ]
  },
  {
   "cell_type": "code",
   "execution_count": null,
   "metadata": {},
   "outputs": [],
   "source": [
    "True or False  # True"
   ]
  },
  {
   "cell_type": "code",
   "execution_count": null,
   "metadata": {},
   "outputs": [],
   "source": [
    "False or False  # False"
   ]
  },
  {
   "cell_type": "code",
   "execution_count": null,
   "metadata": {},
   "outputs": [],
   "source": [
    "(1 < 3) or (2 != 2)  # True"
   ]
  },
  {
   "cell_type": "markdown",
   "metadata": {},
   "source": [
    "### 2.3) NOT\n",
    "`not` takes a single boolean value and inverts it, so it is `True` if boolean value is `False`."
   ]
  },
  {
   "cell_type": "code",
   "execution_count": null,
   "metadata": {},
   "outputs": [],
   "source": [
    "not True  # False"
   ]
  },
  {
   "cell_type": "code",
   "execution_count": null,
   "metadata": {},
   "outputs": [],
   "source": [
    "not False  # True"
   ]
  },
  {
   "cell_type": "code",
   "execution_count": null,
   "metadata": {},
   "outputs": [],
   "source": [
    "not 2 == 2  # False"
   ]
  },
  {
   "cell_type": "markdown",
   "metadata": {},
   "source": [
    " "
   ]
  },
  {
   "cell_type": "markdown",
   "metadata": {},
   "source": [
    "***"
   ]
  },
  {
   "cell_type": "markdown",
   "metadata": {},
   "source": [
    " "
   ]
  },
  {
   "cell_type": "markdown",
   "metadata": {},
   "source": [
    "## 3) Conditional Branching\n",
    "\n",
    "So far we have only been able to run code you wrote sequentially line by line, this is not how most programs work in the real world. One of the most powerful tools you can use in programming is 'branching'. Conditional branching allows you to change the flow of the program, to execute code branches based on boolean conditions. This means your program can alter what code is run based on whether conditions are met or not.\n",
    "\n",
    "Conditional branching makes use of the comparison and boolean operators from previous sections, as they are used to construct logical statements which resolve to either `True` or `False`."
   ]
  },
  {
   "cell_type": "markdown",
   "metadata": {},
   "source": [
    "### 3.1) If\n",
    "\n",
    "The if statement is the most basic branch, it checks whether a condition evaluates to `True` and runs a block of code if it does. One way to understand this logic is compare it to a real life situation, for example: **if** light is green **then** drive through. The condition here is 'light is green', if it is green then the condition is met so you perform the action of 'drive through', however if it is red you wouldn't.\n",
    "\n",
    "In programming languages the condition is made up of boolean statements which resolve to `True` or `False`. This can be as simple as a boolean variable or a complex comparison using the operators shown above.\n",
    "\n",
    "In Python, an if statement is written as `if (condition):` followed by a block of indented code, take note of the colon (`:`) after the condition as this is often missed."
   ]
  },
  {
   "cell_type": "code",
   "execution_count": null,
   "metadata": {},
   "outputs": [],
   "source": [
    "if (True):\n",
    "    print(\"Branch ran\")"
   ]
  },
  {
   "cell_type": "code",
   "execution_count": null,
   "metadata": {},
   "outputs": [],
   "source": [
    "if (False):\n",
    "    print(\"Branch ran\")"
   ]
  },
  {
   "cell_type": "code",
   "execution_count": null,
   "metadata": {},
   "outputs": [],
   "source": [
    "if (2 == 2):\n",
    "    print(\"Branch ran\")"
   ]
  },
  {
   "cell_type": "code",
   "execution_count": null,
   "metadata": {},
   "outputs": [],
   "source": [
    "light = \"green\"\n",
    "\n",
    "if (light == \"green\"):\n",
    "    print(\"drive through\")"
   ]
  },
  {
   "cell_type": "markdown",
   "metadata": {},
   "source": [
    "### 3.2) Else\n",
    "\n",
    "The else statement is used in conjunction with the if statement. The else branch runs when the if (and elif) statements do not run. \n",
    "\n",
    "You can expand on the previous real life situation to make: **if** light is green **then** drive through **else** stop. So if the condition 'light is green' is false, you will perform the action 'stop' by default."
   ]
  },
  {
   "cell_type": "code",
   "execution_count": null,
   "metadata": {},
   "outputs": [],
   "source": [
    "if (False):\n",
    "    print(\"If branch\")\n",
    "else:\n",
    "    print(\"Else branch\")"
   ]
  },
  {
   "cell_type": "code",
   "execution_count": null,
   "metadata": {},
   "outputs": [],
   "source": [
    "if (True):\n",
    "    print(\"If branch\")\n",
    "else:\n",
    "    print(\"Else branch\")"
   ]
  },
  {
   "cell_type": "code",
   "execution_count": null,
   "metadata": {},
   "outputs": [],
   "source": [
    "light = \"red\"\n",
    "\n",
    "if (light == \"green\"):\n",
    "    print(\"drive through\")\n",
    "else:\n",
    "    print(\"stop\")"
   ]
  },
  {
   "cell_type": "markdown",
   "metadata": {},
   "source": [
    "### 3.3) Elif \n",
    "\n",
    "Elif expands the if statement even further, combining else with an if statement. This allows you to have a branch statement which checks multiple conditions"
   ]
  },
  {
   "cell_type": "code",
   "execution_count": null,
   "metadata": {},
   "outputs": [],
   "source": [
    "light = \"yellow\"\n",
    "\n",
    "if (light == \"green\"):\n",
    "    print(\"drive through\")\n",
    "elif (light == \"yellow\"):\n",
    "    print(\"slow down\")\n",
    "else:\n",
    "    print(\"stop\")"
   ]
  },
  {
   "cell_type": "code",
   "execution_count": null,
   "metadata": {},
   "outputs": [],
   "source": [
    "user_number = int(input(\"Please choose a number: \"))\n",
    "\n",
    "if (user_number < 20):\n",
    "    print(user_number, \"is less than 20\")\n",
    "elif (user_number >= 20 and user_number < 40):  # redundant check of >= 20\n",
    "    print(user_number, \"is greater than or equal to 20 and less than 40\")\n",
    "else:\n",
    "    print(user_number, \"is greater or equal to 40\")"
   ]
  },
  {
   "cell_type": "code",
   "execution_count": null,
   "metadata": {},
   "outputs": [],
   "source": [
    "user_number = int(input(\"Please choose a number: \"))\n",
    "\n",
    "if (user_number < 20):\n",
    "    print(user_number, \"is less than 20\")\n",
    "elif (user_number < 40):  # greater than 20 already checked by previous if\n",
    "    print(user_number, \"is greater than or equal to 20 and less than 40\")\n",
    "else:\n",
    "    print(user_number, \"is greater or equal to 40\")"
   ]
  },
  {
   "cell_type": "markdown",
   "metadata": {},
   "source": [
    "### 3.4) Whitespace\n",
    "\n",
    "Python uses whitespace as a part of it's syntax, the way in which the computer understands your code. In other languages, such as Java, C and Javascript, they use curly braces `{}` to denote code blocks - Python uses colons and tabs. The first block of code below will give an IndentationError as it is missing indentation."
   ]
  },
  {
   "cell_type": "code",
   "execution_count": 1,
   "metadata": {},
   "outputs": [
    {
     "ename": "IndentationError",
     "evalue": "expected an indented block (<ipython-input-1-fd975a61b4d0>, line 3)",
     "output_type": "error",
     "traceback": [
      "\u001b[1;36m  File \u001b[1;32m\"<ipython-input-1-fd975a61b4d0>\"\u001b[1;36m, line \u001b[1;32m3\u001b[0m\n\u001b[1;33m    print(\"pass\")\u001b[0m\n\u001b[1;37m        ^\u001b[0m\n\u001b[1;31mIndentationError\u001b[0m\u001b[1;31m:\u001b[0m expected an indented block\n"
     ]
    }
   ],
   "source": [
    "# WRONG\n",
    "if (True):\n",
    "print(\"pass\")"
   ]
  },
  {
   "cell_type": "code",
   "execution_count": null,
   "metadata": {},
   "outputs": [],
   "source": [
    "if (True):\n",
    "    print(\"pass\")"
   ]
  },
  {
   "cell_type": "markdown",
   "metadata": {},
   "source": [
    "Whitespace will become more important in later lectures as you start using functions and other code operators such as `with`."
   ]
  },
  {
   "cell_type": "code",
   "execution_count": null,
   "metadata": {},
   "outputs": [],
   "source": [
    "def my_function():\n",
    "    return True\n",
    "\n",
    "with open(\"text_file.txt\", \"w\") as f:\n",
    "    f.read()"
   ]
  },
  {
   "cell_type": "markdown",
   "metadata": {},
   "source": [
    " "
   ]
  },
  {
   "cell_type": "markdown",
   "metadata": {},
   "source": [
    "***"
   ]
  },
  {
   "cell_type": "markdown",
   "metadata": {},
   "source": [
    " "
   ]
  },
  {
   "cell_type": "markdown",
   "metadata": {},
   "source": [
    "### 4) Keywords\n",
    "Python has reserved words that you can not use as variable names. These are words used to define the syntax and structure of the language. In Jupyter these keywords are highlighted in dark green. [A list of them can be found here.](https://www.programiz.com/python-programming/keywords-identifier)\n",
    "\n",
    "When you use them in incorrect places, such as a varaible name you will recieve an 'invalid syntax' error."
   ]
  },
  {
   "cell_type": "code",
   "execution_count": null,
   "metadata": {},
   "outputs": [],
   "source": [
    "if = \"hello\""
   ]
  },
  {
   "cell_type": "markdown",
   "metadata": {},
   "source": [
    "While Python won't execute when you use reserved words, it will allow you to override builtin functions such as `print()`. This means you can create a variable called `print` and use it just fine. However it means that the builtin function is no longer usable, so you can't print anything. Therefore you shouldn't use these builtin functions as variable names either.\n",
    "\n",
    "We will teach you more of these built-in functions in later lectures, for now you can spot them as they are highlighted in light green in Jupyter."
   ]
  },
  {
   "cell_type": "code",
   "execution_count": null,
   "metadata": {},
   "outputs": [],
   "source": [
    "print(\"hello\")"
   ]
  },
  {
   "cell_type": "code",
   "execution_count": null,
   "metadata": {
    "scrolled": true
   },
   "outputs": [],
   "source": [
    "print = \"set as a variable\""
   ]
  },
  {
   "cell_type": "code",
   "execution_count": null,
   "metadata": {},
   "outputs": [],
   "source": [
    "print(\"won't work anymore\")"
   ]
  },
  {
   "cell_type": "markdown",
   "metadata": {},
   "source": [
    "### 5) Frozen Notebook\n",
    "\n",
    "While Jupyter is a great way to start programming with python, there is a common issue that will cause it to freeze and make your code unrunable.\n",
    "If you run a block of code that takes an input from the user, and you re-run the block or another input before the input is taken jupyter will freeze.\n",
    "To fix it, press the reload button in the bar at the top, then wait for a blue box saying `Kernel Ready` next to the `Trusted` box."
   ]
  },
  {
   "cell_type": "code",
   "execution_count": null,
   "metadata": {},
   "outputs": [],
   "source": [
    "input(\"\")"
   ]
  },
  {
   "cell_type": "code",
   "execution_count": null,
   "metadata": {},
   "outputs": [],
   "source": [
    "input(\"\")"
   ]
  }
 ],
 "metadata": {
  "kernelspec": {
   "display_name": "Python 3",
   "language": "python",
   "name": "python3"
  },
  "language_info": {
   "codemirror_mode": {
    "name": "ipython",
    "version": 3
   },
   "file_extension": ".py",
   "mimetype": "text/x-python",
   "name": "python",
   "nbconvert_exporter": "python",
   "pygments_lexer": "ipython3",
   "version": "3.7.4"
  }
 },
 "nbformat": 4,
 "nbformat_minor": 2
}
