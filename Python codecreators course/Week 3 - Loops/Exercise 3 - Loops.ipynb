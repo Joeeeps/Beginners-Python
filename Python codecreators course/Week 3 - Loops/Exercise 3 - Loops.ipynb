{
 "cells": [
  {
   "cell_type": "markdown",
   "metadata": {},
   "source": [
    "# Exercise 3 - Loops"
   ]
  },
  {
   "cell_type": "markdown",
   "metadata": {},
   "source": [
    "### Question 1\n",
    "\n",
    "Write a program that takes a word from the user and prints it out letter by letter."
   ]
  },
  {
   "cell_type": "code",
   "execution_count": 3,
   "metadata": {},
   "outputs": [
    {
     "name": "stdout",
     "output_type": "stream",
     "text": [
      "Enter word: love\n",
      "l\n",
      "o\n",
      "v\n",
      "e\n"
     ]
    }
   ],
   "source": [
    "word = input(\"Enter word: \")\n",
    "\n",
    "for i in word:\n",
    "    print(i) \n",
    "#works because for statements print out text/numbers one character per line\n",
    "#remember colon"
   ]
  },
  {
   "cell_type": "markdown",
   "metadata": {},
   "source": [
    "### Question 2\n",
    "\n",
    "Write a program that takes an integer from the user and then counts down to zero from their number."
   ]
  },
  {
   "cell_type": "code",
   "execution_count": 14,
   "metadata": {},
   "outputs": [
    {
     "name": "stdout",
     "output_type": "stream",
     "text": [
      "Enter number: 9\n",
      "9\n",
      "8\n",
      "7\n",
      "6\n",
      "5\n",
      "4\n",
      "3\n",
      "2\n",
      "1\n",
      "0\n"
     ]
    }
   ],
   "source": [
    "no = int(input(\"Enter number: \"))\n",
    "for i in range(no, -1, -1):\n",
    "    print(i)"
   ]
  },
  {
   "cell_type": "markdown",
   "metadata": {},
   "source": [
    "### Question 3\n",
    "\n",
    "Write a program to construct the following pattern, using a nested for loop. You can improve it by asking the user for a number and printing the pattern to that many lines/stars.\n",
    "\n",
    "\n",
    "```\n",
    "* \n",
    "* * \n",
    "* * * \n",
    "* * * * \n",
    "* * * * * \n",
    "```"
   ]
  },
  {
   "cell_type": "code",
   "execution_count": 29,
   "metadata": {},
   "outputs": [
    {
     "name": "stdout",
     "output_type": "stream",
     "text": [
      "Enter number: 5\n",
      "*\n",
      "**\n",
      "***\n",
      "****\n",
      "*****\n"
     ]
    }
   ],
   "source": [
    "# Starts from 1 up to 5\n",
    "num = int(input(\"Enter number: \"))\n",
    "for i in range(1, num+1):\n",
    "        \n",
    "    for j in range(i):\n",
    "        print(\"*\", end = \"\")\n",
    "    \n",
    "    print()\n",
    "    \n",
    "#nested loop function. First i is set a value, increases by '1' until it reaches 'num+1', then 'j' is used to print one \"*\" \n",
    "#for each number"
   ]
  },
  {
   "cell_type": "markdown",
   "metadata": {},
   "source": [
    "### Question 4\n",
    "\n",
    "Write a program that takes an integer from the user and prints a multiplication table to 10 for that number.\n",
    "\n",
    "eg.\n",
    "\n",
    "    3 x 1 = 3\n",
    "    3 x 2 = 6\n",
    "    3 x 3 = 9\n",
    "    3 x 4 = 12\n",
    "    etc.."
   ]
  },
  {
   "cell_type": "code",
   "execution_count": 101,
   "metadata": {},
   "outputs": [
    {
     "name": "stdout",
     "output_type": "stream",
     "text": [
      "Enter a number 2\n",
      "2 x 1 = 2\n",
      "2 x 2 = 4\n",
      "2 x 3 = 6\n",
      "2 x 4 = 8\n",
      "2 x 5 = 10\n",
      "2 x 6 = 12\n",
      "2 x 7 = 14\n",
      "2 x 8 = 16\n",
      "2 x 9 = 18\n",
      "2 x 10 = 20\n"
     ]
    }
   ],
   "source": [
    "# Gets user's input\n",
    "num = int(input(\"Enter a number \"))\n",
    "for i in range(1, 11, 1):\n",
    "    print(num, \"x\", i, \"=\", num*i)"
   ]
  },
  {
   "cell_type": "markdown",
   "metadata": {},
   "source": [
    "### Question 5\n",
    "\n",
    "Write a program that takes an integer from the user and then prints out if the number is odd or even. The program should repeat this until the user enters the number `-1`."
   ]
  },
  {
   "cell_type": "code",
   "execution_count": 1,
   "metadata": {},
   "outputs": [
    {
     "name": "stdout",
     "output_type": "stream",
     "text": [
      "Please enter a number: 9\n",
      "9 Is an odd number\n",
      "Please enter a number: -1\n"
     ]
    }
   ],
   "source": [
    "### Gets user's input\n",
    "\n",
    "num = int(input(\"Please enter a number: \"))\n",
    "\n",
    "while (num != -1):\n",
    "\n",
    "    if num % 2==0:\n",
    "        print(num, \"Is an even number\")\n",
    " \n",
    "    else:\n",
    "        print(num, \"Is an odd number\")\n",
    "    \n",
    "    num = int(input(\"Please enter a number: \"))\n",
    "\n",
    "    \n",
    "\n"
   ]
  },
  {
   "cell_type": "markdown",
   "metadata": {},
   "source": [
    "## Question 6\n",
    "\n",
    "Write a program that takes a number from the user and then prints the factorial of that number. The factorial of a number is that number multiplied by all the integers from it to zero. \n",
    "\n",
    "`5! = 5 x 4 x 3 x 2 x 1 = 120`\n",
    "\n",
    "More on how to calculate a factorial can be found [here](https://www.mathsisfun.com/numbers/factorial.html)."
   ]
  },
  {
   "cell_type": "code",
   "execution_count": 14,
   "metadata": {},
   "outputs": [
    {
     "name": "stdout",
     "output_type": "stream",
     "text": [
      "Enter a number! 4\n",
      "24\n"
     ]
    }
   ],
   "source": [
    "num = int(input(\"Enter a number! \"))\n",
    "for i in range(1, num):\n",
    "    num *= i\n",
    "print(num)\n"
   ]
  },
  {
   "cell_type": "markdown",
   "metadata": {},
   "source": [
    "## Question 7\n",
    "\n",
    "Write a program that takes a number (`n`) from the user and then prints out the first `n` prime numbers."
   ]
  },
  {
   "cell_type": "code",
   "execution_count": 6,
   "metadata": {},
   "outputs": [
    {
     "name": "stdout",
     "output_type": "stream",
     "text": [
      "Enter a number! 1\n",
      "2\n"
     ]
    }
   ],
   "source": [
    "n = int(input(\"Enter a number! \"))\n",
    "\n",
    "# initialise number of primes and current number\n",
    "num_primes = 0\n",
    "current_num = 1\n",
    "\n",
    "# loop until got wanted number of primes\n",
    "while (num_primes < n):\n",
    "    current_num += 1\n",
    "    for i in range(2, current_num):\n",
    "        if current_num % i == 0:\n",
    "            # isn't a prime number so stop current iteration\n",
    "            break\n",
    "    else:\n",
    "        # is a prime number\n",
    "        print(current_num)\n",
    "        num_primes += 1"
   ]
  },
  {
   "cell_type": "markdown",
   "metadata": {},
   "source": [
    "## Question 8\n",
    "\n",
    "Write a program that allows the user to keep entering numbers until 0 is entered. After display the largest and smallest numbers as well as the average (0 not included)."
   ]
  },
  {
   "cell_type": "code",
   "execution_count": null,
   "metadata": {},
   "outputs": [],
   "source": [
    "num = int(input(\"Pls enter number: \"))\n",
    "largest = 0\n",
    "smallest = 0\n",
    "total = 0\n",
    "count = 0\n",
    "\n",
    "while num != 0: \n",
    "    if num > largest:\n",
    "        largest = num\n",
    "        \n",
    "    if num < smallest or smallest == 0:\n",
    "        smallest = num\n",
    "        \n",
    "    total += num\n",
    "    \n",
    "    count += 1\n",
    "    num = int(input(\"Pls enter number \"))\n",
    "    \n",
    "else:\n",
    "    if counter != 0:\n",
    "        average = total / counter\n",
    "        print(\"Largest: \", largest ,\"Smallest: \", smallest, \"Average: \", average)"
   ]
  },
  {
   "cell_type": "markdown",
   "metadata": {},
   "source": [
    "## Question 9\n",
    "\n",
    "Write a Python program that display all the Fibonacci sequence up to 100. \n",
    "\n",
    "- The Fibonacci sequence starts with 0 and 1.\n",
    "- The next number in the sequence is the previous two numbers added together. \n",
    "- It begins with: 0, 1, 1, 2, 3, 5, 8 ..."
   ]
  },
  {
   "cell_type": "code",
   "execution_count": 4,
   "metadata": {},
   "outputs": [
    {
     "name": "stdout",
     "output_type": "stream",
     "text": [
      "0\n",
      "1\n",
      "1\n",
      "2\n",
      "3\n",
      "5\n",
      "8\n",
      "13\n",
      "21\n",
      "34\n",
      "55\n",
      "89\n"
     ]
    }
   ],
   "source": [
    "x = 0\n",
    "y = 1\n",
    "\n",
    "while x < 100:\n",
    "    \n",
    "    # temp variable to hold to value of x before changing it\n",
    "    temp = x\n",
    "    \n",
    "    # add the previous two together\n",
    "    x = x + y\n",
    "    \n",
    "    # now you can set y to the temp value\n",
    "    y = temp\n",
    "    \n",
    "    print(y)"
   ]
  }
 ],
 "metadata": {
  "kernelspec": {
   "display_name": "Python 3",
   "language": "python",
   "name": "python3"
  },
  "language_info": {
   "codemirror_mode": {
    "name": "ipython",
    "version": 3
   },
   "file_extension": ".py",
   "mimetype": "text/x-python",
   "name": "python",
   "nbconvert_exporter": "python",
   "pygments_lexer": "ipython3",
   "version": "3.7.4"
  }
 },
 "nbformat": 4,
 "nbformat_minor": 2
}
