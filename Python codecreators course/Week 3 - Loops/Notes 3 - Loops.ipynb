{
 "cells": [
  {
   "cell_type": "markdown",
   "metadata": {},
   "source": [
    "# Notes 3 - Loops\n",
    "\n",
    "So far all the programs we've written have run code only once, to repeatedly run code you would have to duplicate it. In programming the solution to this is to use loops.\n",
    "\n",
    "A loop in a computer program is a block of code which is repeated until a specified condition is met. Can think of the loop condition as a question, if the answer requires action the loop is executed. The same question is asked over and over until no further action is required. Every time the loop checks the condition is called an iteration.\n",
    "\n",
    "For example, if we wanted to repeatedly print out some statement, we could just duplicate the print statement as many times as required. This works fine for say 5 lines, however what if you wanted to repeat something 1000 times - this is where loops are useful."
   ]
  },
  {
   "cell_type": "code",
   "execution_count": 1,
   "metadata": {},
   "outputs": [
    {
     "name": "stdout",
     "output_type": "stream",
     "text": [
      "Hello World!\n",
      "Hello World!\n",
      "Hello World!\n",
      "Hello World!\n",
      "Hello World!\n"
     ]
    }
   ],
   "source": [
    "print(\"Hello World!\")\n",
    "print(\"Hello World!\")\n",
    "print(\"Hello World!\")\n",
    "print(\"Hello World!\")\n",
    "print(\"Hello World!\")"
   ]
  },
  {
   "cell_type": "code",
   "execution_count": 2,
   "metadata": {},
   "outputs": [
    {
     "name": "stdout",
     "output_type": "stream",
     "text": [
      "Hello World!\n",
      "Hello World!\n",
      "Hello World!\n",
      "Hello World!\n",
      "Hello World!\n"
     ]
    }
   ],
   "source": [
    "# repeat print 5 times\n",
    "for i in range(5):\n",
    "    print(\"Hello World!\")"
   ]
  },
  {
   "cell_type": "markdown",
   "metadata": {},
   "source": [
    " "
   ]
  },
  {
   "cell_type": "markdown",
   "metadata": {},
   "source": [
    "***"
   ]
  },
  {
   "cell_type": "markdown",
   "metadata": {},
   "source": [
    " "
   ]
  },
  {
   "cell_type": "markdown",
   "metadata": {},
   "source": [
    "## 1) While loop\n",
    "\n",
    "In python, while loops are used to repeatedly execute a block of code while a set condition is `True`. When the condition becomes `False`, the program moves on and the code after the loop is executed. Works similarly to an if statement, the difference being it repeats until the condition is false rather than executing just once.\n",
    "\n",
    "The syntax of while loops is similar to the if statement:\n",
    "```python\n",
    "while expression:\n",
    "    statement(s)\n",
    "```\n",
    "Remember to include the colon (`:`) and indent the statements inside the loop.\n"
   ]
  },
  {
   "cell_type": "code",
   "execution_count": 3,
   "metadata": {},
   "outputs": [
    {
     "name": "stdout",
     "output_type": "stream",
     "text": [
      "Iteration: 1\n",
      "Iteration: 2\n",
      "Iteration: 3\n",
      "Iteration: 4\n",
      "Iteration: 5\n"
     ]
    }
   ],
   "source": [
    "count = 0\n",
    "while (count < 5):\n",
    "    count = count + 1\n",
    "    print(\"Iteration:\", count)"
   ]
  },
  {
   "cell_type": "code",
   "execution_count": null,
   "metadata": {},
   "outputs": [
    {
     "name": "stdout",
     "output_type": "stream",
     "text": [
      "Enter an integer: 9\n",
      "9 squared = 81\n",
      "Enter an integer: 0\n",
      "0 squared = 0\n"
     ]
    }
   ],
   "source": [
    "user_input = input(\"Enter an integer: \")\n",
    "while (user_input != \"END\"):\n",
    "    x = int(user_input) ** 2\n",
    "    print(user_input, \"squared =\", x)\n",
    "    user_input = input(\"Enter an integer: \")"
   ]
  },
  {
   "cell_type": "markdown",
   "metadata": {},
   "source": [
    "**Beware of infinite loops**. You can cause an infinite loop if there is no way for your loop to stop, meaning the loop will go on forever and the program will hang."
   ]
  },
  {
   "cell_type": "code",
   "execution_count": null,
   "metadata": {},
   "outputs": [],
   "source": [
    "count = 1\n",
    "\n",
    "while (count < 5):\n",
    "    print(\"count less than 5\")\n",
    "    # no increment of count"
   ]
  },
  {
   "cell_type": "markdown",
   "metadata": {},
   "source": [
    " "
   ]
  },
  {
   "cell_type": "markdown",
   "metadata": {},
   "source": [
    "***"
   ]
  },
  {
   "cell_type": "markdown",
   "metadata": {},
   "source": [
    " "
   ]
  },
  {
   "cell_type": "markdown",
   "metadata": {},
   "source": [
    "## 2) For loop\n",
    "\n",
    "For loops are used to loop a set number of times. This means that rather than checking a condition on each loop iteration, the loop goes through a sequence step by step. The sequence could be a range of numbers (1 to 100), a string or (taught in later lectures) a list.\n",
    "\n",
    "### 2.1) Looping through a range\n",
    "\n",
    "In python the `range()` function is used to return a sequence of numbers. The sequence starts from 0 by default, steps (increments) by 1 by default and ends at a specified number. You can specify a different start, stop and step amount. The stopping number for range is exclusive, meaning `range(10)` will be 0 to 9.\n",
    "\n",
    "A python for loop is structured like:\n",
    "\n",
    "```python\n",
    "for i in range(10):\n",
    "    statements(i)\n",
    "```\n",
    "\n",
    "The loop works by assigning a value to the loop variable (`i` here) each iteration, this variable can then be used inside the loop. Therefore each iteration the value of `i` changes, altering the result of the code block inside the loop."
   ]
  },
  {
   "cell_type": "code",
   "execution_count": 5,
   "metadata": {},
   "outputs": [
    {
     "name": "stdout",
     "output_type": "stream",
     "text": [
      "0\n",
      "1\n",
      "2\n",
      "3\n",
      "4\n",
      "5\n",
      "6\n",
      "7\n",
      "8\n",
      "9\n"
     ]
    }
   ],
   "source": [
    "# range with just a stop\n",
    "for i in range(10):\n",
    "    print(i)"
   ]
  },
  {
   "cell_type": "markdown",
   "metadata": {},
   "source": [
    "In order to specify a different starting point you have to provide both a starting and end point in the brackets. This means the syntax is `range(start, end)`, where start and end are integers."
   ]
  },
  {
   "cell_type": "code",
   "execution_count": 6,
   "metadata": {},
   "outputs": [
    {
     "name": "stdout",
     "output_type": "stream",
     "text": [
      "5\n",
      "6\n",
      "7\n",
      "8\n",
      "9\n",
      "10\n",
      "11\n",
      "12\n",
      "13\n",
      "14\n"
     ]
    }
   ],
   "source": [
    "# range with start and stop\n",
    "for i in range(5, 15):\n",
    "    print(i)"
   ]
  },
  {
   "cell_type": "markdown",
   "metadata": {},
   "source": [
    "In order to change the step amount you need to provide start, stop and step in the brackets. \n",
    "\n",
    "Therefore the syntax is: `range(start, stop, step)`, again all integers."
   ]
  },
  {
   "cell_type": "code",
   "execution_count": 7,
   "metadata": {},
   "outputs": [
    {
     "name": "stdout",
     "output_type": "stream",
     "text": [
      "0\n",
      "3\n",
      "6\n",
      "9\n",
      "12\n",
      "15\n",
      "18\n",
      "21\n",
      "24\n",
      "27\n"
     ]
    }
   ],
   "source": [
    "# range with start, stop and specified step\n",
    "for i in range(0, 30, 3):\n",
    "    print(i)"
   ]
  },
  {
   "cell_type": "markdown",
   "metadata": {},
   "source": [
    "When you specify a custom step, it is also possible to use a negative step. This allows you iterate backwards, meaning you have an end number which is less than your start."
   ]
  },
  {
   "cell_type": "code",
   "execution_count": 8,
   "metadata": {},
   "outputs": [
    {
     "name": "stdout",
     "output_type": "stream",
     "text": [
      "5\n",
      "4\n",
      "3\n",
      "2\n",
      "1\n"
     ]
    }
   ],
   "source": [
    "for i in range(5, 0, -1):\n",
    "    print(i)"
   ]
  },
  {
   "cell_type": "code",
   "execution_count": 9,
   "metadata": {},
   "outputs": [
    {
     "name": "stdout",
     "output_type": "stream",
     "text": [
      "0\n",
      "-2\n",
      "-4\n",
      "-6\n",
      "-8\n"
     ]
    }
   ],
   "source": [
    "for i in range(0, -10, -2):\n",
    "    print(i)"
   ]
  },
  {
   "cell_type": "markdown",
   "metadata": {},
   "source": [
    "## 2.2) Looping through a string\n",
    "\n",
    "For loops can also be used to loop over iterable objects. This means an object which can be broken down and stepped through. The only iterable object we have come across so far is a `string`, however we will meet more soon.\n",
    "\n",
    "To iterate over a string you use the syntax `for i in string`, this means that for each loop iteration `i` is assigned the next character from the string."
   ]
  },
  {
   "cell_type": "code",
   "execution_count": 12,
   "metadata": {},
   "outputs": [
    {
     "name": "stdout",
     "output_type": "stream",
     "text": [
      "H\n",
      "e\n",
      "l\n",
      "l\n",
      "o\n",
      " \n",
      "W\n",
      "o\n",
      "r\n",
      "l\n",
      "d\n",
      "!\n"
     ]
    }
   ],
   "source": [
    "string = \"Hello World!\"\n",
    "\n",
    "for i in string:\n",
    "    print(i)"
   ]
  },
  {
   "cell_type": "markdown",
   "metadata": {},
   "source": [
    " "
   ]
  },
  {
   "cell_type": "markdown",
   "metadata": {},
   "source": [
    "***"
   ]
  },
  {
   "cell_type": "markdown",
   "metadata": {},
   "source": [
    " "
   ]
  },
  {
   "cell_type": "markdown",
   "metadata": {},
   "source": [
    "## 3) Nested loops\n",
    "\n",
    "As the programs you write get more complex, there will be situations where you want to loop through multiple things at a time. This can be done by using nested loops, which are just loops inside loops. \n",
    "\n",
    "An example of this is:\n",
    "\n",
    "```python\n",
    "for i in range(5):\n",
    "    for j in range(3):\n",
    "```\n",
    "\n",
    "Here the outer loop is the one with variable `i` and the inner loop is the one with variable `j`. When run the inner loop would be executed completely for each iteration of the outer loop. \n",
    "\n",
    "This means intitially `i = 0` and `j = 0`. First `j` would increment to `j = 1` and then to `j = 2`. The inner loop has completed now so the outer loop would increment, `j` becomes `j = 1`, and the inner loop would run again `i = 0`, `i = 1`, etc. This would be repeated until the outer loop has completed all iterations."
   ]
  },
  {
   "cell_type": "code",
   "execution_count": 11,
   "metadata": {},
   "outputs": [
    {
     "name": "stdout",
     "output_type": "stream",
     "text": [
      "i = 0\n",
      "j = 0\n",
      "j = 1\n",
      "j = 2\n",
      "\n",
      "i = 1\n",
      "j = 0\n",
      "j = 1\n",
      "j = 2\n",
      "\n",
      "i = 2\n",
      "j = 0\n",
      "j = 1\n",
      "j = 2\n",
      "\n",
      "i = 3\n",
      "j = 0\n",
      "j = 1\n",
      "j = 2\n",
      "\n",
      "i = 4\n",
      "j = 0\n",
      "j = 1\n",
      "j = 2\n",
      "\n"
     ]
    }
   ],
   "source": [
    "for i in range(5):\n",
    "    print(\"i =\", i)\n",
    "    for j in range(3):\n",
    "        print(\"j =\", j)\n",
    "    print()"
   ]
  },
  {
   "cell_type": "code",
   "execution_count": 1,
   "metadata": {},
   "outputs": [
    {
     "name": "stdout",
     "output_type": "stream",
     "text": [
      "H\n",
      "e\n",
      "l\n",
      "l\n",
      "o\n",
      "H\n",
      "e\n",
      "l\n",
      "l\n",
      "o\n",
      "H\n",
      "e\n",
      "l\n",
      "l\n",
      "o\n",
      "H\n",
      "e\n",
      "l\n",
      "l\n",
      "o\n",
      "H\n",
      "e\n",
      "l\n",
      "l\n",
      "o\n"
     ]
    }
   ],
   "source": [
    "for i in range(5):\n",
    "    for letter in \"Hello\":\n",
    "        print(letter)"
   ]
  },
  {
   "cell_type": "markdown",
   "metadata": {},
   "source": [
    "You can combine the different types of loops to make any combination of nested loops."
   ]
  },
  {
   "cell_type": "markdown",
   "metadata": {},
   "source": [
    " "
   ]
  },
  {
   "cell_type": "markdown",
   "metadata": {},
   "source": [
    "***"
   ]
  },
  {
   "cell_type": "markdown",
   "metadata": {},
   "source": [
    " "
   ]
  },
  {
   "cell_type": "markdown",
   "metadata": {},
   "source": [
    "## 4) Loop Control Statements\n",
    "\n",
    "These statements can be used to alter the flow of a loop. Usually used in conjunction with an if statement - if a condition is met then alter the loop flow.\n",
    "\n",
    "\n",
    "### 4.1) Break \n",
    "\n",
    "`break` is used to prematurely exit a loop. It will cause the current loop to be stopped immediately and move the program on to the code after the loop."
   ]
  },
  {
   "cell_type": "code",
   "execution_count": 3,
   "metadata": {},
   "outputs": [
    {
     "name": "stdout",
     "output_type": "stream",
     "text": [
      "0\n",
      "1\n",
      "2\n",
      "3\n",
      "4\n"
     ]
    }
   ],
   "source": [
    "for i in range(10):\n",
    "    if i == 5:\n",
    "        break\n",
    "    print(i)"
   ]
  },
  {
   "cell_type": "markdown",
   "metadata": {},
   "source": [
    "### 4.2) Continue\n",
    "\n",
    "`continue` is used to skip the current iteration of the loop, moving straight on to the next one. This can be used if you don't need to execute more code in that loop iteration as a condition is already met."
   ]
  },
  {
   "cell_type": "code",
   "execution_count": 4,
   "metadata": {},
   "outputs": [
    {
     "name": "stdout",
     "output_type": "stream",
     "text": [
      "Found an even number 2\n",
      "Found a number 3\n",
      "Found an even number 4\n",
      "Found a number 5\n",
      "Found an even number 6\n",
      "Found a number 7\n",
      "Found an even number 8\n",
      "Found a number 9\n"
     ]
    }
   ],
   "source": [
    "for num in range(2, 10):\n",
    "    if num % 2 == 0:\n",
    "        print(\"Found an even number\", num)\n",
    "        continue\n",
    "    print(\"Found a number\", num)"
   ]
  },
  {
   "cell_type": "markdown",
   "metadata": {},
   "source": [
    "### 4.3) Else with loops\n",
    "\n",
    "Just like if statements, loops in python can be combined with an else statement. However with loops it works differently, here the else statement is run when the loop terminates successfully. This would be when the condition becomes false in a while loop, and the iterations are complete in a for loop. If you use a `break` to exit the loop, the else statement will not be run.\n",
    "\n",
    "The main reason to use an else statement with a loop is if you're searching for an item that meets a particular condition and need to perform additional actions or raise an error if no value is found."
   ]
  },
  {
   "cell_type": "code",
   "execution_count": 10,
   "metadata": {},
   "outputs": [
    {
     "name": "stdout",
     "output_type": "stream",
     "text": [
      "y found\n"
     ]
    }
   ],
   "source": [
    "word = \"python\"\n",
    "search = \"y\"\n",
    "\n",
    "# check if word contains letter, 'error' if not\n",
    "for letter in word:\n",
    "    if letter == search:\n",
    "        print(search, \"found\")\n",
    "        break\n",
    "else:\n",
    "    # can raise an error here\n",
    "    print(\"There is no\", search, \"in\", word)"
   ]
  },
  {
   "cell_type": "code",
   "execution_count": 9,
   "metadata": {},
   "outputs": [
    {
     "name": "stdout",
     "output_type": "stream",
     "text": [
      "13\n"
     ]
    }
   ],
   "source": [
    "num = 13\n",
    "\n",
    "# get first number divisible by num in range\n",
    "for i in range(1,100):\n",
    "    if i % num == 0:\n",
    "        print(i)\n",
    "        break\n",
    "else:\n",
    "    print(\"no numbers divisible by\", num, \"in range\")"
   ]
  },
  {
   "cell_type": "markdown",
   "metadata": {},
   "source": [
    "## 5) Useful statements\n",
    "\n",
    "### 5.1) Print end\n",
    "\n",
    "In python, if you want to print multiple times on the same line you have to make use of the `end` option in print. This allows you to specify what to put at the end of the print statement, which by default is a new line character. If I wanted to not go to a new line the syntax is: `print(\"string\", end=\"\")`. The empty string assigned to end means that nothing is put at the end of the line."
   ]
  },
  {
   "cell_type": "code",
   "execution_count": null,
   "metadata": {},
   "outputs": [],
   "source": [
    "print(\"first print\", end=\"\")\n",
    "print(\", second print\") # print on same line"
   ]
  },
  {
   "cell_type": "markdown",
   "metadata": {},
   "source": [
    "You can specify different characters or strings instead of an empty string, such as a comma (`,`), and these will be used instead. This can come in useful when formatting print statements in loops."
   ]
  },
  {
   "cell_type": "code",
   "execution_count": null,
   "metadata": {},
   "outputs": [],
   "source": [
    "print(\"first print\", end=\", \")\n",
    "print(\"second print\") # print on same line"
   ]
  },
  {
   "cell_type": "code",
   "execution_count": 11,
   "metadata": {},
   "outputs": [
    {
     "name": "stdout",
     "output_type": "stream",
     "text": [
      "0, 1, 2, 3, 4, 5\n"
     ]
    }
   ],
   "source": [
    "# sperate prints with comma, except last one\n",
    "for i in range(6):\n",
    "    if i != 5:\n",
    "        print(i, end=\", \")\n",
    "    else:\n",
    "        print(i)"
   ]
  },
  {
   "cell_type": "markdown",
   "metadata": {},
   "source": [
    "### 5.2) Assignment Operators\n",
    "\n",
    "The mathematical operators we encounted in the first lecture are useful for performing calculations and assigning the results to a different variable. However what if you want to keep manipulating one variable, such as incrementing count. \n",
    "\n",
    "So far we have seen this done with: `count = count + 1`. In python you can improve this by using the assignment operator `+=` to perform the same operation, turning it into `count += 1`.\n",
    "\n",
    "These assignment operators exist for all the mathematical operators we have met and you can make use of them when possible."
   ]
  },
  {
   "cell_type": "code",
   "execution_count": null,
   "metadata": {},
   "outputs": [],
   "source": [
    "x = 10"
   ]
  },
  {
   "cell_type": "code",
   "execution_count": null,
   "metadata": {},
   "outputs": [],
   "source": [
    "x += 5  # x = x + 5"
   ]
  },
  {
   "cell_type": "code",
   "execution_count": null,
   "metadata": {},
   "outputs": [],
   "source": [
    "x -= 5  # x = x - 5"
   ]
  },
  {
   "cell_type": "code",
   "execution_count": null,
   "metadata": {},
   "outputs": [],
   "source": [
    "x *= 5  # x = x * 5"
   ]
  },
  {
   "cell_type": "code",
   "execution_count": null,
   "metadata": {},
   "outputs": [],
   "source": [
    "x /= 5  # x = x / 5"
   ]
  },
  {
   "cell_type": "code",
   "execution_count": null,
   "metadata": {},
   "outputs": [],
   "source": [
    "x %= 5  # x = x % 5"
   ]
  },
  {
   "cell_type": "code",
   "execution_count": null,
   "metadata": {},
   "outputs": [],
   "source": [
    "x //= 5  # x = x // 5"
   ]
  },
  {
   "cell_type": "code",
   "execution_count": null,
   "metadata": {},
   "outputs": [],
   "source": [
    "x **= 5  # x = x ** 5"
   ]
  },
  {
   "cell_type": "code",
   "execution_count": null,
   "metadata": {},
   "outputs": [],
   "source": [
    "print(x)"
   ]
  }
 ],
 "metadata": {
  "colab": {
   "name": "23-03.ipynb",
   "provenance": [],
   "version": "0.3.2"
  },
  "kernelspec": {
   "display_name": "Python 3",
   "language": "python",
   "name": "python3"
  },
  "language_info": {
   "codemirror_mode": {
    "name": "ipython",
    "version": 3
   },
   "file_extension": ".py",
   "mimetype": "text/x-python",
   "name": "python",
   "nbconvert_exporter": "python",
   "pygments_lexer": "ipython3",
   "version": "3.7.4"
  }
 },
 "nbformat": 4,
 "nbformat_minor": 1
}
