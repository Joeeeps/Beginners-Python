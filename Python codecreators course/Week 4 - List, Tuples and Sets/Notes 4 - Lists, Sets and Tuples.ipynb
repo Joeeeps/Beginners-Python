{
 "cells": [
  {
   "cell_type": "markdown",
   "metadata": {},
   "source": [
    "# Notes 4 - Lists, Sets and Tuples\n",
    "\n",
    "Lists, sets and tuples are all collection data types in Python. Being a collection means that they contain other data types, such as strings, ints, floats, booleans or even other collections. In most programming languages collections are homogeneous, meaning they can only contain one data type. However in Python this isn't true, you can store any data types in the same collection, making them a very powerful tool.\n",
    "\n",
    "When choosing a collection type, it is useful to understand the properties of that type. Choosing the right type for a particular data set could mean an increase in efficiency or security."
   ]
  },
  {
   "cell_type": "markdown",
   "metadata": {},
   "source": [
    " "
   ]
  },
  {
   "cell_type": "markdown",
   "metadata": {},
   "source": [
    "***"
   ]
  },
  {
   "cell_type": "markdown",
   "metadata": {},
   "source": [
    " "
   ]
  },
  {
   "cell_type": "markdown",
   "metadata": {},
   "source": [
    "## 1) Lists\n",
    "\n",
    "The most common collection type to use is a List. Lists maintain the **order** of the elements they contain, they **allow duplicates** of the same element and they are also **changeable**, meaning elements can be added, removed or altered."
   ]
  },
  {
   "cell_type": "markdown",
   "metadata": {},
   "source": [
    "### 1.1) Creating a list\n",
    "Lists are constructed using square brackets (`[]`), and each element is separated by a comma (`,`).\n",
    "\n",
    "\n",
    "     list1 =  [Element1, Element2, Element3, Element4]\n",
    "     \n",
    "Below are some examples of list creation."
   ]
  },
  {
   "cell_type": "code",
   "execution_count": 2,
   "metadata": {},
   "outputs": [
    {
     "name": "stdout",
     "output_type": "stream",
     "text": [
      "['Rafael', 'Oliver', 'Sam']\n"
     ]
    }
   ],
   "source": [
    "# List of Strings\n",
    "names = [\"Rafael\", \"Oliver\", \"Sam\"]\n",
    "\n",
    "print(names)"
   ]
  },
  {
   "cell_type": "code",
   "execution_count": 3,
   "metadata": {},
   "outputs": [
    {
     "name": "stdout",
     "output_type": "stream",
     "text": [
      "[1213, 35252, 1343652]\n"
     ]
    }
   ],
   "source": [
    "# List of Numbers\n",
    "nums = [1213, 35252, 1343652]\n",
    "\n",
    "print(nums)"
   ]
  },
  {
   "cell_type": "code",
   "execution_count": 4,
   "metadata": {},
   "outputs": [
    {
     "name": "stdout",
     "output_type": "stream",
     "text": [
      "[True, False, False]\n"
     ]
    }
   ],
   "source": [
    "# List of Boolean values\n",
    "bools = [True, False, False]\n",
    "\n",
    "print(bools)"
   ]
  },
  {
   "cell_type": "code",
   "execution_count": 5,
   "metadata": {},
   "outputs": [
    {
     "name": "stdout",
     "output_type": "stream",
     "text": [
      "[True, 'Rafael', 142536]\n"
     ]
    }
   ],
   "source": [
    "# List of varying datatypes\n",
    "mixed_list = [True, \"Rafael\", 142536]\n",
    "\n",
    "print(mixed_list)"
   ]
  },
  {
   "cell_type": "markdown",
   "metadata": {},
   "source": [
    "You can also declare an empty list by just using the square brackets. This is very useful when you want to start with an empty list and add items as you progress through a loop or your program."
   ]
  },
  {
   "cell_type": "code",
   "execution_count": 6,
   "metadata": {},
   "outputs": [
    {
     "name": "stdout",
     "output_type": "stream",
     "text": [
      "[]\n"
     ]
    }
   ],
   "source": [
    "# Empty List\n",
    "empty_list = []\n",
    "\n",
    "print(empty_list)"
   ]
  },
  {
   "cell_type": "markdown",
   "metadata": {},
   "source": [
    " "
   ]
  },
  {
   "cell_type": "markdown",
   "metadata": {},
   "source": [
    "### 1.2) List of Lists\n",
    "\n",
    "As mentioned before lists can contain any datatype, meaning you can even have lists inside of a list. The creation of a list of lists is the same as with any other list:\n",
    "\n",
    "    list1 = [[Element1, Element2], [Element3, Element4], [Element5, Element6]]"
   ]
  },
  {
   "cell_type": "code",
   "execution_count": 7,
   "metadata": {},
   "outputs": [
    {
     "name": "stdout",
     "output_type": "stream",
     "text": [
      "[['Rafael', 'Jack'], ['Rahul', 'Alex'], ['Brad', 'Bob']]\n"
     ]
    }
   ],
   "source": [
    "pairs = [[\"Rafael\", \"Jack\"], [\"Rahul\", \"Alex\"], [\"Brad\", \"Bob\"]]\n",
    "\n",
    "print(pairs)"
   ]
  },
  {
   "cell_type": "markdown",
   "metadata": {},
   "source": [
    "Again you can mix data types with lists so you can end up a list like:"
   ]
  },
  {
   "cell_type": "code",
   "execution_count": 8,
   "metadata": {},
   "outputs": [
    {
     "name": "stdout",
     "output_type": "stream",
     "text": [
      "[[4, 'Hello', 16], 2132, 'CodeCreators']\n"
     ]
    }
   ],
   "source": [
    "mixed_list = [[4, \"Hello\", 16], 2132, \"CodeCreators\"]\n",
    "\n",
    "print(mixed_list)"
   ]
  },
  {
   "cell_type": "markdown",
   "metadata": {},
   "source": [
    " "
   ]
  },
  {
   "cell_type": "markdown",
   "metadata": {},
   "source": [
    "### 1.3) Accessing items\n",
    "\n",
    "#### 1.3.1) Indexing\n",
    "\n",
    "Now that you can create a list, you need to know how to access the elements they contain. You can access list items by referring to the index number, where this is the position of the item in the list - starting from 0. In Python, and most programming languages, the **first item in a list is at position 0** rather than 1. The syntax to get an item using its index is `list[index]`.\n",
    "\n",
    "This means that in the list `names = [\"Bob\", \"Fred\", \"Bill\"]`:\n",
    "- `names[0] = \"Bob\"` \n",
    "\n",
    "- `names[1] = \"Fred\"`\n",
    "\n",
    "- `names[2] = \"Bill\"`\n"
   ]
  },
  {
   "cell_type": "code",
   "execution_count": 9,
   "metadata": {},
   "outputs": [
    {
     "name": "stdout",
     "output_type": "stream",
     "text": [
      "Bob\n"
     ]
    }
   ],
   "source": [
    "names = [\"Bob\", \"Fred\", \"Bill\", \"Rafael\", \"Olly\"]\n",
    "\n",
    "# Returning \"Bob\" at index 0\n",
    "print(names[0])"
   ]
  },
  {
   "cell_type": "code",
   "execution_count": null,
   "metadata": {},
   "outputs": [],
   "source": [
    "# Returning \"Fred\" at index 1\n",
    "print(names[1])"
   ]
  },
  {
   "cell_type": "code",
   "execution_count": null,
   "metadata": {},
   "outputs": [],
   "source": [
    "# Returning \"Bill\" at index 2\n",
    "print(names[2])"
   ]
  },
  {
   "cell_type": "markdown",
   "metadata": {},
   "source": [
    " "
   ]
  },
  {
   "cell_type": "markdown",
   "metadata": {},
   "source": [
    "#### 1.3.2) Negative Indexing\n",
    "\n",
    "You can also use negative indexing in Python, this instead counts positions from the last item in the list. Meaning you can get the last element in the list `names` using `names[-1]`, the second last using `names[-2]`, etc."
   ]
  },
  {
   "cell_type": "code",
   "execution_count": null,
   "metadata": {},
   "outputs": [],
   "source": [
    "names = [\"Bob\", \"Fred\", \"Bill\", \"Rafael\", \"Olly\"]\n",
    "\n",
    "# Returning last item in list, \"Olly\"\n",
    "print(names[-1])"
   ]
  },
  {
   "cell_type": "code",
   "execution_count": null,
   "metadata": {},
   "outputs": [],
   "source": [
    "# Returning penultimate item in list, \"Rafael\"\n",
    "print(names[-2])"
   ]
  },
  {
   "cell_type": "markdown",
   "metadata": {},
   "source": [
    " "
   ]
  },
  {
   "cell_type": "markdown",
   "metadata": {},
   "source": [
    "#### 1.3.3) Range of Indexes\n",
    "\n",
    "You can also use a range of indexes by specifying where to start and where to end the range, this can also be called 'slicing'. This will return a new list which contains only the items in the specified range. The syntax of this is `list[start_index : end_index]`, where the item at the starting index will be included and the item at the end index will not be.\n",
    "\n",
    "Remember that **indexing starts at 0**."
   ]
  },
  {
   "cell_type": "code",
   "execution_count": 10,
   "metadata": {},
   "outputs": [
    {
     "name": "stdout",
     "output_type": "stream",
     "text": [
      "[1, 2, 3]\n"
     ]
    }
   ],
   "source": [
    "nums = [0, 1, 2, 3, 4, 5]\n",
    "\n",
    "# Get items at index 1 to 3 inclusive\n",
    "print(nums[1:4])"
   ]
  },
  {
   "cell_type": "code",
   "execution_count": null,
   "metadata": {},
   "outputs": [],
   "source": [
    "# Get items at index 3 to 4 inclusive\n",
    "print(nums[3:5])"
   ]
  },
  {
   "cell_type": "markdown",
   "metadata": {},
   "source": [
    " "
   ]
  },
  {
   "cell_type": "markdown",
   "metadata": {},
   "source": [
    "You can also choose not to specify a start or end index, this will mean it includes all the before or after items."
   ]
  },
  {
   "cell_type": "code",
   "execution_count": 11,
   "metadata": {},
   "outputs": [
    {
     "name": "stdout",
     "output_type": "stream",
     "text": [
      "[0, 1, 2, 3]\n"
     ]
    }
   ],
   "source": [
    "# Get all items before index 4\n",
    "print(nums[:4])"
   ]
  },
  {
   "cell_type": "code",
   "execution_count": null,
   "metadata": {},
   "outputs": [],
   "source": [
    "# Get all items after (including) item 3\n",
    "print(nums[3:])"
   ]
  },
  {
   "cell_type": "markdown",
   "metadata": {},
   "source": [
    " "
   ]
  },
  {
   "cell_type": "markdown",
   "metadata": {},
   "source": [
    "You can also specify a step when using a range of indexes. The step means it will go through the list and only take an item each step amount. The syntax for this is `list[start_index : end_index : step]`."
   ]
  },
  {
   "cell_type": "code",
   "execution_count": null,
   "metadata": {},
   "outputs": [],
   "source": [
    "nums = [0, 1, 2, 3, 4, 5]\n",
    "\n",
    "# Takes the elements from 1-4 inclusive in steps of 2\n",
    "print(nums[1:5:2])"
   ]
  },
  {
   "cell_type": "markdown",
   "metadata": {},
   "source": [
    " "
   ]
  },
  {
   "cell_type": "markdown",
   "metadata": {},
   "source": [
    "Similar to before, you can also choose not to specify a start or end index."
   ]
  },
  {
   "cell_type": "code",
   "execution_count": 12,
   "metadata": {},
   "outputs": [
    {
     "name": "stdout",
     "output_type": "stream",
     "text": [
      "[0, 2, 4]\n"
     ]
    }
   ],
   "source": [
    "# Steps by 2\n",
    "print(nums[::2])"
   ]
  },
  {
   "cell_type": "code",
   "execution_count": null,
   "metadata": {},
   "outputs": [],
   "source": [
    "# Steps by 3\n",
    "print(nums[::3])"
   ]
  },
  {
   "cell_type": "markdown",
   "metadata": {},
   "source": [
    " "
   ]
  },
  {
   "cell_type": "markdown",
   "metadata": {},
   "source": [
    "You can also use negative steps to step through the list in reverse, one use of this is to reverse a list."
   ]
  },
  {
   "cell_type": "code",
   "execution_count": null,
   "metadata": {},
   "outputs": [],
   "source": [
    "nums = [0, 1, 2, 3, 4, 5]\n",
    "\n",
    "# Increments by -1, reversing list\n",
    "print(nums[::-1])"
   ]
  },
  {
   "cell_type": "markdown",
   "metadata": {},
   "source": [
    " "
   ]
  },
  {
   "cell_type": "markdown",
   "metadata": {},
   "source": [
    "### 1.4) Change Item Value\n",
    "\n",
    "You can change specific items in a list by using its index in the list. This is done the same as accessing by indexing, except you use an assignment to change value held.\n"
   ]
  },
  {
   "cell_type": "code",
   "execution_count": 13,
   "metadata": {},
   "outputs": [
    {
     "name": "stdout",
     "output_type": "stream",
     "text": [
      "['Bob', 'Fred', 'Bill', 'Rafael', 'Olly']\n",
      "['Sponge', 'Fred', 'Bill', 'Rafael', 'Olly']\n"
     ]
    }
   ],
   "source": [
    "names = [\"Bob\", \"Fred\", \"Bill\", \"Rafael\", \"Olly\"]\n",
    "print(names)\n",
    "\n",
    "names[0] = \"Sponge\"\n",
    "\n",
    "print(names)"
   ]
  },
  {
   "cell_type": "code",
   "execution_count": 14,
   "metadata": {},
   "outputs": [
    {
     "name": "stdout",
     "output_type": "stream",
     "text": [
      "['Sponge', 'Fred', 'Sandy', 'Rafael', 'Olly']\n"
     ]
    }
   ],
   "source": [
    "names[2] = \"Sandy\"\n",
    "\n",
    "print(names)"
   ]
  },
  {
   "cell_type": "code",
   "execution_count": 15,
   "metadata": {
    "scrolled": true
   },
   "outputs": [
    {
     "name": "stdout",
     "output_type": "stream",
     "text": [
      "['Sponge', 'Fred', 'Sandy', 'Rafael', 'Patrick']\n"
     ]
    }
   ],
   "source": [
    "names[-1] = \"Patrick\"\n",
    "\n",
    "print(names)"
   ]
  },
  {
   "cell_type": "markdown",
   "metadata": {},
   "source": [
    " "
   ]
  },
  {
   "cell_type": "markdown",
   "metadata": {},
   "source": [
    "### 1.5) Check if item exists\n",
    "\n",
    "To check whether a specified item exists in a list you can use the `in` keyword to search for it. This will return `True` if the item is in the list."
   ]
  },
  {
   "cell_type": "code",
   "execution_count": null,
   "metadata": {},
   "outputs": [],
   "source": [
    "names = [\"Bob\", \"Fred\", \"Bill\", \"Rafael\", \"Olly\"]\n",
    "\n",
    "if \"Rafael\" in names:\n",
    "    print(\"Rafael is in the list of names\")"
   ]
  },
  {
   "cell_type": "code",
   "execution_count": null,
   "metadata": {},
   "outputs": [],
   "source": [
    "# Gets the user's input and check if contains in the list\n",
    "user_input = input(\"Please insert your name\")\n",
    "\n",
    "if user_input in names:\n",
    "    print(user_input, \"is in the list of names\")\n",
    "else:\n",
    "    print(user_input, \"is NOT in the list of names\")"
   ]
  },
  {
   "cell_type": "code",
   "execution_count": null,
   "metadata": {},
   "outputs": [],
   "source": [
    "# You can also check if a number is contained in the list\n",
    "num = 5\n",
    "nums = [1, 2, 3, 4, 5]\n",
    "\n",
    "if num in nums: \n",
    "    print(num)"
   ]
  },
  {
   "cell_type": "markdown",
   "metadata": {},
   "source": [
    " "
   ]
  },
  {
   "cell_type": "markdown",
   "metadata": {},
   "source": [
    "***"
   ]
  },
  {
   "cell_type": "markdown",
   "metadata": {},
   "source": [
    " "
   ]
  },
  {
   "cell_type": "markdown",
   "metadata": {},
   "source": [
    "## 2) Lists Methods\n",
    "\n",
    "In Python more complex objects, such as Lists, can have functions which belong to them called 'methods'. These methods are callable and allow us to manipulate the object in certain ways. Methods are called with the syntax: `list.method()`, where `list` is a list object and `method` is a valid method name.\n"
   ]
  },
  {
   "cell_type": "markdown",
   "metadata": {},
   "source": [
    "### 2.1) Append\n",
    "\n",
    "If you want to add extra items to a list one option is to use `.append(item)`. This adds the `item` onto the end of the `list`, extending the list by one item rather than replacing the last item."
   ]
  },
  {
   "cell_type": "code",
   "execution_count": 16,
   "metadata": {},
   "outputs": [
    {
     "name": "stdout",
     "output_type": "stream",
     "text": [
      "['Rafael', 'Bob']\n",
      "['Rafael', 'Bob', 'Oliver']\n"
     ]
    }
   ],
   "source": [
    "names = [\"Rafael\", \"Bob\"]\n",
    "print(names)\n",
    "\n",
    "names.append(\"Oliver\")\n",
    "\n",
    "print(names)"
   ]
  },
  {
   "cell_type": "code",
   "execution_count": null,
   "metadata": {
    "scrolled": true
   },
   "outputs": [],
   "source": [
    "nums = [3, 4, 5, 6]\n",
    "print(nums)\n",
    "\n",
    "nums.append(7)\n",
    "\n",
    "print(nums)"
   ]
  },
  {
   "cell_type": "markdown",
   "metadata": {},
   "source": [
    " "
   ]
  },
  {
   "cell_type": "markdown",
   "metadata": {},
   "source": [
    "### 2.2) Insert\n",
    "\n",
    "Another way of adding an item to a list is by using the method `.insert(index, item)`. This works similarly to append, however it instead adds the item at the specified `index`, moving all the items from that index up by one."
   ]
  },
  {
   "cell_type": "code",
   "execution_count": 18,
   "metadata": {},
   "outputs": [
    {
     "name": "stdout",
     "output_type": "stream",
     "text": [
      "['Rafael', 'Bob']\n",
      "['Rafael', 'Oliver', 'Bob']\n"
     ]
    }
   ],
   "source": [
    "names = [\"Rafael\", \"Bob\"]\n",
    "print(names)\n",
    "\n",
    "# insert \"Oliver\" at index 1\n",
    "names.insert(1, \"Oliver\")\n",
    "\n",
    "print(names)"
   ]
  },
  {
   "cell_type": "code",
   "execution_count": 19,
   "metadata": {},
   "outputs": [
    {
     "name": "stdout",
     "output_type": "stream",
     "text": [
      "[3, 4, 5, 6]\n",
      "[3, 4, 7, 5, 6]\n"
     ]
    }
   ],
   "source": [
    "nums = [3, 4, 5, 6]\n",
    "print(nums)\n",
    "\n",
    "# insert number 7 at index 2\n",
    "nums.insert(2, 7)\n",
    "\n",
    "print(nums)"
   ]
  },
  {
   "cell_type": "markdown",
   "metadata": {},
   "source": [
    " "
   ]
  },
  {
   "cell_type": "markdown",
   "metadata": {},
   "source": [
    "As lists can store any type of items, you can also `insert` or `append` a list into a list."
   ]
  },
  {
   "cell_type": "code",
   "execution_count": 20,
   "metadata": {},
   "outputs": [
    {
     "name": "stdout",
     "output_type": "stream",
     "text": [
      "[3, 4, 5, 6]\n",
      "[3, 4, [1, 2], 5, 6]\n"
     ]
    }
   ],
   "source": [
    "nums = [3, 4, 5, 6]\n",
    "print(nums)\n",
    "\n",
    "nums.insert(2, [1, 2])\n",
    "# nums.insert(2, [\"Rafael\", \"Bob\"])\n",
    "\n",
    "print(nums)"
   ]
  },
  {
   "cell_type": "markdown",
   "metadata": {},
   "source": [
    " "
   ]
  },
  {
   "cell_type": "markdown",
   "metadata": {},
   "source": [
    "### 2.3) Extend\n",
    "\n",
    "If you want to add more than one item to the end of a list, such as a whole other list of items, you would use the method `list1.extend(list2)`. This takes all the items in `list2` and appends them to `list1`."
   ]
  },
  {
   "cell_type": "code",
   "execution_count": 21,
   "metadata": {},
   "outputs": [
    {
     "name": "stdout",
     "output_type": "stream",
     "text": [
      "[1, 2, 3, 4, 5, 6, 7, 8, 9, 10]\n"
     ]
    }
   ],
   "source": [
    "nums1 = [1, 2, 3, 4, 5]\n",
    "nums2 = [6, 7, 8, 9, 10]\n",
    "\n",
    "nums1.extend(nums2)\n",
    "\n",
    "print(nums1)"
   ]
  },
  {
   "cell_type": "markdown",
   "metadata": {},
   "source": [
    " "
   ]
  },
  {
   "cell_type": "markdown",
   "metadata": {},
   "source": [
    "There is an alternative to the method `extend` called list concatenation. This performs the same operation, appending a list of items to another list, but allows saving the result to another variable. The syntax for this is `list3 = list1 + list2`."
   ]
  },
  {
   "cell_type": "code",
   "execution_count": null,
   "metadata": {},
   "outputs": [],
   "source": [
    "nums1 = [1, 2, 3, 4, 5]\n",
    "nums2 = [6, 7, 8, 9, 10]\n",
    "\n",
    "nums3 = nums1 + nums2\n",
    "\n",
    "print(nums3)"
   ]
  },
  {
   "cell_type": "markdown",
   "metadata": {},
   "source": [
    " "
   ]
  },
  {
   "cell_type": "markdown",
   "metadata": {},
   "source": [
    "### 2.4) Remove\n",
    "\n",
    "If you want to remove a specific item from a list by its value you can use the method `.remove(item)` and it will remove the **first** instance of that item from the list."
   ]
  },
  {
   "cell_type": "code",
   "execution_count": 22,
   "metadata": {},
   "outputs": [
    {
     "name": "stdout",
     "output_type": "stream",
     "text": [
      "['Bill', 'Bob']\n"
     ]
    }
   ],
   "source": [
    "names = [\"Bill\", \"Bob\", \"Rafael\"]\n",
    "\n",
    "# remove \"Rafael\" from the list names\n",
    "names.remove(\"Rafael\")\n",
    "\n",
    "print(names)"
   ]
  },
  {
   "cell_type": "code",
   "execution_count": null,
   "metadata": {},
   "outputs": [],
   "source": [
    "names = [\"Rafael\", \"Bob\", \"Rafael\"]\n",
    "\n",
    "# will only remove the first instance of \"Rafael\"\n",
    "names.remove(\"Rafael\")\n",
    "\n",
    "print(names)"
   ]
  },
  {
   "cell_type": "markdown",
   "metadata": {},
   "source": [
    " "
   ]
  },
  {
   "cell_type": "markdown",
   "metadata": {},
   "source": [
    "If the item you attempt to remove isn't in the list, you will get an error. This can be avoided by first using the `in` keyword to check whether the item you wish to remove exists inside the list."
   ]
  },
  {
   "cell_type": "code",
   "execution_count": 23,
   "metadata": {},
   "outputs": [
    {
     "ename": "ValueError",
     "evalue": "list.remove(x): x not in list",
     "output_type": "error",
     "traceback": [
      "\u001b[1;31m---------------------------------------------------------------------------\u001b[0m",
      "\u001b[1;31mValueError\u001b[0m                                Traceback (most recent call last)",
      "\u001b[1;32m<ipython-input-23-d842eeca2374>\u001b[0m in \u001b[0;36m<module>\u001b[1;34m\u001b[0m\n\u001b[0;32m      2\u001b[0m \u001b[1;33m\u001b[0m\u001b[0m\n\u001b[0;32m      3\u001b[0m \u001b[1;31m# Error as \"Jose\" isn't in list\u001b[0m\u001b[1;33m\u001b[0m\u001b[1;33m\u001b[0m\u001b[1;33m\u001b[0m\u001b[0m\n\u001b[1;32m----> 4\u001b[1;33m \u001b[0mnames\u001b[0m\u001b[1;33m.\u001b[0m\u001b[0mremove\u001b[0m\u001b[1;33m(\u001b[0m\u001b[1;34m\"Jose\"\u001b[0m\u001b[1;33m)\u001b[0m\u001b[1;33m\u001b[0m\u001b[1;33m\u001b[0m\u001b[0m\n\u001b[0m\u001b[0;32m      5\u001b[0m \u001b[1;33m\u001b[0m\u001b[0m\n\u001b[0;32m      6\u001b[0m \u001b[0mprint\u001b[0m\u001b[1;33m(\u001b[0m\u001b[0mnames\u001b[0m\u001b[1;33m)\u001b[0m\u001b[1;33m\u001b[0m\u001b[1;33m\u001b[0m\u001b[0m\n",
      "\u001b[1;31mValueError\u001b[0m: list.remove(x): x not in list"
     ]
    }
   ],
   "source": [
    "names = [\"Rafael\", \"Bob\",\"Rafael\"]\n",
    "\n",
    "# Error as \"Jose\" isn't in list\n",
    "names.remove(\"Jose\")\n",
    "\n",
    "print(names)"
   ]
  },
  {
   "cell_type": "code",
   "execution_count": 24,
   "metadata": {},
   "outputs": [
    {
     "name": "stdout",
     "output_type": "stream",
     "text": [
      "['Rafael', 'Bob', 'Rafael']\n"
     ]
    }
   ],
   "source": [
    "names = [\"Rafael\", \"Bob\",\"Rafael\"]\n",
    "\n",
    "# Avoid error\n",
    "if \"Jose\" in names:\n",
    "    names.remove(\"Jose\")\n",
    "\n",
    "print(names)"
   ]
  },
  {
   "cell_type": "markdown",
   "metadata": {},
   "source": [
    " "
   ]
  },
  {
   "cell_type": "markdown",
   "metadata": {},
   "source": [
    "### 2.5) Pop\n",
    "\n",
    "Another way of removing an item from a list is using the method `.pop(index)`, where `index` is the index of the item you want to remove. The difference between `remove` and `pop` is that `pop` returns the item you have removed from the list. This means that using the syntax `item = list.pop(index)`, `item` will be the item you have removed from the list."
   ]
  },
  {
   "cell_type": "code",
   "execution_count": 25,
   "metadata": {},
   "outputs": [
    {
     "name": "stdout",
     "output_type": "stream",
     "text": [
      "Removed: 3\n",
      "List: [1, 2, 4, 5, 6]\n"
     ]
    }
   ],
   "source": [
    "nums = [1, 2, 3, 4, 5, 6]\n",
    "\n",
    "removed_num = nums.pop(2)\n",
    "\n",
    "print(\"Removed:\", removed_num)\n",
    "print(\"List:\", nums)"
   ]
  },
  {
   "cell_type": "code",
   "execution_count": null,
   "metadata": {},
   "outputs": [],
   "source": [
    "nums = [1, 2, 3, 4, 5, 6]\n",
    "\n",
    "last_num = nums.pop()\n",
    "\n",
    "print(\"Removed:\", last_num)\n",
    "print(\"List:\", nums)"
   ]
  },
  {
   "cell_type": "markdown",
   "metadata": {},
   "source": [
    " "
   ]
  },
  {
   "cell_type": "markdown",
   "metadata": {},
   "source": [
    "### 2.6) Reverse\n",
    "\n",
    "The `reverse` method can be used to reverse the order of the list."
   ]
  },
  {
   "cell_type": "code",
   "execution_count": null,
   "metadata": {},
   "outputs": [],
   "source": [
    "nums = [1, 2, 3, 4, 5, 6, 7, 9]\n",
    "\n",
    "nums.reverse()\n",
    "\n",
    "print(nums)"
   ]
  },
  {
   "cell_type": "markdown",
   "metadata": {},
   "source": [
    " "
   ]
  },
  {
   "cell_type": "markdown",
   "metadata": {},
   "source": [
    "### 2.7) Join\n",
    "\n",
    "Join is actually a string method but is used along side a list. It is used to convert a list into a string, allowing you to specifiy a seperator string which is added between each item. This seperator is usually a space, comma or newline. The syntax is `seperator.join(list)`, where seperator is the string placed between each item."
   ]
  },
  {
   "cell_type": "code",
   "execution_count": 29,
   "metadata": {},
   "outputs": [
    {
     "name": "stdout",
     "output_type": "stream",
     "text": [
      "Rafael, Oliver, Sam\n"
     ]
    }
   ],
   "source": [
    "names = [\"Rafael\", \"Oliver\", \"Sam\"]\n",
    "\n",
    "# print names, seperated by a comma and space\n",
    "print(', '.join(names))"
   ]
  },
  {
   "cell_type": "markdown",
   "metadata": {},
   "source": [
    " "
   ]
  },
  {
   "cell_type": "markdown",
   "metadata": {},
   "source": [
    "***"
   ]
  },
  {
   "cell_type": "markdown",
   "metadata": {},
   "source": [
    " "
   ]
  },
  {
   "cell_type": "markdown",
   "metadata": {},
   "source": [
    "### 3) Sets \n",
    "\n",
    "Another commonly used collection in Python is Sets. Sets are **unordered**, they **don't allow duplicates** of the same element and they are **unindexed**, meaning you can't refer to an item by index."
   ]
  },
  {
   "cell_type": "markdown",
   "metadata": {},
   "source": [
    "### 3.1) Creating a set\n",
    "\n",
    "Sets are constructed using curly brackets (`{}`), and each element is separated by a comma (`,`).\n",
    "\n",
    "     set1 =  {Element1, Element2, Element3, Element4}\n",
    "     \n",
    "Below are some examples of set creation."
   ]
  },
  {
   "cell_type": "code",
   "execution_count": 26,
   "metadata": {},
   "outputs": [
    {
     "name": "stdout",
     "output_type": "stream",
     "text": [
      "{1, 2, 3, 4, 5, 6}\n"
     ]
    }
   ],
   "source": [
    "nums = {1, 2, 3, 4, 5, 6}\n",
    "\n",
    "print(nums)"
   ]
  },
  {
   "cell_type": "code",
   "execution_count": null,
   "metadata": {},
   "outputs": [],
   "source": [
    "names = {\"Bill\", \"Bob\", \"Rafael\"}\n",
    "\n",
    "print(names)"
   ]
  },
  {
   "cell_type": "markdown",
   "metadata": {},
   "source": [
    " "
   ]
  },
  {
   "cell_type": "markdown",
   "metadata": {},
   "source": [
    "As sets don't store duplicate items, any duplicate items added at creation or at a later date are discarded."
   ]
  },
  {
   "cell_type": "code",
   "execution_count": 27,
   "metadata": {},
   "outputs": [
    {
     "name": "stdout",
     "output_type": "stream",
     "text": [
      "{1, 2, 3, 4, 5, 6}\n"
     ]
    }
   ],
   "source": [
    "nums = {1, 2, 3, 4, 5, 6, 2, 3, 4}\n",
    "\n",
    "print(nums)"
   ]
  },
  {
   "cell_type": "markdown",
   "metadata": {},
   "source": [
    " "
   ]
  },
  {
   "cell_type": "markdown",
   "metadata": {},
   "source": [
    "### 3.1) Add\n",
    "\n",
    "You can add elements to a set using the method `add`, you don't have to specify the index of the item as sets aren't ordered."
   ]
  },
  {
   "cell_type": "code",
   "execution_count": 28,
   "metadata": {},
   "outputs": [
    {
     "name": "stdout",
     "output_type": "stream",
     "text": [
      "{1, 2, 3, 4, 5, 6}\n",
      "{1, 2, 3, 4, 5, 6, 12}\n"
     ]
    }
   ],
   "source": [
    "nums = {1, 2, 3, 4, 5, 6}\n",
    "print(nums)\n",
    "\n",
    "nums.add(12)\n",
    "\n",
    "print(nums)"
   ]
  },
  {
   "cell_type": "markdown",
   "metadata": {},
   "source": [
    " "
   ]
  },
  {
   "cell_type": "markdown",
   "metadata": {},
   "source": [
    "### 3.2) Sets Operations\n",
    "\n",
    "Sets have operations which can be used to manipulate two sets together.\n",
    "\n",
    "<img src=\"./sets.png\">"
   ]
  },
  {
   "cell_type": "markdown",
   "metadata": {},
   "source": [
    " "
   ]
  },
  {
   "cell_type": "markdown",
   "metadata": {},
   "source": [
    "#### 3.2.1) Union\n",
    "\n",
    "It is the set of all values that are a member of A, or B, or both. There are two ways to perform the union, either using the method `union` or the operator `|`."
   ]
  },
  {
   "cell_type": "code",
   "execution_count": null,
   "metadata": {},
   "outputs": [],
   "source": [
    "names1 = {\"Rafael\", \"Oliver\", 1, 5}\n",
    "names2 = {\"Sam\", \"Bethanie\"}\n",
    "\n",
    "# Using the union method\n",
    "union_names = names1.union(names2)\n",
    "print(union_names)"
   ]
  },
  {
   "cell_type": "code",
   "execution_count": null,
   "metadata": {},
   "outputs": [],
   "source": [
    "# Using union operator\n",
    "union_names = names1 | names2\n",
    "print(union_names)"
   ]
  },
  {
   "cell_type": "markdown",
   "metadata": {},
   "source": [
    " "
   ]
  },
  {
   "cell_type": "markdown",
   "metadata": {},
   "source": [
    "#### 3.2.2) Intersection\n",
    "It is the set of all values that are members of both A and B. There are also two ways to perform the intersection, using the method `intersection` or operator `&`."
   ]
  },
  {
   "cell_type": "code",
   "execution_count": null,
   "metadata": {},
   "outputs": [],
   "source": [
    "names1 = {\"Rafael\", \"Oliver\"}\n",
    "names2 = {\"Sam\", \"Bethanie\", \"Rafael\"}\n",
    "\n",
    "# Using the intersection method\n",
    "union_names = names1.intersection(names2)\n",
    "print(union_names)"
   ]
  },
  {
   "cell_type": "code",
   "execution_count": null,
   "metadata": {},
   "outputs": [],
   "source": [
    "# Using intersection operators \n",
    "union_names = names1 & names2\n",
    "print(union_names)"
   ]
  },
  {
   "cell_type": "markdown",
   "metadata": {},
   "source": [
    " "
   ]
  },
  {
   "cell_type": "markdown",
   "metadata": {},
   "source": [
    "***"
   ]
  },
  {
   "cell_type": "markdown",
   "metadata": {},
   "source": [
    " "
   ]
  },
  {
   "cell_type": "markdown",
   "metadata": {},
   "source": [
    "### 4) Tuples\n",
    "\n",
    "A tuple is a sequence of immutable Python objects. Tuples are sequences, just like lists. The differences between tuples and lists are, the tuples cannot be changed unlike lists and tuples use parentheses, whereas lists use square brackets."
   ]
  },
  {
   "cell_type": "code",
   "execution_count": null,
   "metadata": {
    "scrolled": false
   },
   "outputs": [],
   "source": [
    "n_tuple = (1, 2, 3, 54, 5, 3, 2)\n",
    "\n",
    "print(n_tuple)"
   ]
  },
  {
   "cell_type": "markdown",
   "metadata": {},
   "source": [
    " "
   ]
  },
  {
   "cell_type": "markdown",
   "metadata": {},
   "source": [
    "***"
   ]
  },
  {
   "cell_type": "markdown",
   "metadata": {},
   "source": [
    " "
   ]
  },
  {
   "cell_type": "markdown",
   "metadata": {},
   "source": [
    "## 5) Looping through Collections\n",
    "\n",
    "Collections are iterable, meaning they can be looped through, this makes use of the `in` operator. It works the same as looping through a string, the loop variable is set a different collection item each loop."
   ]
  },
  {
   "cell_type": "code",
   "execution_count": null,
   "metadata": {},
   "outputs": [],
   "source": [
    "names = [\"Bob\", \"Fred\", \"Bill\", \"Rafael\", \"Olly\"]\n",
    "\n",
    "for name in names:\n",
    "    print(name)"
   ]
  },
  {
   "cell_type": "code",
   "execution_count": null,
   "metadata": {},
   "outputs": [],
   "source": [
    "nums = [1, 2, 3, 4, 5, 6]\n",
    "\n",
    "for i in nums:\n",
    "    print(i * 5)"
   ]
  },
  {
   "cell_type": "markdown",
   "metadata": {},
   "source": [
    " "
   ]
  },
  {
   "cell_type": "markdown",
   "metadata": {},
   "source": [
    "The other way to loop through a list is to use the index of the values. This means you have to loop through the range of 0 to the length of the list, `range(len(list))`. This allows you to use the loop variable as the index to access list items, because of this you can iterate through multiple lists at the same time."
   ]
  },
  {
   "cell_type": "code",
   "execution_count": 30,
   "metadata": {},
   "outputs": [
    {
     "name": "stdout",
     "output_type": "stream",
     "text": [
      "5\n",
      "8\n",
      "9\n",
      "8\n",
      "5\n"
     ]
    }
   ],
   "source": [
    "nums1 = [1, 2, 3, 4, 5]\n",
    "nums2 = [5, 4, 3, 2, 1]\n",
    "\n",
    "for i in range(len(nums1)):\n",
    "    print(nums1[i] * nums2[i])"
   ]
  },
  {
   "cell_type": "markdown",
   "metadata": {},
   "source": [
    " "
   ]
  },
  {
   "cell_type": "markdown",
   "metadata": {},
   "source": [
    "***"
   ]
  },
  {
   "cell_type": "markdown",
   "metadata": {},
   "source": [
    " "
   ]
  },
  {
   "cell_type": "markdown",
   "metadata": {},
   "source": [
    "## 6) Built in functions\n",
    "\n",
    "Python has special resources that can be used in different datatypes (list, string, int) - print(), range()"
   ]
  },
  {
   "cell_type": "markdown",
   "metadata": {},
   "source": [
    "### 6.1) Length\n",
    "Gets the length of a list, how many elements is that list composed of:"
   ]
  },
  {
   "cell_type": "code",
   "execution_count": null,
   "metadata": {
    "scrolled": true
   },
   "outputs": [],
   "source": [
    "names = [\"Rafael\", \"Bob\", \"Jack\", \"Sam\", \"Oliver\"]\n",
    "\n",
    "print(len(names))"
   ]
  },
  {
   "cell_type": "code",
   "execution_count": null,
   "metadata": {},
   "outputs": [],
   "source": [
    "#Try always inserting len into a variable for better readabiltiy \n",
    "\n",
    "names = [\"Rafael\", \"Bob\"]\n",
    "\n",
    "names_length = len(names)\n",
    "\n",
    "print(names_length)"
   ]
  },
  {
   "cell_type": "markdown",
   "metadata": {},
   "source": [
    "It can also get the length of a string, so how many characters is the string composed of:"
   ]
  },
  {
   "cell_type": "code",
   "execution_count": null,
   "metadata": {},
   "outputs": [],
   "source": [
    "name = \"Rafael\"\n",
    "\n",
    "name_length = len(name)\n",
    "\n",
    "print(name_length)"
   ]
  },
  {
   "cell_type": "markdown",
   "metadata": {},
   "source": [
    " "
   ]
  },
  {
   "cell_type": "markdown",
   "metadata": {},
   "source": [
    "### 6.2) Sum\n",
    "\n",
    "Sums all the values in a collection of numbers, returning the total."
   ]
  },
  {
   "cell_type": "code",
   "execution_count": null,
   "metadata": {},
   "outputs": [],
   "source": [
    "nums = [1, 2, 3, 4, 5, 6, 7, 9]\n",
    "print(nums)\n",
    "\n",
    "sum_nums = sum(nums)\n",
    "print(sum_nums)"
   ]
  },
  {
   "cell_type": "markdown",
   "metadata": {},
   "source": [
    " "
   ]
  },
  {
   "cell_type": "markdown",
   "metadata": {},
   "source": [
    "### 6.3) Max\n",
    "\n",
    "Gets the largest element of a collection"
   ]
  },
  {
   "cell_type": "code",
   "execution_count": null,
   "metadata": {},
   "outputs": [],
   "source": [
    "nums = [1,54,67,23,12,3,4]\n",
    "\n",
    "max_num = max(nums)\n",
    "\n",
    "print(max_num)"
   ]
  },
  {
   "cell_type": "markdown",
   "metadata": {},
   "source": [
    " "
   ]
  },
  {
   "cell_type": "markdown",
   "metadata": {},
   "source": [
    "### 6.3) Min\n",
    "Gets the smallest element of a collection"
   ]
  },
  {
   "cell_type": "code",
   "execution_count": null,
   "metadata": {},
   "outputs": [],
   "source": [
    "nums = [1,54,67,23,12,3,4]\n",
    "\n",
    "min_num = min(nums)\n",
    "\n",
    "print(min_num)"
   ]
  },
  {
   "cell_type": "markdown",
   "metadata": {},
   "source": [
    " "
   ]
  },
  {
   "cell_type": "markdown",
   "metadata": {},
   "source": [
    "### 6.4) Sorted\n",
    "Sorted is a built-in function that sorts a collection, returning it as a sorted list."
   ]
  },
  {
   "cell_type": "code",
   "execution_count": null,
   "metadata": {
    "scrolled": true
   },
   "outputs": [],
   "source": [
    "nums = [1,54,67,23,12,3,4]\n",
    "\n",
    "sorted_nums = sorted(nums)\n",
    "\n",
    "print(sorted_nums)"
   ]
  },
  {
   "cell_type": "markdown",
   "metadata": {},
   "source": [
    "You can sort in a reverse order"
   ]
  },
  {
   "cell_type": "code",
   "execution_count": null,
   "metadata": {},
   "outputs": [],
   "source": [
    "nums = [1,54,67,23,12,3,4]\n",
    "\n",
    "sorted_nums = sorted(nums, reverse = True)\n",
    "\n",
    "print(sorted_nums)"
   ]
  },
  {
   "cell_type": "code",
   "execution_count": null,
   "metadata": {},
   "outputs": [],
   "source": [
    "names = [\"Rafael\", \"Oliver\", \"Sam\"]\n",
    "\n",
    "# will sort alphabetically\n",
    "sorted_names = sorted(names)\n",
    "\n",
    "print(sorted_names)"
   ]
  },
  {
   "cell_type": "markdown",
   "metadata": {},
   "source": [
    " "
   ]
  },
  {
   "cell_type": "markdown",
   "metadata": {},
   "source": [
    "## 6.5) Casting\n",
    "\n",
    "In order to change a collection type you can cast the type like you would with integers and floats. This can be useful when you want to change the properties of your collection, such as making a list have no duplicate items."
   ]
  },
  {
   "cell_type": "code",
   "execution_count": 188,
   "metadata": {},
   "outputs": [
    {
     "name": "stdout",
     "output_type": "stream",
     "text": [
      "{'Sam', 'Oliver', 'Rafael'}\n"
     ]
    }
   ],
   "source": [
    "names = [\"Rafael\", \"Oliver\", \"Sam\", \"Rafael\"]\n",
    "\n",
    "names = set(names)\n",
    "\n",
    "print(names)"
   ]
  },
  {
   "cell_type": "code",
   "execution_count": 189,
   "metadata": {},
   "outputs": [
    {
     "name": "stdout",
     "output_type": "stream",
     "text": [
      "[0, 1, 2, 3, 4]\n"
     ]
    }
   ],
   "source": [
    "nums = {0, 1, 2, 3, 4}\n",
    "\n",
    "nums = list(nums)\n",
    "\n",
    "print(nums)"
   ]
  },
  {
   "cell_type": "code",
   "execution_count": null,
   "metadata": {},
   "outputs": [],
   "source": []
  }
 ],
 "metadata": {
  "kernelspec": {
   "display_name": "Python 3",
   "language": "python",
   "name": "python3"
  },
  "language_info": {
   "codemirror_mode": {
    "name": "ipython",
    "version": 3
   },
   "file_extension": ".py",
   "mimetype": "text/x-python",
   "name": "python",
   "nbconvert_exporter": "python",
   "pygments_lexer": "ipython3",
   "version": "3.7.4"
  }
 },
 "nbformat": 4,
 "nbformat_minor": 2
}
