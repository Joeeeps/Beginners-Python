{
 "cells": [
  {
   "cell_type": "markdown",
   "metadata": {},
   "source": [
    "# Exercise 4 - Lists, Sets and Tuples"
   ]
  },
  {
   "cell_type": "markdown",
   "metadata": {},
   "source": [
    "### Question 1\n",
    "\n",
    "Write a program to convert the following array of characters into a string and print it.\n",
    "\n",
    "    s = ['l', 'i', 's', 't', ' ', 'o', 'f', ' ', 'c', 'h', 'a', 'r', 's']\n"
   ]
  },
  {
   "cell_type": "code",
   "execution_count": 10,
   "metadata": {},
   "outputs": [
    {
     "name": "stdout",
     "output_type": "stream",
     "text": [
      "list of chars\n"
     ]
    }
   ],
   "source": [
    "s = ['l', 'i', 's', 't', ' ', 'o', 'f', ' ', 'c', 'h', 'a', 'r', 's']\n",
    "print(''.join(s))"
   ]
  },
  {
   "cell_type": "markdown",
   "metadata": {},
   "source": [
    "### Question 2\n",
    "\n",
    "Write a program that allows the user to keep entering numbers until 0 is entered, storing the numbers in an array. After, display the largest and smallest numbers."
   ]
  },
  {
   "cell_type": "code",
   "execution_count": 25,
   "metadata": {},
   "outputs": [
    {
     "name": "stdout",
     "output_type": "stream",
     "text": [
      "Add a number to the list 3\n",
      "Add a number to the list 5\n",
      "Add a number to the list 7\n",
      "Add a number to the list 0\n",
      "Max number is 7\n",
      "Min number is 3\n"
     ]
    }
   ],
   "source": [
    "num = []\n",
    "num_input = int(input(\"Add a number to the list \"))\n",
    "while num_input != 0:\n",
    "    num.append(num_input)\n",
    "    num_input = int(input(\"Add a number to the list \"))\n",
    " \n",
    "print(\"Max number is\", max(num))\n",
    "print(\"Min number is\", min(num))\n",
    " "
   ]
  },
  {
   "cell_type": "markdown",
   "metadata": {},
   "source": [
    "### Question 3\n",
    "\n",
    "Write a program which doubles each element in a list and stores it in a new list, printing out the list of doubles afterwards.\n",
    "    \n",
    "    [1, 2, 3] becomes [2, 4, 6]"
   ]
  },
  {
   "cell_type": "code",
   "execution_count": 33,
   "metadata": {},
   "outputs": [
    {
     "name": "stdout",
     "output_type": "stream",
     "text": [
      "[2, 4, 6]\n"
     ]
    }
   ],
   "source": [
    "num = [1, 2, 3]\n",
    "num2 = [0] * len(num)\n",
    "\n",
    "for i in range(len(num)):\n",
    "    num2[i] = num[i]*2 \n",
    "print(num2)"
   ]
  },
  {
   "cell_type": "markdown",
   "metadata": {},
   "source": [
    "### Question 4\n",
    "\n",
    "Write a program which keeps taking inputs from the user until they enter 'END'. It should then print out the users inputs in reverse order.\n",
    "\n",
    "    > 3\n",
    "    > Hello\n",
    "    > 4.3\n",
    "    > END\n",
    "    4.3\n",
    "    Hello\n",
    "    3"
   ]
  },
  {
   "cell_type": "code",
   "execution_count": 3,
   "metadata": {},
   "outputs": [
    {
     "name": "stdout",
     "output_type": "stream",
     "text": [
      "Enter something, type 'END' to stop one\n",
      "Enter something, type 'END' to stop 2\n",
      "Enter something, type 'END' to stop 3\n",
      "Enter something, type 'END' to stop four\n",
      "Enter something, type 'END' to stop END\n",
      "four\n",
      "3\n",
      "2\n",
      "one\n"
     ]
    }
   ],
   "source": [
    "enter = []\n",
    "\n",
    "enter_input = input(\"Enter something, type 'END' to stop \")\n",
    "while enter_input != 'END':\n",
    "    enter.append(enter_input)  \n",
    "    enter_input = input(\"Enter something, type 'END' to stop \")\n",
    "\n",
    "enter.reverse()\n",
    "\n",
    "for i in enter:\n",
    "    print(i)"
   ]
  },
  {
   "cell_type": "markdown",
   "metadata": {},
   "source": [
    "### Question 5\n",
    "\n",
    "Remove all the duplicate elements from the following list:\n",
    "    \n",
    "    nums = [1, 3, 1, 4, 6, 3, 5, 4, 6, 2]"
   ]
  },
  {
   "cell_type": "code",
   "execution_count": 7,
   "metadata": {},
   "outputs": [
    {
     "name": "stdout",
     "output_type": "stream",
     "text": [
      "[1, 2, 3, 4, 5, 6]\n"
     ]
    }
   ],
   "source": [
    "nums = [1, 3, 1, 4, 6, 3, 5, 4, 6, 2]\n",
    "\n",
    "nums = list(set(nums))\n",
    "\n",
    "print(nums)"
   ]
  },
  {
   "cell_type": "markdown",
   "metadata": {},
   "source": [
    "### Question 6\n",
    "\n",
    "Write a program to find all the values in a list that are larger than a number inputted by the user. Print out a sorted list of the larger numbers."
   ]
  },
  {
   "cell_type": "code",
   "execution_count": 16,
   "metadata": {},
   "outputs": [
    {
     "name": "stdout",
     "output_type": "stream",
     "text": [
      "Enter a number 13\n",
      "[15, 20, 25]\n"
     ]
    }
   ],
   "source": [
    "nums = [1, 10, 15, 20, 25]\n",
    "larger_nums = []\n",
    "\n",
    "user_num = int(input(\"Enter a number \"))\n",
    "for i in nums:\n",
    "    if i > user_num:\n",
    "        larger_nums.append(i)\n",
    "        \n",
    "print(sorted(larger_nums))"
   ]
  },
  {
   "cell_type": "markdown",
   "metadata": {},
   "source": [
    "### Question 7\n",
    "\n",
    "Write a program which multiplys two lists of numbers together, meaning numbers at the same index are multiplied together.\n",
    "\n",
    "    [1, 2, 3] x [4, 5, 6] = [4, 10, 18]"
   ]
  },
  {
   "cell_type": "code",
   "execution_count": 33,
   "metadata": {},
   "outputs": [
    {
     "name": "stdout",
     "output_type": "stream",
     "text": [
      "[1, 2, 3] * [4, 5, 6] = [4, 10, 18]\n"
     ]
    }
   ],
   "source": [
    "num1 = [1, 2, 3]\n",
    "num2 = [4, 5, 6]\n",
    "num3 = []\n",
    "\n",
    "for i in range(len(num1)):\n",
    "    x = num1[i] * num2[i]\n",
    "    num3.append(x)\n",
    "\n",
    "print(num1, \"*\", num2, \"=\", num3)"
   ]
  },
  {
   "cell_type": "markdown",
   "metadata": {},
   "source": [
    "### Question 8\n",
    "\n",
    "Write a program to find the sub list in a list of lists whose sum of elements is the highest.\n",
    "\n",
    "So in `[[2, 10, 5], [12, 30, 20], [10], [3, 1, 2]]`, the sub list `[12, 30, 20]` would be chosen as its sum is the greatest."
   ]
  },
  {
   "cell_type": "code",
   "execution_count": 36,
   "metadata": {},
   "outputs": [
    {
     "name": "stdout",
     "output_type": "stream",
     "text": [
      "The sub list with highest sum is [10, 100]\n"
     ]
    }
   ],
   "source": [
    "lists = [[2, 10, 5], [12, 30, 20], [10, 100], [3, 1, 2]]\n",
    "\n",
    "highest_list = [0]\n",
    "\n",
    "for sub_list in lists:\n",
    "    if sum(sub_list) > sum(highest_list):\n",
    "        highest_list = sub_list\n",
    "        \n",
    "print(\"The sub list with highest sum is\", highest_list)"
   ]
  },
  {
   "cell_type": "markdown",
   "metadata": {},
   "source": [
    "### Question 9\n",
    "\n",
    "Write a program which takes two words (or sentences) from the user and prints out the characters which are in both words, duplicated letters shouldn't be printed."
   ]
  },
  {
   "cell_type": "code",
   "execution_count": 39,
   "metadata": {},
   "outputs": [
    {
     "name": "stdout",
     "output_type": "stream",
     "text": [
      "Enter something Ah what a wonderful day right\n",
      "Enter something else Maybe, it's quite sunny\n",
      "{'y', 'e', 'u', ' ', 'i', 'n', 'a', 't'}\n"
     ]
    }
   ],
   "source": [
    "word1 = str(input(\"Enter something \"))\n",
    "word2 = str(input(\"Enter something else \"))\n",
    "\n",
    "word3 = set(word1).intersection(set(word2))\n",
    "\n",
    "print(word3)"
   ]
  },
  {
   "cell_type": "markdown",
   "metadata": {},
   "source": [
    "### Question 10\n",
    "\n",
    "Write a program which prints out the name of the most expensive item in the following list. The list is made of tuples where the first element is the item and the second the price.\n",
    "\n",
    "    shopping = [('milk', 1.20), ('bread', 0.80), ('cheese', 3.00), ('apples', 2.00), ('pizza', 3.50)]\n"
   ]
  },
  {
   "cell_type": "code",
   "execution_count": 41,
   "metadata": {},
   "outputs": [
    {
     "name": "stdout",
     "output_type": "stream",
     "text": [
      "('pizza', 3.5)\n"
     ]
    }
   ],
   "source": [
    "shopping = [('milk', 1.20), ('bread', 0.80), ('cheese', 3.00), ('apples', 2.00), ('pizza', 3.50)]\n",
    "\n",
    "most_expensive = shopping[0]\n",
    "\n",
    "for item in shopping:\n",
    "    if item[1] > most_expensive[1]:\n",
    "        most_expensive = item\n",
    "        \n",
    "print(\"The most expensive item is\", most_expensive[0])"
   ]
  }
 ],
 "metadata": {
  "kernelspec": {
   "display_name": "Python 3",
   "language": "python",
   "name": "python3"
  },
  "language_info": {
   "codemirror_mode": {
    "name": "ipython",
    "version": 3
   },
   "file_extension": ".py",
   "mimetype": "text/x-python",
   "name": "python",
   "nbconvert_exporter": "python",
   "pygments_lexer": "ipython3",
   "version": "3.7.4"
  }
 },
 "nbformat": 4,
 "nbformat_minor": 2
}
