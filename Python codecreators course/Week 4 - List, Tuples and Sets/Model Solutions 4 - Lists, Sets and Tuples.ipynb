{
 "cells": [
  {
   "cell_type": "markdown",
   "metadata": {},
   "source": [
    "# Model Solutions 4 - Lists, Sets and Tuples"
   ]
  },
  {
   "cell_type": "markdown",
   "metadata": {},
   "source": [
    "### Question 1\n",
    "\n",
    "Write a program to convert the following array of characters into a string and print it."
   ]
  },
  {
   "cell_type": "code",
   "execution_count": 1,
   "metadata": {},
   "outputs": [
    {
     "name": "stdout",
     "output_type": "stream",
     "text": [
      "list of chars\n"
     ]
    }
   ],
   "source": [
    "s = ['l', 'i', 's', 't', ' ', 'o', 'f', ' ', 'c', 'h', 'a', 'r', 's']\n",
    "str1 = ''.join(s)\n",
    "print(str1)"
   ]
  },
  {
   "cell_type": "markdown",
   "metadata": {},
   "source": [
    "### Question 2\n",
    "\n",
    "Write a program that allows the user to keep entering numbers until 0 is entered, storing the numbers in an array. After, display the largest and smallest numbers."
   ]
  },
  {
   "cell_type": "code",
   "execution_count": null,
   "metadata": {},
   "outputs": [],
   "source": [
    "inputs = []\n",
    "\n",
    "user_input = int(input(\"Enter a number: \"))\n",
    "while user_input != 0:\n",
    "    inputs.append(user_input)\n",
    "    user_input = int(input(\"Enter a number: \"))\n",
    "\n",
    "print(\"Max number is\", max(inputs))\n",
    "print(\"Min number is\", min(inputs))"
   ]
  },
  {
   "cell_type": "code",
   "execution_count": null,
   "metadata": {},
   "outputs": [],
   "source": [
    "inputs = []\n",
    "\n",
    "while True:\n",
    "    user_input = int(input(\"Enter a number: \"))\n",
    "    \n",
    "    if user_input == 0:\n",
    "        break\n",
    "    \n",
    "    inputs.append(user_input)\n",
    "\n",
    "\n",
    "print(\"Max number is\", max(inputs))\n",
    "print(\"Min number is\", min(inputs))"
   ]
  },
  {
   "cell_type": "markdown",
   "metadata": {},
   "source": [
    "### Question 3\n",
    "\n",
    "Write a program which doubles each element in a list and stores it in a new list, printing out the list of doubles afterwards.\n",
    "    \n",
    "    [1, 2, 3] becomes [2, 4, 6]"
   ]
  },
  {
   "cell_type": "code",
   "execution_count": null,
   "metadata": {},
   "outputs": [],
   "source": [
    "nums = [1, 2, 3, 4, 5]\n",
    "doubles = []\n",
    "\n",
    "for i in nums:\n",
    "    doubles.append(i * 2)\n",
    "    \n",
    "print(doubles)"
   ]
  },
  {
   "cell_type": "code",
   "execution_count": 1,
   "metadata": {},
   "outputs": [
    {
     "name": "stdout",
     "output_type": "stream",
     "text": [
      "[2, 4, 6, 8, 10]\n"
     ]
    }
   ],
   "source": [
    "nums = [1, 2, 3, 4, 5]\n",
    "doubles = [0] * len(nums)\n",
    "\n",
    "for i in range(len(nums)):\n",
    "    doubles[i] = nums[i] * 2\n",
    "    \n",
    "print(doubles)"
   ]
  },
  {
   "cell_type": "markdown",
   "metadata": {},
   "source": [
    "### Question 4\n",
    "\n",
    "Write a program which keeps taking inputs from the user until they enter 'END'. It should then print out the users inputs in reverse order.\n",
    "\n",
    "    > 3\n",
    "    > Hello\n",
    "    > 4.3\n",
    "    > END\n",
    "    4.3\n",
    "    Hello\n",
    "    3"
   ]
  },
  {
   "cell_type": "code",
   "execution_count": 3,
   "metadata": {},
   "outputs": [
    {
     "name": "stdout",
     "output_type": "stream",
     "text": [
      "> DOG\n",
      "> JAMES\n",
      "> 1\n",
      "> 2\n",
      "> 3\n",
      "> FOUR\n",
      "> END\n",
      "FOUR\n",
      "3\n",
      "2\n",
      "1\n",
      "JAMES\n",
      "DOG\n"
     ]
    }
   ],
   "source": [
    "inputs = []\n",
    "\n",
    "user_input = input('> ')\n",
    "while user_input != 'END':\n",
    "    inputs.append(user_input)\n",
    "    user_input = input('> ')\n",
    "\n",
    "inputs.reverse()\n",
    "\n",
    "for i in inputs:\n",
    "    print(i)"
   ]
  },
  {
   "cell_type": "code",
   "execution_count": null,
   "metadata": {},
   "outputs": [],
   "source": [
    "inputs = []\n",
    "\n",
    "while True:\n",
    "    user_input = input('> ')\n",
    "    \n",
    "    if user_input == 'END':\n",
    "        break\n",
    "        \n",
    "    inputs.append(user_input)\n",
    "\n",
    "inputs.reverse()\n",
    "\n",
    "for i in inputs:\n",
    "    print(i)\n",
    "    "
   ]
  },
  {
   "cell_type": "markdown",
   "metadata": {},
   "source": [
    "### Question 5\n",
    "\n",
    "Remove all the duplicate elements from the following list:\n",
    "    \n",
    "    nums = [1, 3, 1, 4, 6, 3, 5, 4, 6, 2]"
   ]
  },
  {
   "cell_type": "code",
   "execution_count": null,
   "metadata": {},
   "outputs": [],
   "source": [
    "nums = [1, 3, 1, 4, 6, 3, 5, 4, 6, 2]\n",
    "new_nums = []\n",
    "\n",
    "for i in nums:\n",
    "    if i not in new_nums:\n",
    "        new_nums.append(i)\n",
    "\n",
    "new_nums.sort()\n",
    "        \n",
    "print(new_nums)"
   ]
  },
  {
   "cell_type": "code",
   "execution_count": null,
   "metadata": {},
   "outputs": [],
   "source": [
    "nums = [1, 3, 1, 4, 6, 3, 5, 4, 6, 2]\n",
    "\n",
    "nums = list(set(nums))\n",
    "\n",
    "print(nums)"
   ]
  },
  {
   "cell_type": "markdown",
   "metadata": {},
   "source": [
    "### Question 6\n",
    "\n",
    "Write a program to find all the values in a list that are larger than a number inputted by the user. Print out a sorted list of the larger numbers."
   ]
  },
  {
   "cell_type": "code",
   "execution_count": null,
   "metadata": {},
   "outputs": [],
   "source": [
    "nums = [3, 37, 11, 4, 62, 31, 54, 42, 63, 21, 2, 15, 29]\n",
    "greater_nums = []\n",
    "\n",
    "user_num = int(input(\"Enter an integer: \"))\n",
    "\n",
    "for i in nums:\n",
    "    if i > user_num:\n",
    "        greater_nums.append(i)\n",
    "        \n",
    "print(sorted(greater_nums))"
   ]
  },
  {
   "cell_type": "markdown",
   "metadata": {},
   "source": [
    "### Question 7\n",
    "\n",
    "Write a program which multiplys two lists of numbers together, meaning numbers at the same index are multiplied together.\n",
    "\n",
    "    [1, 2, 3] x [4, 5, 6] = [4, 10, 18]"
   ]
  },
  {
   "cell_type": "code",
   "execution_count": 4,
   "metadata": {},
   "outputs": [
    {
     "name": "stdout",
     "output_type": "stream",
     "text": [
      "[10, 18, 24, 28, 30, 30, 28, 24, 18, 10]\n"
     ]
    }
   ],
   "source": [
    "nums1 = [1, 2, 3, 4, 5, 6, 7, 8, 9, 10]\n",
    "nums2 = [10, 9, 8, 7, 6, 5, 4, 3, 2, 1]\n",
    "multiplied = []\n",
    "\n",
    "for i in range(len(nums1)):\n",
    "    x = nums1[i] * nums2[i]\n",
    "    multiplied.append(x)\n",
    "    \n",
    "print(multiplied)"
   ]
  },
  {
   "cell_type": "markdown",
   "metadata": {},
   "source": [
    "### Question 8\n",
    "\n",
    "Write a program to find the sub list in a list of lists whose sum of elements is the highest.\n",
    "\n",
    "So in `[[2, 10, 5], [12, 30, 20], [10], [3, 1, 2]]`, the sub list `[12, 30, 20]` would be chosen as its sum is the greatest."
   ]
  },
  {
   "cell_type": "code",
   "execution_count": null,
   "metadata": {},
   "outputs": [],
   "source": [
    "list_of_lists = [[2, 10, 5], [12, 30, 20], [10], [3, 1, 2]]\n",
    "\n",
    "highest = [0]\n",
    "\n",
    "for sub_list in list_of_lists:\n",
    "    if sum(sub_list) > sum(highest):\n",
    "        highest = sub_list\n",
    "        \n",
    "print(\"The sub list with highest sum is\", highest)"
   ]
  },
  {
   "cell_type": "markdown",
   "metadata": {},
   "source": [
    "### Question 9\n",
    "\n",
    "Write a program which takes two words (or sentences) from the user and prints out the characters which are in both words, duplicated letters shouldn't be printed."
   ]
  },
  {
   "cell_type": "code",
   "execution_count": 5,
   "metadata": {},
   "outputs": [
    {
     "name": "stdout",
     "output_type": "stream",
     "text": [
      "Enter first word: Dog\n",
      "Enter second word: Joe\n",
      "{'o'}\n"
     ]
    }
   ],
   "source": [
    "word1 = input(\"Enter first word: \")\n",
    "word2 = input(\"Enter second word: \")\n",
    "\n",
    "letters = set(word1).intersection(set(word2))\n",
    "\n",
    "print(letters)"
   ]
  },
  {
   "cell_type": "markdown",
   "metadata": {},
   "source": [
    "### Question 10\n",
    "\n",
    "Write a program which prints out the name of the most expensive item in the following list. The list is made of tuples where the first element is the item and the second the price."
   ]
  },
  {
   "cell_type": "code",
   "execution_count": null,
   "metadata": {},
   "outputs": [],
   "source": [
    "shopping = [('milk', 1.20), ('bread', 0.80), ('cheese', 3.00), ('apples', 2.00), ('pizza', 3.50)]\n",
    "\n",
    "most_expensive = shopping[0]\n",
    "\n",
    "for item in shopping:\n",
    "    if item[1] > most_expensive[1]:\n",
    "        most_expensive = item\n",
    "        \n",
    "print(\"The most expensive item is\", most_expensive[0])"
   ]
  },
  {
   "cell_type": "code",
   "execution_count": null,
   "metadata": {},
   "outputs": [],
   "source": [
    "shopping = [('milk', 1.20), ('bread', 0.80), ('cheese', 3.00), ('apples', 2.00), ('pizza', 3.50)]\n",
    "\n",
    "most_expensive = shopping[0]\n",
    "\n",
    "for item, price in shopping:\n",
    "    if price > most_expensive[1]:\n",
    "        most_expensive = item, price\n",
    "        \n",
    "print(\"The most expensive item is\", most_expensive[0])\n",
    "    "
   ]
  }
 ],
 "metadata": {
  "kernelspec": {
   "display_name": "Python 3",
   "language": "python",
   "name": "python3"
  },
  "language_info": {
   "codemirror_mode": {
    "name": "ipython",
    "version": 3
   },
   "file_extension": ".py",
   "mimetype": "text/x-python",
   "name": "python",
   "nbconvert_exporter": "python",
   "pygments_lexer": "ipython3",
   "version": "3.7.4"
  }
 },
 "nbformat": 4,
 "nbformat_minor": 2
}
