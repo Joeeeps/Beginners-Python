{
 "cells": [
  {
   "cell_type": "markdown",
   "metadata": {},
   "source": [
    "# Notes 5 - Dictionaries and Strings"
   ]
  },
  {
   "cell_type": "markdown",
   "metadata": {},
   "source": [
    " "
   ]
  },
  {
   "cell_type": "markdown",
   "metadata": {},
   "source": [
    "## 1) Dictionaries\n",
    "\n",
    "Last week we met 3 types of collections, this week we introduce you to another collection type called a Dictionary. They are a more complex collection where each element consists of a **key** and **value** pair, allowing you to store a value which you can refer to using its corresponding key. You can think of it as the key being the name for the value. Keys are most commonly strings, however you can use other datatypes such as integers and floats. You can't use more complex datatypes such as any collections.\n",
    "\n",
    "Dictionaries are **changeable** and **unordered** meaning elements can be added, removed or altered but don't maintain a position. Most importantly they are **indexed**, but by the key not a position. They also **don't allow duplicates** of the same key."
   ]
  },
  {
   "cell_type": "markdown",
   "metadata": {},
   "source": [
    "### 1.1) Creating a dictionary\n",
    "Dictionaries are constructed using curly brackets (`{}`) with each element separated by a comma (`,`), each element is a key and value pair in the form `key: value`. Dictionaries can be defined on one line or multiple - splitting it over multiple lines is recommended if it becomes difficult to read on one line.\n",
    "\n",
    "    dict1 = {Key1: Value1, Key2: Value2, Key3: Value3}\n",
    "    \n",
    "    dict2 =  {\n",
    "        Key1: Value1,\n",
    "        Key2: Value2,\n",
    "        Key3: Value3\n",
    "    }\n",
    "     \n",
    "Below are some examples of dictionary creation."
   ]
  },
  {
   "cell_type": "code",
   "execution_count": null,
   "metadata": {},
   "outputs": [],
   "source": [
    "# Dictionary of (String: Int)\n",
    "scores = {\"Rafael\": 90, \"Oliver\": 50, \"Sam\": 75}\n",
    "\n",
    "print(scores)"
   ]
  },
  {
   "cell_type": "code",
   "execution_count": null,
   "metadata": {},
   "outputs": [],
   "source": [
    "# Dictionary of (Int: Int)\n",
    "frequency = {\n",
    "    1: 102,\n",
    "    2: 94,\n",
    "    3: 110,\n",
    "    4: 123,\n",
    "    5: 86\n",
    "}\n",
    "\n",
    "print(frequency)"
   ]
  },
  {
   "cell_type": "code",
   "execution_count": null,
   "metadata": {},
   "outputs": [],
   "source": [
    "# Dictionary of (String: Boolean)\n",
    "register = {\n",
    "    \"Sam\": True,\n",
    "    \"Ben\": False,\n",
    "    \"Fred\": False,\n",
    "    \"Rafael\": True\n",
    "}\n",
    "\n",
    "print(register)"
   ]
  },
  {
   "cell_type": "code",
   "execution_count": null,
   "metadata": {},
   "outputs": [],
   "source": [
    "# Dictionary of varying datatypes\n",
    "mixed_dict = {\n",
    "    \"bool\": True,\n",
    "    1: 1.10,\n",
    "    20.5: \"Hello\"\n",
    "}\n",
    "\n",
    "print(mixed_dict)"
   ]
  },
  {
   "cell_type": "markdown",
   "metadata": {},
   "source": [
    " "
   ]
  },
  {
   "cell_type": "markdown",
   "metadata": {},
   "source": [
    "You can also declare an empty dictionary by just using the curly brackets. This is very useful when you want to start with an empty dictionary and add items as you progress through a loop or your program."
   ]
  },
  {
   "cell_type": "code",
   "execution_count": null,
   "metadata": {},
   "outputs": [],
   "source": [
    "# Empty Dictionary\n",
    "empty_dict = {}\n",
    "\n",
    "print(empty_dict)"
   ]
  },
  {
   "cell_type": "markdown",
   "metadata": {},
   "source": [
    " "
   ]
  },
  {
   "cell_type": "markdown",
   "metadata": {},
   "source": [
    "As mentioned before dictionary **keys** can't be collections, however the **values** can be of any datatype. This means you can have a list, set or even another dictionary as a value.\n",
    "\n",
    "    dict1 = {\n",
    "        Key1: {KeyA: ValueA, KeyB: ValueB},\n",
    "        Key2: Value2,\n",
    "        Key3: [ElementA, ElementB, ElementC]\n",
    "    }"
   ]
  },
  {
   "cell_type": "code",
   "execution_count": null,
   "metadata": {},
   "outputs": [],
   "source": [
    "mixed_dict = {\n",
    "    \"register\": {\"Bob\": False, \"Sam\": True, \"Bill\": True},\n",
    "    \"year\": 11,\n",
    "    \"names\": [\"Bob\", \"Sam\", \"Bill\"]\n",
    "}\n",
    "\n",
    "print(mixed_dict)"
   ]
  },
  {
   "cell_type": "markdown",
   "metadata": {},
   "source": [
    " "
   ]
  },
  {
   "cell_type": "markdown",
   "metadata": {},
   "source": [
    "### 1.2) Accessing items\n",
    "\n",
    "As a dictionary is made up of key:value pairs, you can access a value by specifying its corresponding key. The syntax to get a value given the key is `dict[key]`.\n",
    "\n",
    "This means that in the dictionary `scores = {\"Rafael\": 90, \"Oliver\": 50, \"Sam\": 75}`:\n",
    "- `scores[\"Rafael\"] == 90` \n",
    "\n",
    "- `scores[\"Oliver\"] == 50`\n",
    "\n",
    "- `scores[\"Sam\"] == 75`\n"
   ]
  },
  {
   "cell_type": "code",
   "execution_count": null,
   "metadata": {},
   "outputs": [],
   "source": [
    "scores = {\"Ben\": 35, \"Fred\": 100, \"Rafael\": 90, \"Oliver\": 50, \"Sam\": 75}\n",
    "\n",
    "# Returning the value 100 for key 'Fred'\n",
    "print(scores[\"Fred\"])"
   ]
  },
  {
   "cell_type": "code",
   "execution_count": null,
   "metadata": {},
   "outputs": [],
   "source": [
    "# Returning the value 35 for key 'Ben'\n",
    "print(scores[\"Ben\"])"
   ]
  },
  {
   "cell_type": "code",
   "execution_count": null,
   "metadata": {},
   "outputs": [],
   "source": [
    "# Returning the value 75 for key 'Sam'\n",
    "print(scores[\"Sam\"])"
   ]
  },
  {
   "cell_type": "markdown",
   "metadata": {},
   "source": [
    "If you refer to a key which isn't in the dictionary you will get an error as no value can be returned."
   ]
  },
  {
   "cell_type": "code",
   "execution_count": null,
   "metadata": {},
   "outputs": [],
   "source": [
    "# ERROR as key doesn't exist\n",
    "print(scores[\"Olly\"])"
   ]
  },
  {
   "cell_type": "markdown",
   "metadata": {},
   "source": [
    " "
   ]
  },
  {
   "cell_type": "markdown",
   "metadata": {},
   "source": [
    "You can also use the method `get` to access values in a dictionary. This works in the same way - given a key it will return the related value. \n",
    "\n",
    "However it is able to deal with keys not existing, returning a `None` object instead of erroring. You can also provide a second argument which will be used as a default value, meaning it will be returned instead of `None` if the given key doesn't exist in the dictionary. The syntax for this is: `dictionary.get(key, default_value)`."
   ]
  },
  {
   "cell_type": "code",
   "execution_count": null,
   "metadata": {},
   "outputs": [],
   "source": [
    "scores = {\"Ben\": 35, \"Fred\": 100, \"Rafael\": 90, \"Oliver\": 50, \"Sam\": 75}\n",
    "\n",
    "# Returning the value 35 for key 'Ben'\n",
    "print(scores.get(\"Ben\"))"
   ]
  },
  {
   "cell_type": "code",
   "execution_count": null,
   "metadata": {},
   "outputs": [],
   "source": [
    "# Will return a `None` object instead of erroring\n",
    "print(scores.get(\"Olly\"))"
   ]
  },
  {
   "cell_type": "code",
   "execution_count": null,
   "metadata": {},
   "outputs": [],
   "source": [
    "# Will return the default value 0 instead of erroring\n",
    "print(scores.get(\"Olly\", 0))"
   ]
  },
  {
   "cell_type": "markdown",
   "metadata": {},
   "source": [
    " "
   ]
  },
  {
   "cell_type": "markdown",
   "metadata": {},
   "source": [
    "### 1.3) Changing value\n",
    "\n",
    "You can change specific items in a dictionary referring to it key name. This is done the same as accessing by indexing, except you use an assignment to change value held. The statement `scores[\"Ben\"] = 70` will change the value related to the key `\"Ben\"`."
   ]
  },
  {
   "cell_type": "code",
   "execution_count": null,
   "metadata": {},
   "outputs": [],
   "source": [
    "scores = {\"Ben\": 35, \"Fred\": 100, \"Rafael\": 90, \"Oliver\": 50, \"Sam\": 75}\n",
    "print(scores)\n",
    "\n",
    "scores[\"Ben\"] = 65\n",
    "\n",
    "print(scores)"
   ]
  },
  {
   "cell_type": "code",
   "execution_count": null,
   "metadata": {},
   "outputs": [],
   "source": [
    "scores[\"Fred\"] = 95\n",
    "\n",
    "print(scores)"
   ]
  },
  {
   "cell_type": "code",
   "execution_count": null,
   "metadata": {
    "scrolled": true
   },
   "outputs": [],
   "source": [
    "scores[\"Sam\"] = 50\n",
    "\n",
    "print(scores)"
   ]
  },
  {
   "cell_type": "markdown",
   "metadata": {},
   "source": [
    " "
   ]
  },
  {
   "cell_type": "markdown",
   "metadata": {},
   "source": [
    "### 1.4) Adding items\n",
    "\n",
    "Adding elements to a dictionary is done in the same way you change values, assigning a value to a key. If that key isn't already present it will add a new entry in the dictionary for the key: value pair."
   ]
  },
  {
   "cell_type": "code",
   "execution_count": null,
   "metadata": {
    "scrolled": true
   },
   "outputs": [],
   "source": [
    "scores = {\"Ben\": 35, \"Fred\": 100, \"Rafael\": 90, \"Oliver\": 50, \"Sam\": 75}\n",
    "print(scores)\n",
    "\n",
    "# Add a new persons score\n",
    "scores[\"Alex\"] = 90\n",
    "\n",
    "print(scores)"
   ]
  },
  {
   "cell_type": "code",
   "execution_count": null,
   "metadata": {},
   "outputs": [],
   "source": [
    "# Add a new persons score\n",
    "scores[\"John\"] = 55\n",
    "\n",
    "print(scores)"
   ]
  },
  {
   "cell_type": "markdown",
   "metadata": {},
   "source": [
    " "
   ]
  },
  {
   "cell_type": "markdown",
   "metadata": {},
   "source": [
    "If you want to add multiple items to a dictionary at once you can use the method `update`, which takes a dictionary as an argument and adds all the items in the dictionary."
   ]
  },
  {
   "cell_type": "code",
   "execution_count": null,
   "metadata": {},
   "outputs": [],
   "source": [
    "scores = {\"Ben\": 35, \"Fred\": 100, \"Rafael\": 90, \"Oliver\": 50, \"Sam\": 75}\n",
    "new_scores = {\"Jack\": 20, \"Tom\": 60}\n",
    "print(scores)\n",
    "\n",
    "scores.update(new_scores)\n",
    "\n",
    "print(scores)"
   ]
  },
  {
   "cell_type": "markdown",
   "metadata": {},
   "source": [
    "### 1.5) Removing Items\n",
    "\n",
    "There are several ways of removing items from a dictionary. The most common is the method `pop`, which we have seen before with lists. With a dictionary `pop` requires the key of the item to remove as an argument: `pop(key)`. It will return the value related to that key as well as removing the item."
   ]
  },
  {
   "cell_type": "code",
   "execution_count": null,
   "metadata": {},
   "outputs": [],
   "source": [
    "scores = {\"Ben\": 35, \"Fred\": 100, \"Rafael\": 90, \"Oliver\": 50, \"Sam\": 75}\n",
    "\n",
    "# remove the item with key \"Ben\"\n",
    "removed = scores.pop(\"Ben\")\n",
    "\n",
    "print(scores)\n",
    "print(removed)"
   ]
  },
  {
   "cell_type": "markdown",
   "metadata": {},
   "source": [
    "Another way to remove an item from a dictionary is using the key word `del`. `del scores[\"Fred\"]` will remove the item with key `\"Fred\"`. This can be used if you don't need to use the item which is removed, however using `pop` is more common."
   ]
  },
  {
   "cell_type": "code",
   "execution_count": null,
   "metadata": {},
   "outputs": [],
   "source": [
    "# remove the item with key \"Ben\"\n",
    "del scores[\"Fred\"]\n",
    "\n",
    "print(scores)\n",
    "print(removed)"
   ]
  },
  {
   "cell_type": "markdown",
   "metadata": {},
   "source": [
    "### 1.6) Check if key exists\n",
    "\n",
    "To check whether a specified item exists in a dictionary you can use the `in` keyword to search for the key. This will return `True` if the item is in the dictionary."
   ]
  },
  {
   "cell_type": "code",
   "execution_count": null,
   "metadata": {},
   "outputs": [],
   "source": [
    "scores = {\"Ben\": 35, \"Fred\": 100, \"Rafael\": 90, \"Oliver\": 50, \"Sam\": 75}\n",
    "\n",
    "if \"Rafael\" in scores:\n",
    "    print(\"Rafael has a score saved\")"
   ]
  },
  {
   "cell_type": "markdown",
   "metadata": {},
   "source": [
    " "
   ]
  },
  {
   "cell_type": "markdown",
   "metadata": {},
   "source": [
    "***"
   ]
  },
  {
   "cell_type": "markdown",
   "metadata": {},
   "source": [
    " "
   ]
  },
  {
   "cell_type": "markdown",
   "metadata": {},
   "source": [
    "## 2) Dictionary Methods\n"
   ]
  },
  {
   "cell_type": "markdown",
   "metadata": {},
   "source": [
    "### 2.1) Items\n",
    "\n",
    "The method items can be used convert a `dict` object into a `dict_items` object. The `dict_items` object will hold all the same information as a dictionary, however it is in the form of a list of tuples (`[(key1, item1), (key2, item2)]`. If you want to use this as a list you have to cast it to a list."
   ]
  },
  {
   "cell_type": "code",
   "execution_count": null,
   "metadata": {},
   "outputs": [],
   "source": [
    "scores = {\"Ben\": 35, \"Fred\": 100, \"Rafael\": 90, \"Oliver\": 50, \"Sam\": 75}\n",
    "\n",
    "print(scores)\n",
    "\n",
    "# dict_items object\n",
    "print(scores.items())\n",
    "\n",
    "# list object\n",
    "print(list(scores.items()))"
   ]
  },
  {
   "cell_type": "markdown",
   "metadata": {
    "scrolled": true
   },
   "source": [
    "This is very useful as it allows you to loop through a dictionary and access both the keys and values at the same time. The syntax for this is `for item in dict.items()`, where items will end up being a tuple in the form `(key, value)` for each item in the dictionary."
   ]
  },
  {
   "cell_type": "code",
   "execution_count": null,
   "metadata": {},
   "outputs": [],
   "source": [
    "scores = {\"Ben\": 35, \"Fred\": 100, \"Rafael\": 90, \"Oliver\": 50, \"Sam\": 75}\n",
    "\n",
    "for item in scores.items():\n",
    "    print(item)"
   ]
  },
  {
   "cell_type": "markdown",
   "metadata": {},
   "source": [
    "However you can go one step further and make use of 'unpacking'. In Python you can unpack a collection and assign each value to a different variable. This is done by assigning multiple variables on one line, seperated by commas. For example `var1, var2 = (key, value)` would split the tuple and assign the key to `var1` and the value to `var2`."
   ]
  },
  {
   "cell_type": "code",
   "execution_count": null,
   "metadata": {},
   "outputs": [],
   "source": [
    "scores = {\"Ben\": 35, \"Fred\": 100, \"Rafael\": 90, \"Oliver\": 50, \"Sam\": 75}\n",
    "\n",
    "for person, score in scores.items():\n",
    "    print(person, \"scored\", score)"
   ]
  },
  {
   "cell_type": "markdown",
   "metadata": {},
   "source": [
    " "
   ]
  },
  {
   "cell_type": "markdown",
   "metadata": {},
   "source": [
    "### 2.2) Keys\n",
    "\n",
    "The method `keys` can be used to get a `dict_keys` object, which contains a list of all the keys in a dictionary. If you want to use it as a list you again have to cast it to a list."
   ]
  },
  {
   "cell_type": "code",
   "execution_count": null,
   "metadata": {},
   "outputs": [],
   "source": [
    "scores = {\"Ben\": 35, \"Fred\": 100, \"Rafael\": 90, \"Oliver\": 50, \"Sam\": 75}\n",
    "\n",
    "print(scores)\n",
    "\n",
    "# dict_keys object\n",
    "print(scores.keys())\n",
    "\n",
    "# list object\n",
    "print(list(scores.keys()))"
   ]
  },
  {
   "cell_type": "code",
   "execution_count": null,
   "metadata": {},
   "outputs": [],
   "source": [
    "# loop through the keys of a dictionary\n",
    "for person in scores.keys():\n",
    "    print(person)"
   ]
  },
  {
   "cell_type": "markdown",
   "metadata": {},
   "source": [
    " "
   ]
  },
  {
   "cell_type": "markdown",
   "metadata": {},
   "source": [
    "### 2.3) Values\n",
    "\n",
    "The method `values` can be used to get a `dict_values` object, which contains a list of all the values in a dictionary. If you want to use it as a list you again have to cast it to a list."
   ]
  },
  {
   "cell_type": "code",
   "execution_count": null,
   "metadata": {},
   "outputs": [],
   "source": [
    "scores = {\"Ben\": 35, \"Fred\": 100, \"Rafael\": 90, \"Oliver\": 50, \"Sam\": 75}\n",
    "\n",
    "print(scores)\n",
    "\n",
    "# dict_values object\n",
    "print(scores.values())\n",
    "\n",
    "# list object\n",
    "print(list(scores.values()))"
   ]
  },
  {
   "cell_type": "markdown",
   "metadata": {},
   "source": [
    " "
   ]
  },
  {
   "cell_type": "code",
   "execution_count": null,
   "metadata": {},
   "outputs": [],
   "source": [
    "# loop through the values of a dictionary\n",
    "for score in scores.values():\n",
    "    print(score)"
   ]
  },
  {
   "cell_type": "markdown",
   "metadata": {},
   "source": [
    " "
   ]
  },
  {
   "cell_type": "markdown",
   "metadata": {},
   "source": [
    "***"
   ]
  },
  {
   "cell_type": "markdown",
   "metadata": {},
   "source": [
    " "
   ]
  },
  {
   "cell_type": "markdown",
   "metadata": {},
   "source": [
    "## 3) Strings\n",
    "\n",
    "We have used strings extensively so far, however we haven't learnt about all the functionality they have. Some of the notes below are a recap of things we might have already covered.\n",
    "\n",
    "### 3.1) Indexing\n",
    "\n",
    "In Python strings are very similar to a list of characters, this means you can perform the same indexing operations we learned for arrays. \n",
    "\n",
    "You can reference a single character using its postition (`string[2]`):  "
   ]
  },
  {
   "cell_type": "code",
   "execution_count": null,
   "metadata": {},
   "outputs": [],
   "source": [
    "string = \"Hello my name is Fred\"\n",
    "\n",
    "print(string[2])"
   ]
  },
  {
   "cell_type": "code",
   "execution_count": null,
   "metadata": {},
   "outputs": [],
   "source": [
    "print(string[9])"
   ]
  },
  {
   "cell_type": "markdown",
   "metadata": {},
   "source": [
    "You can also reference a range of characters (`string[2:5]`):"
   ]
  },
  {
   "cell_type": "code",
   "execution_count": null,
   "metadata": {},
   "outputs": [],
   "source": [
    "string = \"Hello my name is Fred\"\n",
    "\n",
    "# get characters in positions 2-5\n",
    "print(string[2:5])"
   ]
  },
  {
   "cell_type": "code",
   "execution_count": null,
   "metadata": {},
   "outputs": [],
   "source": [
    "# get characters in positions 9 to end\n",
    "print(string[9:])"
   ]
  },
  {
   "cell_type": "code",
   "execution_count": null,
   "metadata": {},
   "outputs": [],
   "source": [
    "# get characters from the start to position 8\n",
    "print(string[:8])"
   ]
  },
  {
   "cell_type": "markdown",
   "metadata": {},
   "source": [
    "And you can use steps to get characters at an interval (`string[2:10:2]`):"
   ]
  },
  {
   "cell_type": "code",
   "execution_count": null,
   "metadata": {},
   "outputs": [],
   "source": [
    "string = \"Hello my name is Fred\"\n",
    "\n",
    "# get characters in positions 2-10 in steps of 2\n",
    "print(string[1:10:2])"
   ]
  },
  {
   "cell_type": "markdown",
   "metadata": {},
   "source": [
    "Strings don't have a method which can be used to reverse them, so using indexing is the best way to do it."
   ]
  },
  {
   "cell_type": "code",
   "execution_count": null,
   "metadata": {},
   "outputs": [],
   "source": [
    "string = \"Hello my name is Fred\"\n",
    "\n",
    "# reverse the string\n",
    "print(string[::-1])"
   ]
  },
  {
   "cell_type": "markdown",
   "metadata": {},
   "source": [
    " "
   ]
  },
  {
   "cell_type": "markdown",
   "metadata": {},
   "source": [
    "### 3.2) Check String\n",
    "\n",
    "To check if a certain phrase or character is present in a string you can use the keyword `in`. `\"a\" in string` will return True if 'a' is present in string."
   ]
  },
  {
   "cell_type": "code",
   "execution_count": null,
   "metadata": {},
   "outputs": [],
   "source": [
    "string = \"Hello World!\"\n",
    "\n",
    "# check if 'o' is in the string\n",
    "x = \"o\" in string\n",
    "\n",
    "print(x)"
   ]
  },
  {
   "cell_type": "code",
   "execution_count": null,
   "metadata": {},
   "outputs": [],
   "source": [
    "# check if 'Hello' is in the string\n",
    "if \"Hello\" in string:\n",
    "    print(\"It is in string\")"
   ]
  },
  {
   "cell_type": "markdown",
   "metadata": {},
   "source": [
    "You can combine the keywords `not` and `in` to do the opposite, check that a string doesn't contain a phrase or a character."
   ]
  },
  {
   "cell_type": "code",
   "execution_count": null,
   "metadata": {},
   "outputs": [],
   "source": [
    "string = \"Hello World!\"\n",
    "\n",
    "# check if 'y' is NOT in the string\n",
    "x = \"y\" not in string\n",
    "\n",
    "print(x)"
   ]
  },
  {
   "cell_type": "markdown",
   "metadata": {},
   "source": [
    " "
   ]
  },
  {
   "cell_type": "markdown",
   "metadata": {},
   "source": [
    "### 3.3) String Concatenation\n",
    "\n",
    "To combine two strings you can use string concatenation, which makes use of the `+` operator. "
   ]
  },
  {
   "cell_type": "code",
   "execution_count": null,
   "metadata": {},
   "outputs": [],
   "source": [
    "first_name = \"John\"\n",
    "second_name = \"Andrews\"\n",
    "\n",
    "name = first_name + \" \" + second_name\n",
    "\n",
    "print(name)"
   ]
  },
  {
   "cell_type": "markdown",
   "metadata": {},
   "source": [
    "### 3.4) Lower, Upper and Capitalize\n",
    "\n",
    "These methods allow you to change the case of a string. `lower` converts it all to lowercase, `upper` converts it all to uppercase and `capitalize` converts the first character to uppercase and the rest to lowercase. These can be useful when comparing strings, especially user input, to ensure they are both in the same form."
   ]
  },
  {
   "cell_type": "code",
   "execution_count": null,
   "metadata": {},
   "outputs": [],
   "source": [
    "sent1 = \"Hello my name is Rafael\"\n",
    "\n",
    "print(string.lower())"
   ]
  },
  {
   "cell_type": "code",
   "execution_count": null,
   "metadata": {},
   "outputs": [],
   "source": [
    "print(string.upper())"
   ]
  },
  {
   "cell_type": "code",
   "execution_count": null,
   "metadata": {},
   "outputs": [],
   "source": [
    "print(string.capitalize())"
   ]
  },
  {
   "cell_type": "code",
   "execution_count": null,
   "metadata": {},
   "outputs": [],
   "source": [
    "sent2 = \"heLLo mY naMe iS rafaEl\"\n",
    "\n",
    "# comparing them in lowercase form\n",
    "if sent1.lower() == sent2.lower():\n",
    "    print(\"Sentences are the same\")"
   ]
  },
  {
   "cell_type": "markdown",
   "metadata": {},
   "source": [
    " "
   ]
  },
  {
   "cell_type": "markdown",
   "metadata": {},
   "source": [
    "### 3.5) is methods\n",
    "\n",
    "Python has a lot of String methods to check what type of characters they contain, here is a list of the most useful:\n",
    "\n",
    "- `isalnum` - True when all characters are **alphanumeric**, in alphabet or a digit\n",
    "\n",
    "- `isalpha` - True when all characters are in the **alphabet**\n",
    "\n",
    "- `isdigit` - True when all characters are **digits**\n",
    "\n",
    "- `islower` - True when all characters are **lowercase**\n",
    "\n",
    "- `isupper` - True when all characters are **uppercase**\n",
    "\n",
    "- `isspace` - True when all characters are **whitespaces**\n",
    "\n",
    "- `istitle` - True when all words are **capitalized**, first character uppercase and rest lower"
   ]
  },
  {
   "cell_type": "code",
   "execution_count": null,
   "metadata": {},
   "outputs": [],
   "source": [
    "string = \"hello\"\n",
    "print(string.isalnum())"
   ]
  },
  {
   "cell_type": "code",
   "execution_count": null,
   "metadata": {},
   "outputs": [],
   "source": [
    "string = \"hello3 world\"\n",
    "print(string.isalnum())  # False as contains a space"
   ]
  },
  {
   "cell_type": "code",
   "execution_count": null,
   "metadata": {},
   "outputs": [],
   "source": [
    "string = \"hello\"\n",
    "print(string.islower())"
   ]
  },
  {
   "cell_type": "code",
   "execution_count": null,
   "metadata": {},
   "outputs": [],
   "source": [
    "string = \"10002\"\n",
    "print(string.isdigit())"
   ]
  },
  {
   "cell_type": "code",
   "execution_count": null,
   "metadata": {},
   "outputs": [],
   "source": [
    "string = \"This Is A Title\"\n",
    "print(string.istitle())"
   ]
  },
  {
   "cell_type": "markdown",
   "metadata": {},
   "source": [
    " "
   ]
  },
  {
   "cell_type": "markdown",
   "metadata": {},
   "source": [
    "### 3.6) Split\n",
    "\n",
    "`split` performs the opposite operation to `join`. It splits a string into an array. By default it splits the string at any whitespace, however you can specify the separator to split on by passing it as an argument: `split(separator)`."
   ]
  },
  {
   "cell_type": "code",
   "execution_count": null,
   "metadata": {},
   "outputs": [],
   "source": [
    "string = \"Hello my name is Rafael\"\n",
    "\n",
    "print(string.split())"
   ]
  },
  {
   "cell_type": "code",
   "execution_count": null,
   "metadata": {},
   "outputs": [],
   "source": [
    "string = \"You can split this sentence in half, if you want\"\n",
    "\n",
    "# split on comma followed by space\n",
    "print(string.split(\", \"))"
   ]
  },
  {
   "cell_type": "markdown",
   "metadata": {},
   "source": [
    "You can also specify the maximum amount of splits to do by providing a second argument: `string.split(separator, maxsplit)`."
   ]
  },
  {
   "cell_type": "code",
   "execution_count": null,
   "metadata": {},
   "outputs": [],
   "source": [
    "string = \"Hello my name is Rafael\"\n",
    "\n",
    "print(string.split(' ', 2))"
   ]
  },
  {
   "cell_type": "markdown",
   "metadata": {},
   "source": [
    " "
   ]
  },
  {
   "cell_type": "markdown",
   "metadata": {},
   "source": [
    "### 3.7) Replace\n",
    "\n",
    "The `replace` method can be used to replace a sub-string inside a string. The syntax is `string.replace(oldvalue, newvalue)` where the `oldvalue` is what you want to replace with the `newvalue`."
   ]
  },
  {
   "cell_type": "code",
   "execution_count": null,
   "metadata": {},
   "outputs": [],
   "source": [
    "string = \"Hello my name is Rafael\"\n",
    "\n",
    "print(string.replace(\"Rafael\", \"Sam\"))"
   ]
  },
  {
   "cell_type": "markdown",
   "metadata": {},
   "source": [
    "By default `replace` will replace all instances of the sub-string, however you can provide a third argument which limits how many replacements are made: `string.replace(oldvalue, newvalue, count)`. The replacements are made left to right until the `count` is reached."
   ]
  },
  {
   "cell_type": "code",
   "execution_count": null,
   "metadata": {},
   "outputs": [],
   "source": [
    "string = \"one two one\"\n",
    "\n",
    "print(string.replace(\"one\", \"three\", 1))"
   ]
  },
  {
   "cell_type": "markdown",
   "metadata": {},
   "source": [
    " "
   ]
  },
  {
   "cell_type": "markdown",
   "metadata": {},
   "source": [
    "### 3.8) Strip\n",
    "\n",
    "The `strip` method is used to remove any leading (at the beginning) or trailing (at the end) characters. By default it will remove spaces, however you can provide a set as an argument which specifies which characters to remove. The main use of this is to remove whitespaces left when taking user input."
   ]
  },
  {
   "cell_type": "code",
   "execution_count": null,
   "metadata": {},
   "outputs": [],
   "source": [
    "string = \"         strip         \"\n",
    "\n",
    "print(\"without\", string, \"it looks like this\")\n",
    "print(\"with\", string.strip(), \"it looks like this\")"
   ]
  },
  {
   "cell_type": "code",
   "execution_count": null,
   "metadata": {},
   "outputs": [],
   "source": [
    "string = input(\"Enter a string with leading spaces: \")\n",
    "\n",
    "print(string)\n",
    "print(string.strip())"
   ]
  },
  {
   "cell_type": "markdown",
   "metadata": {},
   "source": [
    " "
   ]
  },
  {
   "cell_type": "markdown",
   "metadata": {},
   "source": [
    "### 3.9) Index / Find\n",
    "\n",
    "The methods `index` and `find` can be used to return the position of a character or sub-string in a string. They take the value you are searching for as an argument: `string.find(value)` and `string.index(value)`.\n",
    "\n",
    "The difference between them is that `index` raises an error if the value you specify isn't in the string, where as `find` returns `-1`. `index` can therefore be used if you want your program to raise an error and stop if the value you are searching for doesn't exist, while `find` is more useful if you want to continue and perform a different action. Comparing the result of `find` to `-1` allows you to check whether the item is found."
   ]
  },
  {
   "cell_type": "code",
   "execution_count": null,
   "metadata": {},
   "outputs": [],
   "source": [
    "string = \"Hello world!\"\n",
    "\n",
    "print(string.find(\"l\"))"
   ]
  },
  {
   "cell_type": "code",
   "execution_count": null,
   "metadata": {},
   "outputs": [],
   "source": [
    "# returns the position the sub-string starts\n",
    "print(string.find('world'))"
   ]
  },
  {
   "cell_type": "markdown",
   "metadata": {},
   "source": [
    "These methods can also take positions to search between: `string.find(value, start, end)`. This means it will only search for the value in between the positions of start and end."
   ]
  },
  {
   "cell_type": "code",
   "execution_count": null,
   "metadata": {},
   "outputs": [],
   "source": [
    "string = \"Hello world!\"\n",
    "\n",
    "print(string.find(\"l\", 5, 10))"
   ]
  },
  {
   "cell_type": "markdown",
   "metadata": {},
   "source": [
    " "
   ]
  },
  {
   "cell_type": "markdown",
   "metadata": {},
   "source": [
    "### 3.10) Count\n",
    "\n",
    "The `count` method can be used to count the occurances of a character or sub-string in a string. It takes the value you are searching for as an argument `string.count(value)` and returns the occurances as an integer."
   ]
  },
  {
   "cell_type": "code",
   "execution_count": null,
   "metadata": {},
   "outputs": [],
   "source": [
    "string = \"Hello world!\"\n",
    "\n",
    "print(string.count(\"l\"))"
   ]
  },
  {
   "cell_type": "code",
   "execution_count": null,
   "metadata": {},
   "outputs": [],
   "source": [
    "print(string.count(\"world\"))"
   ]
  },
  {
   "cell_type": "markdown",
   "metadata": {},
   "source": [
    "Count also can take positions to search between: `string.count(value, start, end)`. It will return the count of value between the positions start and end."
   ]
  },
  {
   "cell_type": "code",
   "execution_count": null,
   "metadata": {},
   "outputs": [],
   "source": [
    "string = \"Hello world!\"\n",
    "\n",
    "print(string.count(\"l\", 0, 5))"
   ]
  }
 ],
 "metadata": {
  "kernelspec": {
   "display_name": "Python 3",
   "language": "python",
   "name": "python3"
  },
  "language_info": {
   "codemirror_mode": {
    "name": "ipython",
    "version": 3
   },
   "file_extension": ".py",
   "mimetype": "text/x-python",
   "name": "python",
   "nbconvert_exporter": "python",
   "pygments_lexer": "ipython3",
   "version": "3.7.4"
  }
 },
 "nbformat": 4,
 "nbformat_minor": 2
}
