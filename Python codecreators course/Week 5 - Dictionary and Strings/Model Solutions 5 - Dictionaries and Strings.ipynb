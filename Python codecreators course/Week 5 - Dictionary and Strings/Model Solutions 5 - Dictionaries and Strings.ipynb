{
 "cells": [
  {
   "cell_type": "markdown",
   "metadata": {},
   "source": [
    "# Exercises Strings"
   ]
  },
  {
   "cell_type": "markdown",
   "metadata": {},
   "source": [
    "### Question 1 (Recap)\n",
    "\n",
    "Make a program that remove duplicated words from the following text, and print the new text:\n",
    "    \n",
    "    We are Code Code Creators Creators - a led student student led project teaching teaching students students new coding skills in Python Python"
   ]
  },
  {
   "cell_type": "code",
   "execution_count": null,
   "metadata": {},
   "outputs": [],
   "source": [
    "text = \"We are Code Code Creators Creators - a led student student led project teaching teaching students students new coding skills in Python Python\"\n",
    "\n",
    "# Splits words by spaces and create a list out of them\n",
    "words = text.split(\" \")\n",
    "\n",
    "# Empty List to insert non_duplicates\n",
    "non_duplicates = []\n",
    "\n",
    "# loop through the words\n",
    "for i in words:\n",
    "    # Check if the word already added\n",
    "    if i not in non_duplicates:\n",
    "        non_duplicates.append(i)\n",
    "\n",
    "# Join the words together and printing the new text\n",
    "new_text = \" \".join(non_duplicates)\n",
    "\n",
    "print(new_text)"
   ]
  },
  {
   "cell_type": "markdown",
   "metadata": {},
   "source": [
    "### Question 2\n",
    "\n",
    "Make a character counter, that receives the following text and outputs the number of characters in it, **not including white spaces**:\n",
    "\n",
    "    Lorem Ipsum is simply dummy text of the printing and typesetting industry. Lorem Ipsum has been the industry's standard dummy text ever since the 1500s, when an unknown printer took a galley of type and scrambled it to make a type specimen book. \n",
    "    \n",
    "***\n",
    "**Lorem Ipsum:** is a dummy text generator widely used by developers to tests different graphical toold, like websites."
   ]
  },
  {
   "cell_type": "code",
   "execution_count": null,
   "metadata": {},
   "outputs": [],
   "source": [
    "text = \"Lorem Ipsum is simply dummy text of the printing and typesetting industry. Lorem Ipsum has been the industry's standard dummy text ever since the 1500s, when an unknown printer took a galley of type and scrambled it to make a type specimen book .\"\n",
    "\n",
    "# Replace all the whitespaces\n",
    "text = text.replace(\" \", \"\")\n",
    "\n",
    "# Print the length of the String (which is the character counter)\n",
    "print(len(text))"
   ]
  },
  {
   "cell_type": "markdown",
   "metadata": {},
   "source": [
    "### Question 3\n",
    "\n",
    "Ask the user to input a word and check if the word is a palindrome or not.\n",
    "***\n",
    "A palindrome word is a word that reads the same backward or forward.\n",
    "\n",
    "**E.g.** kayak, madam\n"
   ]
  },
  {
   "cell_type": "code",
   "execution_count": null,
   "metadata": {},
   "outputs": [],
   "source": [
    "# Gets the word from the user and change to all lowercase\n",
    "word = input(\"Please insert a word: \").lower()\n",
    "\n",
    "# Check if the reversed word is palindrome\n",
    "if word == word[::-1]:\n",
    "    print(word, \"is palindrome\")\n",
    "else:\n",
    "    print(word, \"is not palindrome\")"
   ]
  },
  {
   "cell_type": "markdown",
   "metadata": {},
   "source": [
    "### Question 4\n",
    "\n",
    "Return the longest and shortest word from the following list:\n",
    "    \n",
    "    ['Python', 'is', 'an', 'interpreted', 'object-oriented', 'high-level', 'programming', 'language', 'with', 'dynamic', 'semantics.', 'Its', 'high-level', 'built', 'in', 'data', 'structures', 'combined', 'with', 'dynamic', 'typing', 'and', 'dynamic', 'binding,', 'make', 'it', 'very', 'attractive', 'for', 'Rapid', 'Application', 'Development,', 'as', 'well', 'as', 'for', 'use', 'as', 'a', 'scripting', 'or', 'glue', 'language', 'to', 'connect', 'existing', 'components', 'together', \"Python's\", 'simple', 'easy', 'to', 'learn', 'syntax', 'emphasizes', 'readability', 'and', 'therefore', 'reduces', 'the', 'cost', 'of', 'program', 'maintenance.', 'Python', 'supports', 'modules', 'and', 'packages,', 'which', 'encourages', 'program', 'modularity', 'and', 'code', 'reuse', 'The', 'Python', 'interpreter', 'and', 'the', 'extensive', 'standard', 'library', 'are', 'available', 'in', 'source', 'or', 'binary', 'form', 'without', 'charge', 'for', 'all', 'major', 'platforms,', 'and', 'can', 'be', 'freely', 'distributed']"
   ]
  },
  {
   "cell_type": "code",
   "execution_count": 2,
   "metadata": {},
   "outputs": [
    {
     "name": "stdout",
     "output_type": "stream",
     "text": [
      "Largest: object-oriented,  Smallest: a\n"
     ]
    }
   ],
   "source": [
    "words = ['Python', 'is', 'an', 'interpreted,', 'object-oriented,', 'high-level', 'programming', 'language', 'with', 'dynamic', 'semantics.', 'Its', 'high-level', 'built', 'in', 'data', 'structures,', 'combined', 'with', 'dynamic', 'typing', 'and', 'dynamic', 'binding,', 'make', 'it', 'very', 'attractive', 'for', 'Rapid', 'Application', 'Development,', 'as', 'well', 'as', 'for', 'use', 'as', 'a', 'scripting', 'or', 'glue', 'language', 'to', 'connect', 'existing', 'components', 'together.', \"Python's\", 'simple,', 'easy', 'to', 'learn', 'syntax', 'emphasizes', 'readability', 'and', 'therefore', 'reduces', 'the', 'cost', 'of', 'program', 'maintenance.', 'Python', 'supports', 'modules', 'and', 'packages,', 'which', 'encourages', 'program', 'modularity', 'and', 'code', 'reuse.', 'The', 'Python', 'interpreter', 'and', 'the', 'extensive', 'standard', 'library', 'are', 'available', 'in', 'source', 'or', 'binary', 'form', 'without', 'charge', 'for', 'all', 'major', 'platforms,', 'and', 'can', 'be', 'freely', 'distributed.']\n",
    "\n",
    "# Variables to save the smallest and largest words\n",
    "largest = \"\"\n",
    "smallest = \"StartsWithALargerWord\"\n",
    "\n",
    "# Go through the whole list\n",
    "for i in words:\n",
    "    \n",
    "    # Gets the length of the current word\n",
    "    word_len = len(i)\n",
    "    \n",
    "    # Check the word against the saved variables\n",
    "    if word_len > len(largest):\n",
    "        largest = i\n",
    "    elif word_len < len(smallest):\n",
    "        smallest = i\n",
    "        \n",
    "print(\"Largest:\", largest,\" Smallest:\", smallest)"
   ]
  },
  {
   "cell_type": "markdown",
   "metadata": {},
   "source": [
    "### Question 5\n",
    "Sum all the values from the following dictionary:\n",
    "    \n",
    "    {\"e\":12.02, \"u\":2.88, \"a\":8.12, \"o\":7.68, \"i\":7.31}"
   ]
  },
  {
   "cell_type": "code",
   "execution_count": 3,
   "metadata": {},
   "outputs": [
    {
     "name": "stdout",
     "output_type": "stream",
     "text": [
      "38.01\n"
     ]
    }
   ],
   "source": [
    "d = {\"e\":12.02, \"u\":2.88, \"a\":8.12, \"o\":7.68, \"i\":7.31}\n",
    "\n",
    "# take the alues and sum them\n",
    "print(sum(d.values()))"
   ]
  },
  {
   "cell_type": "markdown",
   "metadata": {},
   "source": [
    "### Question 6\n",
    "\n",
    "Merge the two following lists into a dictionary with their names and ages, print out the dictionary:\n",
    "    \n",
    "    [\"Jose\", \"Gustavo\", \"Jack\", \"Augusto\", \"Steve\", \"Johnson\"]\n",
    "    \n",
    "    [23, 55, 77, 22, 34, 33]\n",
    "    \n",
    "**E.g. output )**\n",
    "\n",
    "    {'Jose': 23, 'Gustavo': 55, 'Jack': 77, 'Augusto': 22, 'Steve': 34, 'Johnson': 33}"
   ]
  },
  {
   "cell_type": "code",
   "execution_count": 4,
   "metadata": {
    "scrolled": false
   },
   "outputs": [
    {
     "name": "stdout",
     "output_type": "stream",
     "text": [
      "{'Jose': 23, 'Gustavo': 55, 'Jack': 77, 'Augusto': 22, 'Steve': 34, 'Johnson': 33}\n"
     ]
    }
   ],
   "source": [
    "names = [\"Jose\", \"Gustavo\", \"Jack\", \"Augusto\", \"Steve\", \"Johnson\"]\n",
    "ages = [23, 55, 77, 22, 34, 33]\n",
    "\n",
    "# initilize an empty dictionary\n",
    "people = {}\n",
    "\n",
    "# loop through both lists by index\n",
    "for i in range(len(names)):\n",
    "    people[names[i]] = ages[i]\n",
    "    \n",
    "print(people)"
   ]
  },
  {
   "cell_type": "markdown",
   "metadata": {},
   "source": [
    "### Question 7\n",
    "\n",
    "Generate a dictionary that counts the frequency of each letter from the given text:\n",
    "    \n",
    "    This is another reason of why programmers are learning Python in 2018. The growth of machine learning is phenomenal in last a couple of years and it’s rapidly changing everything around us.Algorithms become sophisticated day by day, the best example is Google’s Search Algorithms, which can now answer what you are expecting. There are Chatbots around to answer your queries and Uber is totally driven by Algorithms. If you are interested in machine learning, want to do a pet project or just want to play around, Python is the only major programming language which makes it easy.Though there are machine learning libraries available in Java, you will find more content around Python as developer community is preferring Python over anything else on Data Science and Machine learning.\n",
    "\n",
    "***\n",
    "Do not count white spaces\n",
    "***\n",
    "**The frequency can be calculated as the sum of all the occurrences of the letter divided by the number of letters in the text**\n"
   ]
  },
  {
   "cell_type": "code",
   "execution_count": 18,
   "metadata": {},
   "outputs": [
    {
     "name": "stdout",
     "output_type": "stream",
     "text": [
      "{'t': 0.0668693009118541, 'h': 0.05167173252279635, 'i': 0.07142857142857142, 's': 0.05015197568389058, 'a': 0.0972644376899696, 'n': 0.08662613981762918, 'o': 0.07142857142857142, 'e': 0.1033434650455927, 'r': 0.07446808510638298, 'f': 0.00911854103343465, 'w': 0.016717325227963525, 'y': 0.03343465045592705, 'p': 0.025835866261398176, 'g': 0.034954407294832825, 'm': 0.028875379939209727, 'l': 0.03951367781155015, 'c': 0.028875379939209727, 'u': 0.0243161094224924, 'd': 0.025835866261398176, '’': 0.00303951367781155, 'v': 0.00911854103343465, 'b': 0.0121580547112462, 'x': 0.00303951367781155, 'q': 0.001519756838905775, 'j': 0.0060790273556231, 'k': 0.001519756838905775}\n"
     ]
    }
   ],
   "source": [
    "# Save the text into a string variable\n",
    "text = 'This is another reason of why programmers are learning Python in 2018. The growth of machine learning is phenomenal in last a couple of years and it’s rapidly changing everything around us.Algorithms become sophisticated day by day, the best example is Google’s Search Algorithms, which can now answer what you are expecting. There are Chatbots around to answer your queries and Uber is totally driven by Algorithms. If you are interested in machine learning, want to do a pet project or just want to play around, Python is the only major programming language which makes it easy.Though there are machine learning libraries available in Java, you will find more content around Python as developer community is preferring Python over anything else on Data Science and Machine learning.'\n",
    "\n",
    "# Do not count any special characters\n",
    "non_letter_characters = ['~', ':', \"'\", '+', '[', '\\\\', '@', '^', '{', '%', '(', '-', '\"', '*', '|', ',', '&', '<', '`', '}', '.', '_', '=', ']', '!', '>', ';', '?', '#', '$', ')', '/']\n",
    "\n",
    "# Replace any spaces and divide all the letters into a list\n",
    "letters = list(text.replace(\" \", \"\").lower())\n",
    "\n",
    "# Get the number of letters in the list\n",
    "num_letters = len(letters)\n",
    "\n",
    "# Dicitonary to count the frequency of the letters\n",
    "counts = {}\n",
    "\n",
    "\n",
    "# Start the counts\n",
    "for i in letters:\n",
    "    \n",
    "    #Check if i is not a special character and is not a number\n",
    "    if (i not in non_letter_characters) and  not (i.isdigit()):\n",
    "        \n",
    "        #Count the occurrences of the letter\n",
    "        if i in counts:\n",
    "            counts[i] += 1\n",
    "        else:\n",
    "\n",
    "            counts[i] = 1\n",
    "\n",
    "            \n",
    "# Get the frequency of each letter in the text\n",
    "for i in counts:\n",
    "    counts[i] /= num_letters\n",
    "    \n",
    "\n",
    "print(counts)\n"
   ]
  },
  {
   "cell_type": "markdown",
   "metadata": {},
   "source": [
    "### Question 8 (Challenging)\n",
    "\n",
    "Make a character counter with the following text that returns the number of vowels, lowercase, uppercase, special characters (punctuations) and white spaces from the following text. (use dictionary)\n",
    "\n",
    "    Collige omnia, quae soletis: Praesidium amicorum. Nam Pyrrho, Aristo, Erillus iam diu abiecti. Ut placet, inquit, etsi enim illud erat aptius, aequum cuique concedere. Nonne videmus quanta perturbatio rerum omnium consequatur, quanta confusio? Prave, nequiter, turpiter cenabat; Consequens enim est et post oritur, ut dixi. Omnes enim iucundum motum, quo sensus hilaretur. Etsi ea quidem, quae adhuc dixisti, quamvis ad aetatem recte isto modo dicerentur. Dempta enim aeternitate nihilo beatior Iuppiter quam Epicurus;\n",
    "***\n",
    "**List of Special Characters:** \n",
    "\n",
    "    ['~', ':', \"'\", '+', '[', '\\\\', '@', '^', '{', '%', '(', '-', '\"', '*', '|', ',', '&', '<', '`', '}', '.', '_', '=', ']', '!', '>', ';', '?', '#', '$', ')', '/']\n",
    "***\n",
    "**E.g. output:** \n",
    "    \n",
    "    Vowels: 194\n",
    "    Uppercase: 15\n",
    "    Lowercase: 408\n",
    "    Special: 23\n",
    "    White Spaces: 72\n"
   ]
  },
  {
   "cell_type": "code",
   "execution_count": null,
   "metadata": {},
   "outputs": [],
   "source": [
    "text = \"Collige omnia, quae soletis: Praesidium amicorum. Nam Pyrrho, Aristo, Erillus iam diu abiecti. Ut placet, inquit, etsi enim illud erat aptius, aequum cuique concedere. Nonne videmus quanta perturbatio rerum omnium consequatur, quanta confusio? Prave, nequiter, turpiter cenabat; Consequens enim est et post oritur, ut dixi. Omnes enim iucundum motum, quo sensus hilaretur. Etsi ea quidem, quae adhuc dixisti, quamvis ad aetatem recte isto modo dicerentur. Dempta enim aeternitate nihilo beatior Iuppiter quam Epicurus;\"\n",
    "punctuations = ['~', ':', \"'\", '+', '[', '\\\\', '@', '^', '{', '%', '(', '-', '\"', '*', '|', ',', '&', '<', '`', '}', '.', '_', '=', ']', '!', '>', ';', '?', '#', '$', ')', '/']\n",
    "vowels = ['a','i','e','o','u']\n",
    "\n",
    "# Initialize a dictionary to count\n",
    "counts = {\"lowercases\":0, \"uppercases\":0, \"specials\":0, \"spaces\":0, \"vowels\":0}\n",
    "\n",
    "for i in text:\n",
    "    # Check if is a vowel\n",
    "    if i in vowels:\n",
    "        counts[\"vowels\"] += 1\n",
    "    \n",
    "    # Check if is a special character\n",
    "    if i in punctuations:\n",
    "        counts[\"specials\"] += 1\n",
    "    \n",
    "    # Check if is a white space\n",
    "    if i == \" \":\n",
    "        counts[\"spaces\"] += 1\n",
    "        \n",
    "    # Check if is uppercase\n",
    "    if i.isupper():\n",
    "        counts[\"uppercases\"] += 1\n",
    "        \n",
    "    # Check if is lowercase\n",
    "    if i.islower():\n",
    "        counts[\"lowercases\"] += 1\n",
    "\n",
    "print('Vowels: ', counts[\"vowels\"])\n",
    "print('Uppercase: ', counts[\"uppercases\"])\n",
    "print('Lowercase: ', counts[\"lowercases\"])\n",
    "print('Special: ', counts[\"specials\"])\n",
    "print('White Spaces: ', counts[\"spaces\"])\n",
    " "
   ]
  },
  {
   "cell_type": "code",
   "execution_count": null,
   "metadata": {},
   "outputs": [],
   "source": []
  },
  {
   "cell_type": "code",
   "execution_count": null,
   "metadata": {},
   "outputs": [],
   "source": []
  }
 ],
 "metadata": {
  "kernelspec": {
   "display_name": "Python 3",
   "language": "python",
   "name": "python3"
  },
  "language_info": {
   "codemirror_mode": {
    "name": "ipython",
    "version": 3
   },
   "file_extension": ".py",
   "mimetype": "text/x-python",
   "name": "python",
   "nbconvert_exporter": "python",
   "pygments_lexer": "ipython3",
   "version": "3.7.4"
  }
 },
 "nbformat": 4,
 "nbformat_minor": 2
}
