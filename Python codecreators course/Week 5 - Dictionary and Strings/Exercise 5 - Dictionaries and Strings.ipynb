{
 "cells": [
  {
   "cell_type": "markdown",
   "metadata": {},
   "source": [
    "# Exercise 5 - Dictionaries and Strings"
   ]
  },
  {
   "cell_type": "markdown",
   "metadata": {},
   "source": [
    "### Question 1 (Recap)\n",
    "\n",
    "Make a program that remove duplicated words from the following text, and print the new text:\n",
    "    \n",
    "    We are Code Code Creators Creators - a led student student led project teaching teaching students students new coding skills in Python Python"
   ]
  },
  {
   "cell_type": "code",
   "execution_count": 4,
   "metadata": {},
   "outputs": [
    {
     "name": "stdout",
     "output_type": "stream",
     "text": [
      "We are Code Creators - a led student project teaching students new coding skills in Python\n"
     ]
    }
   ],
   "source": [
    "text = \"We are Code Code Creators Creators - a led student student led project teaching teaching students students new coding skills in Python Python\"\n",
    "\n",
    "# this .splits the text by the \"space\" that separates them, making them individuals\n",
    "words = text.split(\" \")\n",
    "\n",
    "# non_duplicates forms an empty list\n",
    "non_duplicates = []\n",
    "\n",
    "# this goes through each word and sees if its doubled\n",
    "for i in words:\n",
    "    # Check if the word already added\n",
    "    if i not in non_duplicates:\n",
    "        non_duplicates.append(i)\n",
    "    #.append adds it to the list non_duplicates\n",
    "\n",
    "# Join the words together and printing the new text, which joins them all\n",
    "new_text = \" \".join(non_duplicates)\n",
    "\n",
    "print(new_text)"
   ]
  },
  {
   "cell_type": "markdown",
   "metadata": {},
   "source": [
    "### Question 2\n",
    "\n",
    "Make a character counter, that receives the following text and outputs the number of characters in it, **not including white spaces**:\n",
    "\n",
    "    Lorem Ipsum is simply dummy text of the printing and typesetting industry. Lorem Ipsum has been the industry's standard dummy text ever since the 1500s, when an unknown printer took a galley of type and scrambled it to make a type specimen book. \n",
    "    \n",
    "***\n",
    "**Lorem Ipsum:** is a dummy text generator widely used by developers to tests different graphical toold, like websites."
   ]
  },
  {
   "cell_type": "code",
   "execution_count": 10,
   "metadata": {},
   "outputs": [
    {
     "name": "stdout",
     "output_type": "stream",
     "text": [
      "203\n"
     ]
    }
   ],
   "source": [
    "text = \"Lorem Ipsum is simply dummy text of the printing and typesetting industry. Lorem Ipsum has been the industry's standard dummy text ever since the 1500s, when an unknown printer took a galley of type and scrambled it to make a type specimen book .\"\n",
    "\n",
    "testcount = len(text) - text.count(\" \")\n",
    "\n",
    "print(testcount)"
   ]
  },
  {
   "cell_type": "markdown",
   "metadata": {},
   "source": [
    "### Question 3\n",
    "\n",
    "Ask the user to input a word and check if the word is palindrome or not.\n",
    "***\n",
    "A palindrome word is a word that reads the same backward or forward.\n",
    "\n",
    "**E.g.** kayak, madam\n"
   ]
  },
  {
   "cell_type": "code",
   "execution_count": 28,
   "metadata": {},
   "outputs": [
    {
     "name": "stdout",
     "output_type": "stream",
     "text": [
      "Enter a word and we'll see if it's palindrome pOoP\n",
      "poop is palindrome\n"
     ]
    }
   ],
   "source": [
    "word = str(input(\"Enter a word and we'll see if it's palindrome \")).lower()\n",
    "          \n",
    "\n",
    "if word == word[::-1]:\n",
    "\n",
    "    print(word, \"is palindrome\")\n",
    "\n",
    "else:\n",
    "\n",
    "    print(word, \"is not palindrome\")\n"
   ]
  },
  {
   "cell_type": "markdown",
   "metadata": {},
   "source": [
    "### Question 4\n",
    "\n",
    "Return the longest and shortest word from the following list:\n",
    "    \n",
    "    ['Python', 'is', 'an', 'interpreted', 'object-oriented', 'high-level', 'programming', 'language', 'with', 'dynamic', 'semantics.', 'Its', 'high-level', 'built', 'in', 'data', 'structures', 'combined', 'with', 'dynamic', 'typing', 'and', 'dynamic', 'binding,', 'make', 'it', 'very', 'attractive', 'for', 'Rapid', 'Application', 'Development,', 'as', 'well', 'as', 'for', 'use', 'as', 'a', 'scripting', 'or', 'glue', 'language', 'to', 'connect', 'existing', 'components', 'together', \"Python's\", 'simple', 'easy', 'to', 'learn', 'syntax', 'emphasizes', 'readability', 'and', 'therefore', 'reduces', 'the', 'cost', 'of', 'program', 'maintenance.', 'Python', 'supports', 'modules', 'and', 'packages,', 'which', 'encourages', 'program', 'modularity', 'and', 'code', 'reuse', 'The', 'Python', 'interpreter', 'and', 'the', 'extensive', 'standard', 'library', 'are', 'available', 'in', 'source', 'or', 'binary', 'form', 'without', 'charge', 'for', 'all', 'major', 'platforms,', 'and', 'can', 'be', 'freely', 'distributed']"
   ]
  },
  {
   "cell_type": "code",
   "execution_count": 36,
   "metadata": {},
   "outputs": [
    {
     "name": "stdout",
     "output_type": "stream",
     "text": [
      "object-oriented,\n",
      "a\n"
     ]
    }
   ],
   "source": [
    "words = ['Python', 'is', 'an', 'interpreted,', 'object-oriented,', 'high-level', 'programming', 'language', 'with', 'dynamic', 'semantics.', 'Its', 'high-level', 'built', 'in', 'data', 'structures,', 'combined', 'with', 'dynamic', 'typing', 'and', 'dynamic', 'binding,', 'make', 'it', 'very', 'attractive', 'for', 'Rapid', 'Application', 'Development,', 'as', 'well', 'as', 'for', 'use', 'as', 'a', 'scripting', 'or', 'glue', 'language', 'to', 'connect', 'existing', 'components', 'together.', \"Python's\", 'simple,', 'easy', 'to', 'learn', 'syntax', 'emphasizes', 'readability', 'and', 'therefore', 'reduces', 'the', 'cost', 'of', 'program', 'maintenance.', 'Python', 'supports', 'modules', 'and', 'packages,', 'which', 'encourages', 'program', 'modularity', 'and', 'code', 'reuse.', 'The', 'Python', 'interpreter', 'and', 'the', 'extensive', 'standard', 'library', 'are', 'available', 'in', 'source', 'or', 'binary', 'form', 'without', 'charge', 'for', 'all', 'major', 'platforms,', 'and', 'can', 'be', 'freely', 'distributed.']\n",
    "\n",
    "longest = max(words, key = len)\n",
    "shortest = min(words, key = len)\n",
    "\n",
    "print(longest)\n",
    "print(shortest)\n"
   ]
  },
  {
   "cell_type": "markdown",
   "metadata": {},
   "source": [
    "### Question 5\n",
    "Sum all the values from the following dictionary:\n",
    "    \n",
    "    {\"e\":12.02, \"u\":2.88, \"a\":8.12, \"o\":7.68, \"i\":7.31}"
   ]
  },
  {
   "cell_type": "code",
   "execution_count": null,
   "metadata": {},
   "outputs": [],
   "source": [
    "d = {\"e\":12.02, \"u\":2.88, \"a\":8.12, \"o\":7.68, \"i\":7.31}\n",
    "\n",
    "# take the alues and sum them\n",
    "print(sum(d.values()))"
   ]
  },
  {
   "cell_type": "markdown",
   "metadata": {},
   "source": [
    "### Question 6\n",
    "\n",
    "Merge the two following lists into a dictionary with their names and ages, print out the dictionary:\n",
    "    \n",
    "    [\"Jose\", \"Gustavo\", \"Jack\", \"Augusto\", \"Steve\", \"Johnson\"]\n",
    "    \n",
    "    [23, 55, 77, 22, 34, 33]\n",
    "    \n",
    "**E.g. output )**\n",
    "\n",
    "    {'Jose': 23, 'Gustavo': 55, 'Jack': 77, 'Augusto': 22, 'Steve': 34, 'Johnson': 33}"
   ]
  },
  {
   "cell_type": "code",
   "execution_count": 40,
   "metadata": {
    "scrolled": false
   },
   "outputs": [
    {
     "ename": "SyntaxError",
     "evalue": "invalid syntax (<ipython-input-40-f4e9dc73f6fc>, line 6)",
     "output_type": "error",
     "traceback": [
      "\u001b[1;36m  File \u001b[1;32m\"<ipython-input-40-f4e9dc73f6fc>\"\u001b[1;36m, line \u001b[1;32m6\u001b[0m\n\u001b[1;33m    nameage = (names:ages)\u001b[0m\n\u001b[1;37m                    ^\u001b[0m\n\u001b[1;31mSyntaxError\u001b[0m\u001b[1;31m:\u001b[0m invalid syntax\n"
     ]
    }
   ],
   "source": [
    "names = [\"Jose\", \"Gustavo\", \"Jack\", \"Augusto\", \"Steve\", \"Johnson\"]\n",
    "ages = [23, 55, 77, 22, 34, 33]\n",
    "\n",
    "# initilize an empty dictionary\n",
    "people = {}\n",
    "\n",
    "# loop through both lists by index\n",
    "for i in range(len(names)):\n",
    "    people[names[i]] = ages[i]\n",
    "    \n",
    "print(people)"
   ]
  },
  {
   "cell_type": "markdown",
   "metadata": {},
   "source": [
    "### Question 7\n",
    "\n",
    "Generate a dictionary that counts the frequency of each letter from the given text:\n",
    "    \n",
    "    This is another reason of why programmers are learning Python in 2018. The growth of machine learning is phenomenal in last a couple of years and it’s rapidly changing everything around us.Algorithms become sophisticated day by day, the best example is Google’s Search Algorithms, which can now answer what you are expecting. There are Chatbots around to answer your queries and Uber is totally driven by Algorithms. If you are interested in machine learning, want to do a pet project or just want to play around, Python is the only major programming language which makes it easy.Though there are machine learning libraries available in Java, you will find more content around Python as developer community is preferring Python over anything else on Data Science and Machine learning.\n",
    "\n",
    "***\n",
    "Do not count white spaces\n",
    "***\n",
    "**The frequency can be calculated as the sum of all the occurrences of the letter divided by the number of letters in the text**\n"
   ]
  },
  {
   "cell_type": "code",
   "execution_count": 41,
   "metadata": {},
   "outputs": [],
   "source": [
    "text = 'This is another reason of why programmers are learning Python in 2018. The growth of machine learning is phenomenal in last a couple of years and it’s rapidly changing everything around us.Algorithms become sophisticated day by day, the best example is Google’s Search Algorithms, which can now answer what you are expecting. There are Chatbots around to answer your queries and Uber is totally driven by Algorithms. If you are interested in machine learning, want to do a pet project or just want to play around, Python is the only major programming language which makes it easy.Though there are machine learning libraries available in Java, you will find more content around Python as developer community is preferring Python over anything else on Data Science and Machine learning.'\n",
    "\n",
    "# Save the text into a string variable\n",
    "text = 'This is another reason of why programmers are learning Python in 2018. The growth of machine learning is phenomenal in last a couple of years and it’s rapidly changing everything around us.Algorithms become sophisticated day by day, the best example is Google’s Search Algorithms, which can now answer what you are expecting. There are Chatbots around to answer your queries and Uber is totally driven by Algorithms. If you are interested in machine learning, want to do a pet project or just want to play around, Python is the only major programming language which makes it easy.Though there are machine learning libraries available in Java, you will find more content around Python as developer community is preferring Python over anything else on Data Science and Machine learning.'\n",
    "\n",
    "# Do not count any special characters\n",
    "non_letter_characters = ['~', ':', \"'\", '+', '[', '\\\\', '@', '^', '{', '%', '(', '-', '\"', '*', '|', ',', '&', '<', '`', '}', '.', '_', '=', ']', '!', '>', ';', '?', '#', '$', ')', '/']\n",
    "\n",
    "# Replace any spaces and divide all the letters into a list\n",
    "letters = list(text.replace(\" \", \"\").lower())\n",
    "\n",
    "# Get the number of letters in the list\n",
    "num_letters = len(letters)\n",
    "\n",
    "# Dicitonary to count the frequency of the letters\n",
    "counts = {}\n",
    "\n",
    "\n",
    "# Start the counts\n",
    "for i in letters:\n",
    "    \n",
    "    #Check if i is not a special character and is not a number\n",
    "    if (i not in non_letter_characters) and  not (i.isdigit()):\n",
    "        \n",
    "        #Count the occurrences of the letter\n",
    "        if i in counts:\n",
    "            counts[i] += 1\n",
    "        else:\n",
    "\n",
    "            counts[i] = 1\n",
    "\n",
    "            \n",
    "# Get the frequency of each letter in the text\n",
    "for i in counts:\n",
    "    counts[i] /= num_letters\n",
    "    \n",
    "\n",
    "print(counts)\n"
   ]
  },
  {
   "cell_type": "markdown",
   "metadata": {},
   "source": [
    "### Question 8 (Challenging)\n",
    "\n",
    "Make a character counter with the following text that returns the number of vowels, lowercase, uppercase, special characters (punctuations) and white spaces from the following text. (use dictionary)\n",
    "\n",
    "    Collige omnia, quae soletis: Praesidium amicorum. Nam Pyrrho, Aristo, Erillus iam diu abiecti. Ut placet, inquit, etsi enim illud erat aptius, aequum cuique concedere. Nonne videmus quanta perturbatio rerum omnium consequatur, quanta confusio? Prave, nequiter, turpiter cenabat; Consequens enim est et post oritur, ut dixi. Omnes enim iucundum motum, quo sensus hilaretur. Etsi ea quidem, quae adhuc dixisti, quamvis ad aetatem recte isto modo dicerentur. Dempta enim aeternitate nihilo beatior Iuppiter quam Epicurus;\n",
    "***\n",
    "**List of Special Characters:** \n",
    "\n",
    "        ['~', ':', \"'\", '+', '[', '\\\\', '@', '^', '{', '%', '(', '-', '\"', '*', '|', ',', '&', '<', '`', '}', '.', '_', '=', ']', '!', '>', ';', '?', '#', '$', ')', '/']\n",
    "***\n",
    "**E.g. output:** \n",
    "    \n",
    "    Vowels:  345\n",
    "    Uppercase:  25\n",
    "    Lowercase:  567\n",
    "    Special:  34\n",
    "    White Spaces:  72\n"
   ]
  },
  {
   "cell_type": "code",
   "execution_count": 2,
   "metadata": {},
   "outputs": [],
   "source": [
    "text = \"Collige omnia, quae soletis: Praesidium amicorum. Nam Pyrrho, Aristo, Erillus iam diu abiecti. Ut placet, inquit, etsi enim illud erat aptius, aequum cuique concedere. Nonne videmus quanta perturbatio rerum omnium consequatur, quanta confusio? Prave, nequiter, turpiter cenabat; Consequens enim est et post oritur, ut dixi. Omnes enim iucundum motum, quo sensus hilaretur. Etsi ea quidem, quae adhuc dixisti, quamvis ad aetatem recte isto modo dicerentur. Dempta enim aeternitate nihilo beatior Iuppiter quam Epicurus;\"\n",
    "punctuations = ['~', ':', \"'\", '+', '[', '\\\\', '@', '^', '{', '%', '(', '-', '\"', '*', '|', ',', '&', '<', '`', '}', '.', '_', '=', ']', '!', '>', ';', '?', '#', '$', ')', '/']\n",
    "vowels = ['a','i','e','o','u']\n",
    "\n"
   ]
  },
  {
   "cell_type": "code",
   "execution_count": null,
   "metadata": {},
   "outputs": [],
   "source": []
  }
 ],
 "metadata": {
  "kernelspec": {
   "display_name": "Python 3",
   "language": "python",
   "name": "python3"
  },
  "language_info": {
   "codemirror_mode": {
    "name": "ipython",
    "version": 3
   },
   "file_extension": ".py",
   "mimetype": "text/x-python",
   "name": "python",
   "nbconvert_exporter": "python",
   "pygments_lexer": "ipython3",
   "version": "3.7.4"
  }
 },
 "nbformat": 4,
 "nbformat_minor": 2
}
