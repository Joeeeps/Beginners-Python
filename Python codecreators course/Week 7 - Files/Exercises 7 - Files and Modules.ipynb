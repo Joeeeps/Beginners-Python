{
 "cells": [
  {
   "cell_type": "markdown",
   "metadata": {},
   "source": [
    "# Exercises 7 - Files and Modules"
   ]
  },
  {
   "cell_type": "markdown",
   "metadata": {},
   "source": [
    "### Question 1)\n",
    "\n",
    "\n",
    "Write a function which given a filename will return the longest word in the file, use the names.txt file to test it."
   ]
  },
  {
   "cell_type": "code",
   "execution_count": 8,
   "metadata": {},
   "outputs": [
    {
     "name": "stdout",
     "output_type": "stream",
     "text": [
      "6\n"
     ]
    }
   ],
   "source": [
    "import csv\n",
    "\n",
    "def longest_word(filename):\n",
    "    with open(filename) as file:\n",
    "        words = file.read().split()\n",
    "        \n",
    "        longest = \"\"\n",
    "        for w in words:\n",
    "            if len(w) > len(longest):\n",
    "                longest = w\n",
    "        \n",
    "        return len(longest)\n",
    "    \n",
    "print(longest_word(\"names.txt\"))"
   ]
  },
  {
   "cell_type": "markdown",
   "metadata": {},
   "source": [
    "### Question 2)\n",
    "\n",
    "Write a function which given an integer returns a list which contains that many random integers."
   ]
  },
  {
   "cell_type": "code",
   "execution_count": 20,
   "metadata": {},
   "outputs": [
    {
     "data": {
      "text/plain": [
       "[8, 4, 8, 9, 7]"
      ]
     },
     "execution_count": 20,
     "metadata": {},
     "output_type": "execute_result"
    }
   ],
   "source": [
    "import random\n",
    "\n",
    "def random_numbers(amount):\n",
    "    nums = []\n",
    "    for i in range(amount):\n",
    "        nums.append(random.randint(0, 10))\n",
    "        \n",
    "    return nums\n",
    "\n",
    "random_numbers(5)"
   ]
  },
  {
   "cell_type": "markdown",
   "metadata": {},
   "source": [
    "### Question 3)\n",
    "\n",
    "Create a function called `write_list` which given a file name and list as parameters will write the given list into the given file. Call this function passing the list `fruit` and then read in the file to check it has worked correctly."
   ]
  },
  {
   "cell_type": "code",
   "execution_count": 26,
   "metadata": {},
   "outputs": [
    {
     "name": "stdout",
     "output_type": "stream",
     "text": [
      "apple\n",
      "pear\n",
      "grapes\n",
      "melon\n",
      "blueberries\n",
      "test\n",
      "\n"
     ]
    }
   ],
   "source": [
    "fruit = ['apple', 'pear', 'grapes', 'melon', 'blueberries', 'test']\n",
    "\n",
    "def write_list(filename, l):\n",
    "    with open(filename, \"w\") as file:\n",
    "        for item in l:\n",
    "            file.write(item + '\\n')\n",
    "    \n",
    "write_list(\"fruits.txt\", fruit)\n",
    "\n",
    "with open(\"fruits.txt\") as file:\n",
    "    print(file.read())"
   ]
  },
  {
   "cell_type": "markdown",
   "metadata": {},
   "source": [
    " "
   ]
  },
  {
   "cell_type": "markdown",
   "metadata": {},
   "source": [
    "### Question 4)\n",
    "\n",
    "Read in the file `names.txt` a line at a time. For each line (name) ask the user for a score between 0 and 100, this input should be validated as a number in the correct range. The name and score should then be saved to a new file called `scores.txt` in the format `name,score`."
   ]
  },
  {
   "cell_type": "code",
   "execution_count": null,
   "metadata": {},
   "outputs": [],
   "source": [
    "read_file = open('names.txt', 'r')\n",
    "write_file = open('scores.txt', 'w')\n",
    "\n",
    "def get_int(output):\n",
    "    user_input = \"\"\n",
    "    while not user_input or not user_input.isdigit(): \n",
    "        user_input = input(output)\n",
    "    return int(user_input)\n",
    "\n",
    "\n",
    "def get_score(output):\n",
    "    score = -1\n",
    "    while not (0 <= score <= 100):\n",
    "        score = get_int(output)\n",
    "        \n",
    "    return score\n",
    "\n",
    "for name in read_file:\n",
    "    score = get_score('What did ' + name.strip() + ' score: ')\n",
    "    write_file.write(name.strip() + \",\" + str(score) + '\\n')\n",
    "    \n",
    "read_file.close()\n",
    "write_file.close()\n",
    "\n",
    "read_file = open('scores.txt')\n",
    "print(read_file.read())\n",
    "read_file.close()"
   ]
  },
  {
   "cell_type": "markdown",
   "metadata": {},
   "source": [
    " "
   ]
  },
  {
   "cell_type": "markdown",
   "metadata": {},
   "source": [
    "### Question 5)\n",
    "\n",
    "Read in the file `iris.csv`, which is a dictionary csv in the format:\n",
    "\n",
    "    sepal.length, sepal.width, petal.length, petal.width, variety\n",
    "    \n",
    "This is data from a study on iris flowers, however we only are interested in using the values. Once you have read in the file you should have a list of dictionaries, where each dictionary is a single line in the csv file. Using this, calulate the mean, median and mode of the `sepal.width` property and print them out.\n",
    "\n",
    "For this problem, make sure to use the [csv](https://docs.python.org/3/library/csv.html]) and [statistics](https://docs.python.org/3/library/statistics.html) modules."
   ]
  },
  {
   "cell_type": "code",
   "execution_count": 27,
   "metadata": {},
   "outputs": [
    {
     "name": "stdout",
     "output_type": "stream",
     "text": [
      "Mean:  3.0573333333333332\n",
      "Median:  3.0\n",
      "Mode:  3.0\n"
     ]
    }
   ],
   "source": [
    "import csv\n",
    "import statistics\n",
    "\n",
    "widths = []\n",
    "\n",
    "with open(\"iris.csv\") as csv_file:\n",
    "    csv_reader = csv.DictReader(csv_file)\n",
    "    for row in csv_reader:\n",
    "        widths.append(float(row['sepal.width']))                  \n",
    "                  \n",
    "print(\"Mean: \", statistics.mean(widths))\n",
    "print(\"Median: \", statistics.median(widths))\n",
    "print(\"Mode: \", statistics.mode(widths))"
   ]
  },
  {
   "cell_type": "markdown",
   "metadata": {},
   "source": [
    " "
   ]
  },
  {
   "cell_type": "markdown",
   "metadata": {},
   "source": [
    "### Question 6)\n",
    "\n",
    "Extend the previous question to filter the flowers by `variety`. So it will calculte the mean, median and mode of a particular flower variety."
   ]
  },
  {
   "cell_type": "code",
   "execution_count": 30,
   "metadata": {},
   "outputs": [
    {
     "name": "stdout",
     "output_type": "stream",
     "text": [
      "Mean:  3.428\n",
      "Median:  3.4\n",
      "Mode:  3.4\n"
     ]
    }
   ],
   "source": [
    "import csv\n",
    "import statistics\n",
    "\n",
    "widths = []\n",
    "\n",
    "with open(\"iris.csv\") as csv_file:\n",
    "    csv_reader = csv.DictReader(csv_file)\n",
    "    for row in csv_reader:\n",
    "         if (row['variety'] == \"Setosa\"):\n",
    "            widths.append(float(row['sepal.width']))                  \n",
    "                  \n",
    "print(\"Mean: \", statistics.mean(widths))\n",
    "print(\"Median: \", statistics.median(widths))\n",
    "print(\"Mode: \", statistics.mode(widths))"
   ]
  },
  {
   "cell_type": "markdown",
   "metadata": {},
   "source": [
    " "
   ]
  },
  {
   "cell_type": "markdown",
   "metadata": {},
   "source": [
    "### Question 7)\n",
    "\n",
    "Write a function which reads in the csv file `cards.csv`, this contains a deck of cards in the format `value,suit` on each line. Store the cards in a list and then returns the list. Print out the list of cards to check you have got it correct.\n",
    "\n",
    "For this problem, make sure to use the [csv](https://docs.python.org/3/library/csv.html]) module."
   ]
  },
  {
   "cell_type": "code",
   "execution_count": null,
   "metadata": {},
   "outputs": [],
   "source": [
    "import csv\n",
    "\n",
    "def load_cards():\n",
    "    cards = []\n",
    "\n",
    "    with open(\"cards.csv\") as csv_file:\n",
    "        csv_reader = csv.reader(csv_file, delimiter=',')\n",
    "        for row in csv_reader:\n",
    "            cards.append((int(row[0]), row[1]))\n",
    "    \n",
    "    return cards\n",
    "\n",
    "print(load_cards())"
   ]
  },
  {
   "cell_type": "markdown",
   "metadata": {},
   "source": [
    " "
   ]
  },
  {
   "cell_type": "markdown",
   "metadata": {},
   "source": [
    "### Question 8)\n",
    "\n",
    "Now that you have a list containing a deck of cards you can implement a simple game with them. We will be implementing [Higher or Lower](https://www.mathsisfun.com/games/higher-or-lower.html). The flow of the game is:\n",
    "\n",
    "- Present a random card to the user, remove this from the deck.\n",
    "- Ask the user if the next card (another random card) will be higher or lower in value.\n",
    "- Compare their guess to next card value, continue if they are correct.\n",
    "- Repeat this until the user guesses incorrectly.\n",
    "- Print out the users score, where this is the amount of correct guesses they achieved.\n",
    "\n",
    "To complete this this program, break down each individual problem in order and attempt to solve it. Ask questions if you get stuck."
   ]
  },
  {
   "cell_type": "code",
   "execution_count": null,
   "metadata": {},
   "outputs": [],
   "source": [
    "# import needed functions\n",
    "from random import shuffle\n",
    "import csv\n",
    "\n",
    "# use your function to get a deck of cards\n",
    "cards = load_cards()\n",
    "\n",
    "# shuffle cards, initialize card, next card and count\n",
    "shuffle(cards)\n",
    "card = ()\n",
    "next_card = cards.pop()\n",
    "count = 0\n",
    "\n",
    "# game loop which will continue until they guess wrong\n",
    "while cards:\n",
    "    # step forward, card becomes the next card\n",
    "    card = next_card\n",
    "    next_card = cards.pop()\n",
    "    \n",
    "    # get correct answer\n",
    "    if card[0] < next_card[0]:\n",
    "        answer = 'h' \n",
    "    else:\n",
    "        answer = 'l'\n",
    "    \n",
    "    # get user guess, take only first letter\n",
    "    user_guess = input(str(card) + ' higher or lower?')[0]\n",
    "    \n",
    "    # print out next card\n",
    "    print('next card is ' + str(next_card))\n",
    "    \n",
    "    # compare guess to correct\n",
    "    if user_guess != answer:\n",
    "        print('Wrong! You guessed', count, 'correctly')\n",
    "        break\n",
    "        \n",
    "    # increase count how many guessed\n",
    "    count += 1\n",
    "else:\n",
    "    # ran out of cards\n",
    "    print('No more cards, you won!')"
   ]
  }
 ],
 "metadata": {
  "kernelspec": {
   "display_name": "Python 3",
   "language": "python",
   "name": "python3"
  },
  "language_info": {
   "codemirror_mode": {
    "name": "ipython",
    "version": 3
   },
   "file_extension": ".py",
   "mimetype": "text/x-python",
   "name": "python",
   "nbconvert_exporter": "python",
   "pygments_lexer": "ipython3",
   "version": "3.7.4"
  }
 },
 "nbformat": 4,
 "nbformat_minor": 2
}
