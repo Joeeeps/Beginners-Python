{
 "cells": [
  {
   "cell_type": "markdown",
   "metadata": {},
   "source": [
    "# Notes 7 - Files and Modules"
   ]
  },
  {
   "cell_type": "markdown",
   "metadata": {},
   "source": [
    " "
   ]
  },
  {
   "cell_type": "markdown",
   "metadata": {},
   "source": [
    "## 1) Files\n",
    "\n",
    "So far the only interaction the programs we've wrote has is taking user input, and anything calculated while running is outputted via the 'console'. However, more complex programs will usually require either the loading or saving of some data in a more permanent way. For example, a program which is designed to anaylse test results will have to load a file containing all the results, perform some anaylsis and then save the calculated results to another file. Therefore being able to use files is an important skill.\n",
    "\n",
    "\n",
    "### 1.1) Opening\n",
    "\n",
    "Opening a file in Python is a lot simpler than many languages. The builtin function `open` is used, it takes a parameter `filename` and returns a file object, you can then use this object to interact with the specified file. The syntax to open a text file called `names` would be:\n",
    "\n",
    "```python\n",
    "file = open(\"names.txt\")\n",
    "```\n",
    "\n",
    "We are mainly going to be using text files in this course, however you can handle other file formats in a similar way. All text files are read in as strings."
   ]
  },
  {
   "cell_type": "code",
   "execution_count": 1,
   "metadata": {},
   "outputs": [],
   "source": [
    "file = open(\"names.txt\")"
   ]
  },
  {
   "cell_type": "code",
   "execution_count": 19,
   "metadata": {},
   "outputs": [
    {
     "name": "stdout",
     "output_type": "stream",
     "text": [
      "<class '_io.TextIOWrapper'>\n"
     ]
    }
   ],
   "source": [
    "# file object is a TextIOWrapper which allows you to interact with file\n",
    "print(type(file))"
   ]
  },
  {
   "cell_type": "markdown",
   "metadata": {},
   "source": [
    "When opening files you can choose to open them in several possible 'modes'. Each mode allows you to interact with a file differently, so choose depending on what you intend to do. The modes are:\n",
    "\n",
    "- `\"r\"` - Read, is the default value. Opens a file in read only mode. Errors if specified file doesn't exist.\n",
    "\n",
    "- `\"w\"` - Write. Opens a file for writing, clears everything currently in file. Creates file if does not exist.\n",
    "\n",
    "- `\"a\"` - Append. Opens a file for writing, but appends to existing text. Creates file if does not exist.\n"
   ]
  },
  {
   "cell_type": "code",
   "execution_count": 6,
   "metadata": {},
   "outputs": [],
   "source": [
    "# can read the file\n",
    "file = open(\"names.txt\", \"r\")\n",
    "\n",
    "# can write to file, deletes existing initially\n",
    "file = open(\"names.txt\", \"w\")\n",
    "    \n",
    "# can write to file, appends to existing\n",
    "file = open(\"names.txt\", \"a\")"
   ]
  },
  {
   "cell_type": "markdown",
   "metadata": {},
   "source": [
    "You can also use the keyword `with` when opening files, this opens the file as an object and assigns it to a variable also. The difference is that `with` begins a block of code (indents it) and the file object is only open in this block. The benefit of this can be seen in section 1.4. "
   ]
  },
  {
   "cell_type": "code",
   "execution_count": null,
   "metadata": {},
   "outputs": [],
   "source": [
    "# open file assign to variable 'file'\n",
    "with open(\"names.txt\", \"w\") as file:\n",
    "    # interact with file here\n",
    "    pass"
   ]
  },
  {
   "cell_type": "markdown",
   "metadata": {},
   "source": [
    " "
   ]
  },
  {
   "cell_type": "markdown",
   "metadata": {},
   "source": [
    "### 1.2) Reading\n",
    "\n",
    "Once you have opened a file in reading mode (`\"r\"`), you can access the content inside the file in three different ways. One option is to use the method `read`, this will return all the content of the file at once as a string. "
   ]
  },
  {
   "cell_type": "code",
   "execution_count": 21,
   "metadata": {},
   "outputs": [
    {
     "name": "stdout",
     "output_type": "stream",
     "text": [
      "apple\n",
      "orange\n",
      "dog\n",
      "\n"
     ]
    }
   ],
   "source": [
    "with open(\"names.txt\") as file:\n",
    "    print(file.read())"
   ]
  },
  {
   "cell_type": "code",
   "execution_count": 20,
   "metadata": {},
   "outputs": [
    {
     "name": "stdout",
     "output_type": "stream",
     "text": [
      "['apple', 'orange', 'dog']\n"
     ]
    }
   ],
   "source": [
    "# using split converts file into a list, each line as separate item\n",
    "with open(\"names.txt\") as file:\n",
    "    content = file.read().split()\n",
    "    print(content)"
   ]
  },
  {
   "cell_type": "markdown",
   "metadata": {},
   "source": [
    "The second option allows you to read in a file a line at a time, instead of reading the whole file in at once and storing in memory. This can be useful with large datasets as you won't have to store a huge amount of data in memory. It works by iterating through the file object in a for loop, as if it were a list where each line is an element."
   ]
  },
  {
   "cell_type": "code",
   "execution_count": 22,
   "metadata": {},
   "outputs": [
    {
     "name": "stdout",
     "output_type": "stream",
     "text": [
      "apple\n",
      "\n",
      "orange\n",
      "\n",
      "dog\n",
      "\n"
     ]
    }
   ],
   "source": [
    "with open(\"names.txt\") as file:\n",
    "    for line in file:\n",
    "        print(line)"
   ]
  },
  {
   "cell_type": "code",
   "execution_count": null,
   "metadata": {},
   "outputs": [],
   "source": [
    "with open(\"names.txt\") as file:\n",
    "    for line in file:\n",
    "        # strip removes the newline character from each line\n",
    "        print(line.strip())"
   ]
  },
  {
   "cell_type": "markdown",
   "metadata": {},
   "source": [
    "The third option is to use the method `readline`. `readline` returns the next available line each time it is called, returning an empty string when the lines finish."
   ]
  },
  {
   "cell_type": "code",
   "execution_count": null,
   "metadata": {},
   "outputs": [],
   "source": [
    "with open(\"names.txt\") as file:\n",
    "    print(file.readline())"
   ]
  },
  {
   "cell_type": "code",
   "execution_count": null,
   "metadata": {},
   "outputs": [],
   "source": [
    "# would not recommend\n",
    "with open(\"names.txt\") as file:\n",
    "    while True:\n",
    "        line = file.readline()\n",
    "        if not line:\n",
    "            break\n",
    "        print(line.strip())"
   ]
  },
  {
   "cell_type": "markdown",
   "metadata": {},
   "source": [
    " "
   ]
  },
  {
   "cell_type": "markdown",
   "metadata": {},
   "source": [
    "### 1.3) Writing\n",
    "\n",
    "Once you have opened a file in a writing mode (`\"w\"`/`\"a\"`/`\"r+\"`), you can write to the file using the method `write`, which takes the string to write as a parameter."
   ]
  },
  {
   "cell_type": "code",
   "execution_count": null,
   "metadata": {},
   "outputs": [],
   "source": [
    "# clears file, writes \"10\" to it\n",
    "with open(\"integers.txt\", \"w\") as file:\n",
    "    file.write(str(10))  # has to be string"
   ]
  },
  {
   "cell_type": "code",
   "execution_count": null,
   "metadata": {},
   "outputs": [],
   "source": [
    "# appends \"100\" to file\n",
    "with open(\"integers.txt\", \"a\") as file:\n",
    "    file.write(\"100\")"
   ]
  },
  {
   "cell_type": "markdown",
   "metadata": {},
   "source": [
    "If you run the following block of code it will print out the contents of the file. As you can see, both items written to the file are on the same line, forming the line `10100`. This is because `write` doesn't automatically insert a new line each time you write. If you want the content to be on a newline, you have to write a special 'newline' character to the file, the newline character is: `\\n`."
   ]
  },
  {
   "cell_type": "code",
   "execution_count": null,
   "metadata": {},
   "outputs": [],
   "source": [
    "with open(\"integers.txt\", \"r\") as file:\n",
    "    print(file.read())"
   ]
  },
  {
   "cell_type": "markdown",
   "metadata": {},
   "source": [
    "Therefore if we add a newline character (`\\n`) to the end of our string, the next write will be on a new line."
   ]
  },
  {
   "cell_type": "code",
   "execution_count": null,
   "metadata": {},
   "outputs": [],
   "source": [
    "scores = [100, 43, 34, 94, 23, 75]\n",
    "\n",
    "with open(\"integers.txt\", \"w\") as file:\n",
    "    for s in scores:\n",
    "        file.write(str(s) + \"\\n\")"
   ]
  },
  {
   "cell_type": "code",
   "execution_count": null,
   "metadata": {},
   "outputs": [],
   "source": [
    "with open(\"integers.txt\", \"r\") as file:\n",
    "    print(file.read())"
   ]
  },
  {
   "cell_type": "markdown",
   "metadata": {},
   "source": [
    " "
   ]
  },
  {
   "cell_type": "markdown",
   "metadata": {},
   "source": [
    "### 1.4) Closing\n",
    "\n",
    "When you open a file in Python, the file object is created and the referenced file 'locked'. It being 'locked' means that other programs, or yours with a different mode, cannot access the file. In order to make it accessible again, you need to close the file once you are finished with it. If you don't close it will remain open until your program terminates, impacting performance also.\n",
    "\n",
    "If you open a file by assigning it to a variable (`file = open(filename)`) you can close it by using the method `file.close()`. This should be done as soon as you no longer need the file open."
   ]
  },
  {
   "cell_type": "code",
   "execution_count": null,
   "metadata": {},
   "outputs": [],
   "source": [
    "file = open(\"names.txt\")\n",
    "# do operations\n",
    "file.close()"
   ]
  },
  {
   "cell_type": "markdown",
   "metadata": {},
   "source": [
    "The benefit of opening a file using the `with` keyword is that it handles closing the file when the block of code completes, therefore you don't need to do anything."
   ]
  },
  {
   "cell_type": "code",
   "execution_count": null,
   "metadata": {},
   "outputs": [],
   "source": [
    "with open(\"names.txt\") as file:\n",
    "    # do operations\n",
    "    pass\n",
    "# file is automatically closed\n",
    "file.read()  # will error"
   ]
  },
  {
   "cell_type": "markdown",
   "metadata": {},
   "source": [
    " "
   ]
  },
  {
   "cell_type": "markdown",
   "metadata": {},
   "source": [
    "***"
   ]
  },
  {
   "cell_type": "markdown",
   "metadata": {},
   "source": [
    " "
   ]
  },
  {
   "cell_type": "markdown",
   "metadata": {},
   "source": [
    "## 2) Using modules\n",
    "\n",
    "We have made use of a lot of builtin functions, however in Python there are many more functions available in 'modules'. Modules are libraries which contain a related collection of functions, many of these come packaged with the Python installation. A list of modules available by default can be found [here](https://docs.python.org/3/py-modindex.html).\n",
    "\n",
    "### 2.1) Importing\n",
    "\n",
    "In order to use a module and its functions you **must** first import it into your program. It is good practice to import any required modules at the start of your program."
   ]
  },
  {
   "cell_type": "code",
   "execution_count": 9,
   "metadata": {},
   "outputs": [],
   "source": [
    "# import the module named math\n",
    "import math"
   ]
  },
  {
   "cell_type": "markdown",
   "metadata": {},
   "source": [
    "You can then use the functions defined in that module using the syntax `module.function()`, replacing module and function with the desired option."
   ]
  },
  {
   "cell_type": "code",
   "execution_count": 10,
   "metadata": {},
   "outputs": [
    {
     "name": "stdout",
     "output_type": "stream",
     "text": [
      "25.0\n"
     ]
    }
   ],
   "source": [
    "x = math.pow(5, 2)\n",
    "print(x)"
   ]
  },
  {
   "cell_type": "markdown",
   "metadata": {},
   "source": [
    " "
   ]
  },
  {
   "cell_type": "markdown",
   "metadata": {},
   "source": [
    "### 2.2) Using from\n",
    "\n",
    "Each module contains a set of functions, it is possible to import single functions by name using the keyword `from`. This allows you to reference the function without using the module name first. This is useful as it can make your code easier to write if you are using a lot of module functions repeatedly, however you need to be careful to avoid having local functions with the same name otherwise they will be overwritten. \n",
    "\n",
    "The syntax to import a function `pow` from module `math` would be:\n",
    "\n",
    "```python\n",
    "from math import pow\n",
    "```"
   ]
  },
  {
   "cell_type": "code",
   "execution_count": null,
   "metadata": {},
   "outputs": [],
   "source": [
    "from math import pow\n",
    "\n",
    "x = pow(5, 2)\n",
    "print(x)"
   ]
  },
  {
   "cell_type": "code",
   "execution_count": null,
   "metadata": {},
   "outputs": [],
   "source": [
    "# import mulitple from same module\n",
    "from statistics import mean, median"
   ]
  },
  {
   "cell_type": "markdown",
   "metadata": {},
   "source": [
    " "
   ]
  },
  {
   "cell_type": "markdown",
   "metadata": {},
   "source": [
    "### 2.3) Renaming modules\n",
    "\n",
    "When importing modules you can also rename them using the keyword `as`. This allows you to refer to them using a different name in your program, this is sometimes done to shorten the name if you are repeatedly using functions from a module.\n",
    "\n",
    "The syntax to rename a module `math` to `m` would be:\n",
    "```python\n",
    "import math as m\n",
    "```"
   ]
  },
  {
   "cell_type": "code",
   "execution_count": null,
   "metadata": {},
   "outputs": [],
   "source": [
    "import math as m\n",
    "\n",
    "x = m.pow(5, 2)\n",
    "print(x)"
   ]
  },
  {
   "cell_type": "markdown",
   "metadata": {},
   "source": [
    " "
   ]
  },
  {
   "cell_type": "markdown",
   "metadata": {},
   "source": [
    "***"
   ]
  },
  {
   "cell_type": "markdown",
   "metadata": {},
   "source": [
    " "
   ]
  },
  {
   "cell_type": "markdown",
   "metadata": {},
   "source": [
    "## 3) math\n",
    "\n",
    "The `math` module contains functions which perform mathematic operations. The full list of math functions can be found [here](https://docs.python.org/3/library/math.html#module-math).\n",
    "\n",
    "\n",
    "### 3.1) sqrt\n",
    "\n",
    "`sqrt(x)` returns the square root of `x`. "
   ]
  },
  {
   "cell_type": "code",
   "execution_count": 11,
   "metadata": {},
   "outputs": [
    {
     "name": "stdout",
     "output_type": "stream",
     "text": [
      "5.0\n"
     ]
    }
   ],
   "source": [
    "import math\n",
    "\n",
    "x = math.sqrt(25)\n",
    "print(x)"
   ]
  },
  {
   "cell_type": "markdown",
   "metadata": {},
   "source": [
    " "
   ]
  },
  {
   "cell_type": "markdown",
   "metadata": {},
   "source": [
    "### 3.2) pow\n",
    "\n",
    "`pow(x, y)` returns `x` raised to the power `y`."
   ]
  },
  {
   "cell_type": "code",
   "execution_count": null,
   "metadata": {},
   "outputs": [],
   "source": [
    "x = math.pow(5, 2)\n",
    "print(x)"
   ]
  },
  {
   "cell_type": "markdown",
   "metadata": {},
   "source": [
    " "
   ]
  },
  {
   "cell_type": "markdown",
   "metadata": {},
   "source": [
    "### 3.3) Other useful functions\n",
    "\n",
    "`math` contains lots more functions which are useful when performing more complex mathematics. Such as `cos` and `sin` for cosine and sine, `log` for logarithm and `pi` to get the constant pi."
   ]
  },
  {
   "cell_type": "markdown",
   "metadata": {},
   "source": [
    " "
   ]
  },
  {
   "cell_type": "markdown",
   "metadata": {},
   "source": [
    "***"
   ]
  },
  {
   "cell_type": "markdown",
   "metadata": {},
   "source": [
    " "
   ]
  },
  {
   "cell_type": "markdown",
   "metadata": {},
   "source": [
    "## 4) statistics\n",
    "\n",
    "The `statistics` provides functions for calculating mathematical statistics of numeric data. The full list of statistics functions can be found [here](https://docs.python.org/3/library/statistics.html#module-statistics).\n",
    "\n",
    "\n",
    "### 4.1) mean\n",
    "\n",
    "`mean(data)` returns the arithmetic mean of the numeric collection `data`. The arithmetic mean is commonly refered to as 'the average', it is the sum of the data divided by the number of data points."
   ]
  },
  {
   "cell_type": "code",
   "execution_count": 13,
   "metadata": {},
   "outputs": [
    {
     "name": "stdout",
     "output_type": "stream",
     "text": [
      "61.5\n"
     ]
    }
   ],
   "source": [
    "import statistics\n",
    "\n",
    "scores = [100, 43, 34, 94, 23, 75]\n",
    "\n",
    "x = statistics.mean(scores)\n",
    "print(x)"
   ]
  },
  {
   "cell_type": "markdown",
   "metadata": {},
   "source": [
    " "
   ]
  },
  {
   "cell_type": "markdown",
   "metadata": {},
   "source": [
    "### 4.2) median\n",
    "\n",
    "`median(data)` returns the median of the numeric collection `data`. The median is the 'middle' value of the data when it is sorted."
   ]
  },
  {
   "cell_type": "code",
   "execution_count": null,
   "metadata": {},
   "outputs": [],
   "source": [
    "scores = [100, 43, 34, 94, 23, 75]\n",
    "\n",
    "x = statistics.median(scores)\n",
    "print(x)"
   ]
  },
  {
   "cell_type": "markdown",
   "metadata": {},
   "source": [
    " "
   ]
  },
  {
   "cell_type": "markdown",
   "metadata": {},
   "source": [
    "### 4.3) mode\n",
    "\n",
    "`mode(data)` returns the mode of collection `data`. The mode is the single most common data point in the collection. If there are multiple elements with the same frequency, it returns the first value encountered."
   ]
  },
  {
   "cell_type": "code",
   "execution_count": 14,
   "metadata": {},
   "outputs": [
    {
     "name": "stdout",
     "output_type": "stream",
     "text": [
      "90\n"
     ]
    }
   ],
   "source": [
    "scores = [100, 90, 90, 90, 45, 45, 20, 10]\n",
    "\n",
    "x = statistics.mode(scores)\n",
    "print(x)"
   ]
  },
  {
   "cell_type": "markdown",
   "metadata": {},
   "source": [
    " "
   ]
  },
  {
   "cell_type": "markdown",
   "metadata": {},
   "source": [
    "***"
   ]
  },
  {
   "cell_type": "markdown",
   "metadata": {},
   "source": [
    " "
   ]
  },
  {
   "cell_type": "markdown",
   "metadata": {},
   "source": [
    "## 5) random\n",
    "\n",
    "The `random` module provides functions for generating random numbers of various distributions and choosing random elements from sequences. The full list of random functions can be found [here](https://docs.python.org/3/library/random.html#module-random).\n",
    "\n",
    "\n",
    "### 5.1) randint\n",
    "\n",
    "`randint(a, b)` returns a random integer `N`, such that `a <= N <= b`."
   ]
  },
  {
   "cell_type": "code",
   "execution_count": 15,
   "metadata": {},
   "outputs": [
    {
     "name": "stdout",
     "output_type": "stream",
     "text": [
      "89\n"
     ]
    }
   ],
   "source": [
    "import random\n",
    "\n",
    "x = random.randint(50, 100)\n",
    "print(x)"
   ]
  },
  {
   "cell_type": "markdown",
   "metadata": {},
   "source": [
    " "
   ]
  },
  {
   "cell_type": "markdown",
   "metadata": {},
   "source": [
    "### 5.2) randrange\n",
    "\n",
    "`randrange` returns a randomly selected element from `range(start, stop, step)`. Has the same parameter options as `range`:"
   ]
  },
  {
   "cell_type": "code",
   "execution_count": null,
   "metadata": {},
   "outputs": [],
   "source": [
    "# specify just a stop\n",
    "x = random.randrange(100)\n",
    "print(x)"
   ]
  },
  {
   "cell_type": "code",
   "execution_count": null,
   "metadata": {},
   "outputs": [],
   "source": [
    "# specify a start and stop\n",
    "x = random.randrange(50, 100)  # same as randint\n",
    "print(x)"
   ]
  },
  {
   "cell_type": "code",
   "execution_count": null,
   "metadata": {},
   "outputs": [],
   "source": [
    "# specify a start, stop and step\n",
    "x = random.randrange(50, 100, 5)\n",
    "print(x)"
   ]
  },
  {
   "cell_type": "markdown",
   "metadata": {},
   "source": [
    " "
   ]
  },
  {
   "cell_type": "markdown",
   "metadata": {},
   "source": [
    "### 5.3) random\n",
    "\n",
    "`random()` returns a random float within the range [0.0, 1.0]."
   ]
  },
  {
   "cell_type": "code",
   "execution_count": null,
   "metadata": {},
   "outputs": [],
   "source": [
    "x = random.random()\n",
    "print(x)"
   ]
  },
  {
   "cell_type": "markdown",
   "metadata": {},
   "source": [
    " "
   ]
  },
  {
   "cell_type": "markdown",
   "metadata": {},
   "source": [
    "### 5.4) uniform\n",
    "\n",
    "`uniform(a, b)` returns a float `N` such that `a <= N <= b` when `a <= b`. `a` and `b` order doesn't matter, will return a random float within those values."
   ]
  },
  {
   "cell_type": "code",
   "execution_count": null,
   "metadata": {},
   "outputs": [],
   "source": [
    "x = random.uniform(10, 20)\n",
    "print(x)"
   ]
  },
  {
   "cell_type": "markdown",
   "metadata": {},
   "source": [
    " "
   ]
  },
  {
   "cell_type": "markdown",
   "metadata": {},
   "source": [
    "### 5.5) choice\n",
    "\n",
    "`choice(seq)` returns a random element from the non-empty sequence `seq`, such as a list. Will cause an error if `seq` is empty."
   ]
  },
  {
   "cell_type": "code",
   "execution_count": null,
   "metadata": {},
   "outputs": [],
   "source": [
    "scores = [100, 43, 34, 94, 23, 75]\n",
    "\n",
    "x = random.choice(scores)\n",
    "print(x)"
   ]
  },
  {
   "cell_type": "markdown",
   "metadata": {},
   "source": [
    " "
   ]
  },
  {
   "cell_type": "markdown",
   "metadata": {},
   "source": [
    "### 5.6) sample\n",
    "\n",
    "`sample(population, k)` returns a list of length `k` with unique elements chosen from the population sequence or set."
   ]
  },
  {
   "cell_type": "code",
   "execution_count": null,
   "metadata": {},
   "outputs": [],
   "source": [
    "scores = [100, 43, 34, 94, 23, 75]\n",
    "\n",
    "x = random.sample(scores, 3)\n",
    "print(x)"
   ]
  },
  {
   "cell_type": "markdown",
   "metadata": {},
   "source": [
    " "
   ]
  },
  {
   "cell_type": "markdown",
   "metadata": {},
   "source": [
    "### 5.7) shuffle\n",
    "\n",
    "`shuffle(seq)` shuffles the sequence `seq` in place, meaning it randomises the order of the elements."
   ]
  },
  {
   "cell_type": "code",
   "execution_count": null,
   "metadata": {},
   "outputs": [],
   "source": [
    "scores = [100, 43, 34, 94, 23, 75]\n",
    "\n",
    "random.shuffle(scores)\n",
    "print(scores)"
   ]
  },
  {
   "cell_type": "markdown",
   "metadata": {},
   "source": [
    " "
   ]
  },
  {
   "cell_type": "markdown",
   "metadata": {},
   "source": [
    "***"
   ]
  },
  {
   "cell_type": "markdown",
   "metadata": {},
   "source": [
    " "
   ]
  },
  {
   "cell_type": "markdown",
   "metadata": {},
   "source": [
    "## 7) csv\n",
    "\n",
    "As datasets become more complex you will often want to have multiple pieces of related data on a single line, however reading and writing data like this with a `file` object is difficult. This is where comma separated (csv) files are useful. In a comma separted file, each line contains a row of data separated by commas:\n",
    "\n",
    "```\n",
    "bob,21,male\n",
    "ella,22,female\n",
    "fred,19,male\n",
    "\n",
    "```\n",
    "\n",
    "In Python there is a `csv` module which makes handling csv files easier. The full documentation for the csv module can be found [here](https://docs.python.org/3/library/csv.html#module-csv).\n",
    "\n",
    "\n",
    "### 7.1) File handling\n",
    "\n",
    "Opening and closing csv files is performed the same way as with standard text files."
   ]
  },
  {
   "cell_type": "code",
   "execution_count": 16,
   "metadata": {},
   "outputs": [],
   "source": [
    "with open(\"people.csv\") as csvfile:\n",
    "    # perform functions\n",
    "    pass"
   ]
  },
  {
   "cell_type": "markdown",
   "metadata": {},
   "source": [
    " "
   ]
  },
  {
   "cell_type": "markdown",
   "metadata": {},
   "source": [
    "### 7.2) reader\n",
    "\n",
    "`reader(csvfile)` is used to create an object which can be used to iterate over the lines in the given `csvfile`. The csv `reader` will split each line into a list, separating it using the commas."
   ]
  },
  {
   "cell_type": "code",
   "execution_count": 17,
   "metadata": {},
   "outputs": [
    {
     "name": "stdout",
     "output_type": "stream",
     "text": [
      "['bob', '21', 'male']\n",
      "['ella', '22', 'female']\n",
      "['fred', '19', 'male']\n",
      "['sam', '40', 'male']\n",
      "['olly', '21', 'male']\n",
      "['amy', '23', 'female']\n"
     ]
    }
   ],
   "source": [
    "import csv\n",
    "\n",
    "with open(\"people.csv\") as csvfile:\n",
    "    csvreader = csv.reader(csvfile)\n",
    "    for row in csvreader:\n",
    "        print(row)"
   ]
  },
  {
   "cell_type": "markdown",
   "metadata": {},
   "source": [
    "If you want to use the elements of each line you can unpack the list in several ways:"
   ]
  },
  {
   "cell_type": "code",
   "execution_count": null,
   "metadata": {},
   "outputs": [],
   "source": [
    "# using list indices\n",
    "with open(\"people.csv\") as csvfile:\n",
    "    csvreader = csv.reader(csvfile)\n",
    "    for row in csvreader:\n",
    "        print(\"name: \" + row[0] + \", age: \" + row[1] + \", gender: \" + row[2])"
   ]
  },
  {
   "cell_type": "code",
   "execution_count": null,
   "metadata": {},
   "outputs": [],
   "source": [
    "# unpacking list and assigning to variables\n",
    "with open(\"people.csv\") as csvfile:\n",
    "    csvreader = csv.reader(csvfile)\n",
    "    for row in csvreader:\n",
    "        name, age, gender = row\n",
    "        print(\"name: \" + name + \", age: \" + age + \", gender: \" + gender)"
   ]
  },
  {
   "cell_type": "markdown",
   "metadata": {},
   "source": [
    " "
   ]
  },
  {
   "cell_type": "markdown",
   "metadata": {},
   "source": [
    "### 7.3) writer\n",
    "\n",
    "`writer(csvfile)` is used to create an object which can convert the user's data into strings that can be written to a file."
   ]
  },
  {
   "cell_type": "code",
   "execution_count": null,
   "metadata": {},
   "outputs": [],
   "source": [
    "import csv\n",
    "\n",
    "with open(\"modules.csv\", \"w\") as csvfile:\n",
    "    csvwriter = csv.writer(csvfile)\n",
    "    csvwriter.writerow([\"bob\", \"3\"])\n",
    "    csvwriter.writerow([\"ella\", \"19\"])    "
   ]
  },
  {
   "cell_type": "markdown",
   "metadata": {},
   "source": [
    " "
   ]
  },
  {
   "cell_type": "markdown",
   "metadata": {},
   "source": [
    "### 7.4) dictreader\n",
    "`DictReader(csvfile)` creates an object that allows you to map the data to a dictionary.\n"
   ]
  },
  {
   "cell_type": "code",
   "execution_count": null,
   "metadata": {},
   "outputs": [],
   "source": [
    "import csv\n",
    "\n",
    "with open(\"people_dict.csv\") as csv_file:\n",
    "    csv_reader = csv.DictReader(csv_file)\n",
    "    for row in csv_reader:\n",
    "        print(row['age'])                  \n"
   ]
  },
  {
   "cell_type": "markdown",
   "metadata": {},
   "source": [
    " "
   ]
  },
  {
   "cell_type": "markdown",
   "metadata": {},
   "source": [
    "### 7.5) dictwriter\n",
    "`DictWriter` allows you to write dictionaries into a `csv` file.\n"
   ]
  },
  {
   "cell_type": "code",
   "execution_count": null,
   "metadata": {},
   "outputs": [],
   "source": [
    "with open('dict_names_write.csv', 'w', newline='') as csvfile:\n",
    "    fieldnames = ['first_name', 'last_name']\n",
    "    writer = csv.DictWriter(csvfile, fieldnames=fieldnames)\n",
    "\n",
    "    writer.writeheader()\n",
    "    writer.writerow({'first_name': 'Baked', 'last_name': 'Beans'})\n",
    "    writer.writerow({'first_name': 'Lovely', 'last_name': 'Spam'})\n",
    "    writer.writerow({'first_name': 'Wonderful', 'last_name': 'Spam'})\n"
   ]
  }
 ],
 "metadata": {
  "kernelspec": {
   "display_name": "Python 3",
   "language": "python",
   "name": "python3"
  },
  "language_info": {
   "codemirror_mode": {
    "name": "ipython",
    "version": 3
   },
   "file_extension": ".py",
   "mimetype": "text/x-python",
   "name": "python",
   "nbconvert_exporter": "python",
   "pygments_lexer": "ipython3",
   "version": "3.7.4"
  }
 },
 "nbformat": 4,
 "nbformat_minor": 2
}
