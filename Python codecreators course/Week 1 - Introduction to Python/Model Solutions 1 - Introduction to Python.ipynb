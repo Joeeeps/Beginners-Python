{
 "cells": [
  {
   "cell_type": "markdown",
   "metadata": {},
   "source": [
    "# Exercise 1 - Introduction to Python"
   ]
  },
  {
   "cell_type": "markdown",
   "metadata": {},
   "source": [
    "### Question 1\n",
    "Write a program which greets someone. It should ask for a persons name and then greet them with something like '*Hello Bob!*'."
   ]
  },
  {
   "cell_type": "code",
   "execution_count": 1,
   "metadata": {},
   "outputs": [
    {
     "name": "stdout",
     "output_type": "stream",
     "text": [
      "Please write your name: Rafael\n",
      "Hello Rafael\n"
     ]
    }
   ],
   "source": [
    "# Asks for the user's name\n",
    "name = input(\"Please write your name: \")\n",
    "print(\"Hello\", name)"
   ]
  },
  {
   "cell_type": "markdown",
   "metadata": {},
   "source": [
    "### Question 2\n",
    "Write a program which takes a number input and then prints multiplication table of it up to 5."
   ]
  },
  {
   "cell_type": "code",
   "execution_count": 8,
   "metadata": {},
   "outputs": [
    {
     "name": "stdout",
     "output_type": "stream",
     "text": [
      "Please insert a number6.5\n",
      "\n",
      "6.5  x  1  =  6.5\n",
      "6.5  x  2  =  13.0\n",
      "6.5  x  3  =  19.5\n",
      "6.5  x  4  =  26.0\n",
      "6.5  x  5  =  32.5\n"
     ]
    }
   ],
   "source": [
    "# Asks for the user to insert a number\n",
    "num = float(input(\"Please insert a number\"))\n",
    "# Print the multiplication table, line by line\n",
    "print(num, \" x \", 1, \" = \", num * 1)\n",
    "print(num, \" x \", 2, \" = \", num * 2)\n",
    "print(num, \" x \", 3, \" = \", num * 3)\n",
    "print(num, \" x \", 4, \" = \", num * 4)\n",
    "print(num, \" x \", 5, \" = \", num * 5)\n"
   ]
  },
  {
   "cell_type": "markdown",
   "metadata": {},
   "source": [
    "### Question 3\n",
    "Write a program which works out someones age. It should ask for the persons year of birth and then tell them how old they are, such as '*You are 20 years old*'. Use the integer 2019 as the current year."
   ]
  },
  {
   "cell_type": "code",
   "execution_count": 1,
   "metadata": {},
   "outputs": [
    {
     "name": "stdout",
     "output_type": "stream",
     "text": [
      "Please insert the year you were born: 2000\n",
      "You are 19 years\n"
     ]
    }
   ],
   "source": [
    "# Asks the user's age\n",
    "num = int(input(\"Please insert the year you were born: \"))\n",
    "y_now = 2019\n",
    "# Print the user's age\n",
    "print(\"You are\", y_now-num, \"years\")"
   ]
  },
  {
   "cell_type": "markdown",
   "metadata": {},
   "source": [
    "### Question 4\n",
    "Write a program which takes 3 floats and then returns the average of them. It should individually take 3 floats as inputs, calculate the average and then print something like '*The average is 36.74*'."
   ]
  },
  {
   "cell_type": "code",
   "execution_count": 14,
   "metadata": {},
   "outputs": [
    {
     "name": "stdout",
     "output_type": "stream",
     "text": [
      "Please insert a number:10\n",
      "Please insert a number:10\n",
      "Please insert a number:10\n",
      "The average is:  10.0\n"
     ]
    }
   ],
   "source": [
    "# Insert the numbers\n",
    "num1 = float(input(\"Please insert a number: \"))\n",
    "num2 = float(input(\"Please insert a number: \"))\n",
    "num3 = float(input(\"Please insert a number: \"))\n",
    "average = (num1+num2+num3)/3\n",
    "# Print the average \n",
    "print(\"The average is: \", average)"
   ]
  },
  {
   "cell_type": "markdown",
   "metadata": {},
   "source": [
    "### Question 5\n",
    "Write a program which converts an input of days, hours, minutes and seconds into total seconds.\n",
    "\n"
   ]
  },
  {
   "cell_type": "code",
   "execution_count": 1,
   "metadata": {},
   "outputs": [
    {
     "name": "stdout",
     "output_type": "stream",
     "text": [
      "Please insert the number of days: 10\n",
      "Please insert the number of hours: 5\n",
      "Please insert number of minutes: 5\n",
      "Please insert number of seconds: 5\n",
      "10 days 5 hours 5 minutes 5 seconds are a total of 882305 seconds\n"
     ]
    }
   ],
   "source": [
    "# Insert days\n",
    "days = int(input(\"Please insert the number of days: \"))\n",
    "# Insert hours\n",
    "hours = int(input(\"Please insert the number of hours: \"))\n",
    "# Insert minutes\n",
    "minutes = int(input(\"Please insert number of minutes: \"))\n",
    "# Insert seconds\n",
    "seconds = int(input(\"Please insert number of seconds: \"))\n",
    "# Calculate the number of seconds\n",
    "t_seconds = (days * 86400) + (hours * 3600) + (minutes * 60) + seconds\n",
    "# Print\n",
    "print(days,\"days,\",hours,\"hours,\", minutes, \"minutes and\", seconds, \"seconds\", \"are a total of\", t_seconds, \"seconds\")"
   ]
  }
 ],
 "metadata": {
  "kernelspec": {
   "display_name": "Python 3",
   "language": "python",
   "name": "python3"
  },
  "language_info": {
   "codemirror_mode": {
    "name": "ipython",
    "version": 3
   },
   "file_extension": ".py",
   "mimetype": "text/x-python",
   "name": "python",
   "nbconvert_exporter": "python",
   "pygments_lexer": "ipython3",
   "version": "3.7.4"
  }
 },
 "nbformat": 4,
 "nbformat_minor": 2
}
