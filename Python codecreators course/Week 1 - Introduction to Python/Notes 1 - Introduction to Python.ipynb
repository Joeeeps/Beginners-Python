{
 "cells": [
  {
   "cell_type": "markdown",
   "metadata": {},
   "source": [
    "# Notes 1 - Introduction to Python"
   ]
  },
  {
   "cell_type": "markdown",
   "metadata": {},
   "source": [
    "## 1) Basic Data Types\n",
    "\n",
    "The data type of an object is an attribute that defines what kind of data can be stored and what operations can be performed on it."
   ]
  },
  {
   "cell_type": "markdown",
   "metadata": {},
   "source": [
    "### 1.1) Strings\n",
    "\n",
    "A string is a simple data type containing text. They can be enclosed with either single quotes (`'...'`) or double quotes (`\"...\"`) with the same results."
   ]
  },
  {
   "cell_type": "code",
   "execution_count": null,
   "metadata": {},
   "outputs": [],
   "source": [
    "myString = \"This is the sentence represented by the name myString!\"\n",
    "type(myString)"
   ]
  },
  {
   "cell_type": "code",
   "execution_count": null,
   "metadata": {},
   "outputs": [],
   "source": [
    "myString = 'This is the sentence represented by the name myString!'\n",
    "type(myString)"
   ]
  },
  {
   "cell_type": "markdown",
   "metadata": {},
   "source": [
    "### 1.2) Integers\n",
    "\n",
    "An integer type contains positive or negative whole number with no decimal point. Integers in Python are of unlimited size."
   ]
  },
  {
   "cell_type": "code",
   "execution_count": null,
   "metadata": {},
   "outputs": [],
   "source": [
    "myInt = 10\n",
    "type(myInt)"
   ]
  },
  {
   "cell_type": "code",
   "execution_count": null,
   "metadata": {},
   "outputs": [],
   "source": [
    "myInt = -5\n",
    "type(myInt)"
   ]
  },
  {
   "cell_type": "markdown",
   "metadata": {},
   "source": [
    "### 1.3) Floating Point Numbers\n",
    "\n",
    "A float represents real numbers and are written wih a decimal point splitting the integer and fractional parts. Floats may also be written in scientific notation, with `e` indicating the power of 10."
   ]
  },
  {
   "cell_type": "code",
   "execution_count": null,
   "metadata": {},
   "outputs": [],
   "source": [
    "myFloat = 1.5\n",
    "type(myFloat)"
   ]
  },
  {
   "cell_type": "code",
   "execution_count": null,
   "metadata": {},
   "outputs": [],
   "source": [
    "myFloat = 2.3e5\n",
    "type(myFloat)"
   ]
  },
  {
   "cell_type": "markdown",
   "metadata": {},
   "source": [
    "### 1.4) Boolean\n",
    "\n",
    "A boolean type is a data type which has one of two possible values (denoted as `True` or `False`) that are used to represent the two truth values of logic and Boolean algebra."
   ]
  },
  {
   "cell_type": "code",
   "execution_count": null,
   "metadata": {},
   "outputs": [],
   "source": [
    "myBoolean = True\n",
    "type(myBoolean)"
   ]
  },
  {
   "cell_type": "code",
   "execution_count": null,
   "metadata": {},
   "outputs": [],
   "source": [
    "myBoolean = False\n",
    "type(myBoolean)"
   ]
  },
  {
   "cell_type": "markdown",
   "metadata": {},
   "source": [
    " "
   ]
  },
  {
   "cell_type": "markdown",
   "metadata": {},
   "source": [
    "***"
   ]
  },
  {
   "cell_type": "markdown",
   "metadata": {},
   "source": [
    " "
   ]
  },
  {
   "cell_type": "markdown",
   "metadata": {},
   "source": [
    "## 2) Variables\n",
    "\n",
    "Variables are used to store data that will be referenced and manipulated in a computer program. It is helpful to think of variables as containers that hold data, such as an integer value or a string. This data can then be used throughout your program by referencing the variable name."
   ]
  },
  {
   "cell_type": "markdown",
   "metadata": {},
   "source": [
    "### 2.1) Assigning Variables\n",
    "\n",
    "A variable is assigned by using the equal symbol (`=`). The name of the variable goes on the left and the value to be stored in the variable goes on the right. Here we've assigned the value `\"Fred\"`, which is a string, to the variable `name`."
   ]
  },
  {
   "cell_type": "code",
   "execution_count": null,
   "metadata": {},
   "outputs": [],
   "source": [
    "name = \"Fred\""
   ]
  },
  {
   "cell_type": "markdown",
   "metadata": {},
   "source": [
    "A variable can be assigned values of any data type:"
   ]
  },
  {
   "cell_type": "code",
   "execution_count": null,
   "metadata": {},
   "outputs": [],
   "source": [
    "age = 21\n",
    "weight = 62.2\n",
    "condition = True"
   ]
  },
  {
   "cell_type": "markdown",
   "metadata": {},
   "source": [
    "### 2.2) Using Variables\n",
    "\n",
    "When you have assigned a variable you need to reference it to use it in your program. This is done by just using the variable name:"
   ]
  },
  {
   "cell_type": "code",
   "execution_count": null,
   "metadata": {},
   "outputs": [],
   "source": [
    "print(name)"
   ]
  },
  {
   "cell_type": "markdown",
   "metadata": {},
   "source": [
    "### 2.3) Changing Variables\n",
    "\n",
    "Variables are not final, the value they hold can be changed thoughout the program. This is done the same way a new variable is assigned, just reusing the same variable name. Here we have changed the variable `name` to hold the value `\"Bob\"`."
   ]
  },
  {
   "cell_type": "code",
   "execution_count": null,
   "metadata": {},
   "outputs": [],
   "source": [
    "name = \"Bob\"\n",
    "print(name)"
   ]
  },
  {
   "cell_type": "markdown",
   "metadata": {},
   "source": [
    "In Python the data type of a variable doesn't have to remain the same. This means if you assign the integer `5` to the variable `name` it will change from a string to an int:"
   ]
  },
  {
   "cell_type": "code",
   "execution_count": null,
   "metadata": {},
   "outputs": [],
   "source": [
    "name = 5\n",
    "print(name)\n",
    "type(name)"
   ]
  },
  {
   "cell_type": "markdown",
   "metadata": {},
   "source": [
    "In Python variables are passed by value. This means that if you assign a  variable `a` to a second variable `b`, `b`s value will be equal to `a`. If you then assign a new value to the first variable `a`, `b` will remain the same."
   ]
  },
  {
   "cell_type": "code",
   "execution_count": null,
   "metadata": {},
   "outputs": [],
   "source": [
    "a = 10\n",
    "b = 5\n",
    "\n",
    "b = a\n",
    "a = 3\n",
    "\n",
    "print(b)"
   ]
  },
  {
   "cell_type": "markdown",
   "metadata": {},
   "source": [
    "### 2.4) Naming Variables\n",
    "\n",
    "When naming variables you need to try to use descriptive and relavent names in order to make your code understandable to the reader. Otherwise other people, or you at a later date, might not be able to follow your program. However the challenge is to keep them descriptive and short, as having a lot of long variable names could also make the code unreadable. This often means abbreviating common words such as `number` to `num` if variable names are becoming long.\n",
    "\n",
    "The [Style Guide for Python Code](https://www.python.org/dev/peps/pep-0008/) contains [Naming Conventions](https://www.python.org/dev/peps/pep-0008/#naming-conventions) that list suggested standards for names of different object types. It recommends that Snake Case should be used for functions and variable names, this means that variable names should be all lower case and words joined with underscores (`_`). Variable names can contain integers but the first character must be a letter. They cannot contain any special characters (`-`, `!`, `)`, etc) apart from the underscore.\n",
    "\n",
    "Below are some examples of good, bad and invalid variable names.\n"
   ]
  },
  {
   "cell_type": "markdown",
   "metadata": {},
   "source": [
    "**Good** variable names:\n",
    "\n",
    "* `name`, `age`, `school`\n",
    "* `first_name`, `num_of_people`\n",
    "\n",
    "**Bad** variable names, will still run but bad practice:\n",
    "\n",
    "* `test`, `x` - not descriptive\n",
    "* `University`, `Room_Name` - should all be lowercase\n",
    "* `numberOfWords`- should be lower and snake case\n",
    "* `number_of_people_coming_to_class` - name is too long\n",
    "\n",
    "**Invalid** variables names:\n",
    "\n",
    "* `123jeff` - numbers at start\n",
    "* `name!`, `input?` - special character used"
   ]
  },
  {
   "cell_type": "markdown",
   "metadata": {},
   "source": [
    " "
   ]
  },
  {
   "cell_type": "markdown",
   "metadata": {},
   "source": [
    " ***"
   ]
  },
  {
   "cell_type": "markdown",
   "metadata": {},
   "source": [
    " "
   ]
  },
  {
   "cell_type": "markdown",
   "metadata": {},
   "source": [
    "## 3) Output and Input"
   ]
  },
  {
   "cell_type": "markdown",
   "metadata": {},
   "source": [
    "### 3.1) Print\n",
    "\n",
    "The `print()` function is used in Python to output text to the screen. The message can be a string or any other type, the type will be converted to a string before being written to the screen."
   ]
  },
  {
   "cell_type": "code",
   "execution_count": null,
   "metadata": {},
   "outputs": [],
   "source": [
    "print(\"Hello World!\")"
   ]
  },
  {
   "cell_type": "markdown",
   "metadata": {},
   "source": [
    "If you wish to print multiple items at once, such as a string followed by a variable, you can use a comma (`,`) to sperate the items with a space. This doesn't require each item to be a string."
   ]
  },
  {
   "cell_type": "code",
   "execution_count": null,
   "metadata": {},
   "outputs": [],
   "source": [
    "name = \"Bob\"\n",
    "print(\"Hello\", name)"
   ]
  },
  {
   "cell_type": "markdown",
   "metadata": {},
   "source": [
    "### 3.2) Input\n",
    "\n",
    "Most programs will require some user interaction, otherwise you are just running predefined code. In Python one of the simplest ways to interact with the user is to take their input using the `input()` method. When it is used it waits for the user to first type in information and then press the enter key to submit it. The text they enter is formatted as a string which the program can use if you assign it to a variable.\n",
    "\n",
    "If you want to ask the user a question the input method can take a string in brackets following it: `input(\"Name?\")`, this string will be printed out before the user is expected to enter their text."
   ]
  },
  {
   "cell_type": "code",
   "execution_count": null,
   "metadata": {},
   "outputs": [],
   "source": [
    "name = input(\"What is your name? \")\n",
    "print(name)"
   ]
  },
  {
   "cell_type": "markdown",
   "metadata": {},
   "source": [
    " "
   ]
  },
  {
   "cell_type": "markdown",
   "metadata": {},
   "source": [
    " ***"
   ]
  },
  {
   "cell_type": "markdown",
   "metadata": {},
   "source": [
    " "
   ]
  },
  {
   "cell_type": "markdown",
   "metadata": {},
   "source": [
    "## 4) Arithmetic Operators\n",
    "\n",
    "Programs will often require mathematical operations to be performed while running. Python implements all the operators required to do basic calculations and much more.\n",
    "\n",
    "The basic operators are:\n",
    "* `+` for addition\n",
    "\n",
    "* `-` for subtraction\n",
    "\n",
    "* `*` for multiplication\n",
    "\n",
    "* `\\` for division"
   ]
  },
  {
   "cell_type": "code",
   "execution_count": null,
   "metadata": {},
   "outputs": [],
   "source": [
    "print(5 + 2)  # Equals 7"
   ]
  },
  {
   "cell_type": "code",
   "execution_count": null,
   "metadata": {},
   "outputs": [],
   "source": [
    "print(5 - 2)  # Equals 3"
   ]
  },
  {
   "cell_type": "code",
   "execution_count": null,
   "metadata": {},
   "outputs": [],
   "source": [
    "print(5 * 2)  # Equals 10"
   ]
  },
  {
   "cell_type": "code",
   "execution_count": null,
   "metadata": {},
   "outputs": [],
   "source": [
    "print(5 / 2)  # Equals 2.5"
   ]
  },
  {
   "cell_type": "markdown",
   "metadata": {},
   "source": [
    "In addition to these basic operators there are:\n",
    "\n",
    "* `**` for 'to the power of'\n",
    "\n",
    "* `%` for modulus, returns the remainder of the division\n",
    "\n",
    "* `//` for floor (or integer) division, rounds down the result to an integer"
   ]
  },
  {
   "cell_type": "code",
   "execution_count": null,
   "metadata": {},
   "outputs": [],
   "source": [
    "print(5 ** 2)  # Equals 25"
   ]
  },
  {
   "cell_type": "code",
   "execution_count": null,
   "metadata": {},
   "outputs": [],
   "source": [
    "print(5 % 2)  # Equals 1"
   ]
  },
  {
   "cell_type": "code",
   "execution_count": null,
   "metadata": {},
   "outputs": [],
   "source": [
    "print(5 // 2)  # Equals 2"
   ]
  },
  {
   "cell_type": "markdown",
   "metadata": {},
   "source": [
    "Python has well-defined rules for specifying the order in which the operators in an expression are evaluated when the expression has several operators. For example, multiplication and division have a higher precedence than addition and subtraction. Precedence rules can be overridden by explicit parentheses."
   ]
  },
  {
   "cell_type": "code",
   "execution_count": null,
   "metadata": {},
   "outputs": [],
   "source": [
    "print(8 + 4 / 2)  # Equals 10"
   ]
  },
  {
   "cell_type": "code",
   "execution_count": null,
   "metadata": {},
   "outputs": [],
   "source": [
    "print((8 + 4) / 2)  # Equals 6"
   ]
  },
  {
   "cell_type": "markdown",
   "metadata": {},
   "source": [
    " "
   ]
  },
  {
   "cell_type": "markdown",
   "metadata": {},
   "source": [
    " ***"
   ]
  },
  {
   "cell_type": "markdown",
   "metadata": {},
   "source": [
    " "
   ]
  },
  {
   "cell_type": "markdown",
   "metadata": {},
   "source": [
    "## 5) Type Casting\n",
    "\n",
    "As the type of variables in Python isn't specified, you can often end up handling a variable or object of a different type than you require. In order to overcome this, Python has the ability to change an objects type by 'casting' them to the required type. This has expected limitations, like you can't cast the string `\"hello\"` to an integer.\n",
    "\n",
    "The cast functions available are:\n",
    "\n",
    "* `int()` - converts floats (by rounding down to whole number) and strings (providing the string represents a whole number) to an integer.\n",
    "\n",
    "* `float()` - converts integers and strings (providing the string represents a float or integer) to a float.\n",
    "\n",
    "* `str()` - converts a wide range of data types to a string."
   ]
  },
  {
   "cell_type": "code",
   "execution_count": null,
   "metadata": {},
   "outputs": [],
   "source": [
    "int(4.3)"
   ]
  },
  {
   "cell_type": "code",
   "execution_count": null,
   "metadata": {},
   "outputs": [],
   "source": [
    "int('5')"
   ]
  },
  {
   "cell_type": "code",
   "execution_count": null,
   "metadata": {},
   "outputs": [],
   "source": [
    "float(6)"
   ]
  },
  {
   "cell_type": "code",
   "execution_count": null,
   "metadata": {},
   "outputs": [],
   "source": [
    "float('7.5')"
   ]
  },
  {
   "cell_type": "code",
   "execution_count": null,
   "metadata": {},
   "outputs": [],
   "source": [
    "str(8)"
   ]
  },
  {
   "cell_type": "code",
   "execution_count": null,
   "metadata": {},
   "outputs": [],
   "source": [
    "str(9.1)"
   ]
  },
  {
   "cell_type": "markdown",
   "metadata": {},
   "source": [
    "One of the most common uses of these cast functions for now will be when taking user input using the `input()` method. `input()` always returns a string, which means if you want to use the users input in a calculation you will have to cast it with `float()` or `int()`.\n",
    "\n",
    "This is what happens if you don't cast the user input:"
   ]
  },
  {
   "cell_type": "code",
   "execution_count": null,
   "metadata": {},
   "outputs": [],
   "source": [
    "# THIS IS WRONG\n",
    "num = input('Enter a number: ')\n",
    "increment = num + 1\n",
    "print(increment)"
   ]
  },
  {
   "cell_type": "markdown",
   "metadata": {},
   "source": [
    "If we now cast the user input using `int()`, the code will work:"
   ]
  },
  {
   "cell_type": "code",
   "execution_count": null,
   "metadata": {},
   "outputs": [],
   "source": [
    "num = int(input('Enter a number: '))\n",
    "increment = num + 1\n",
    "print(increment)"
   ]
  },
  {
   "cell_type": "markdown",
   "metadata": {},
   "source": [
    "Casting can also be used to insert integers and floats into strings using string concatination. We will teach you more about string manipulation in future lectures but for now you just need to understand that the plus symbol (`+`) can be used to join two strings together. This is an alternative way to output strings and variables together, instead of using commas."
   ]
  },
  {
   "cell_type": "code",
   "execution_count": null,
   "metadata": {},
   "outputs": [],
   "source": [
    "num = int(input('Enter a number: '))\n",
    "increment = num + 1\n",
    "print(\"Your number is now \" + str(increment))"
   ]
  },
  {
   "cell_type": "markdown",
   "metadata": {},
   "source": [
    " "
   ]
  },
  {
   "cell_type": "markdown",
   "metadata": {},
   "source": [
    " ***"
   ]
  },
  {
   "cell_type": "markdown",
   "metadata": {},
   "source": [
    " "
   ]
  },
  {
   "cell_type": "markdown",
   "metadata": {},
   "source": [
    "## 6) Comments\n",
    "\n",
    "A hash sign (`#`) that is not inside a string indicates the start of a comment. All characters after the `#`, on the same physical line, are part of the comment and will not be run."
   ]
  },
  {
   "cell_type": "code",
   "execution_count": null,
   "metadata": {},
   "outputs": [],
   "source": [
    "# This is a comment\n",
    "print('Hello')"
   ]
  },
  {
   "cell_type": "code",
   "execution_count": null,
   "metadata": {},
   "outputs": [],
   "source": [
    "num = 5 + 4\n",
    "# Comments are ignored by the program\n",
    "print(num)"
   ]
  },
  {
   "cell_type": "code",
   "execution_count": null,
   "metadata": {},
   "outputs": [],
   "source": [
    "print(5 * 6) # Comments can follow code inline"
   ]
  },
  {
   "cell_type": "markdown",
   "metadata": {},
   "source": [
    "You can comment multiple lines by repeating the hash sign on each line. You can also comment multiple lines by using a triple-quoted string."
   ]
  },
  {
   "cell_type": "code",
   "execution_count": null,
   "metadata": {},
   "outputs": [],
   "source": [
    "# This is a comment\n",
    "# This is also a comment\n",
    "# And this is too"
   ]
  },
  {
   "cell_type": "code",
   "execution_count": null,
   "metadata": {},
   "outputs": [],
   "source": [
    "'''\n",
    "This is a multiline\n",
    "comment\n",
    "'''"
   ]
  },
  {
   "cell_type": "markdown",
   "metadata": {},
   "source": [
    " "
   ]
  },
  {
   "cell_type": "markdown",
   "metadata": {},
   "source": [
    " ***"
   ]
  },
  {
   "cell_type": "markdown",
   "metadata": {},
   "source": [
    " "
   ]
  },
  {
   "cell_type": "markdown",
   "metadata": {},
   "source": [
    "## Further Reading\n",
    "\n",
    "* [Naming Conventions](https://www.python.org/dev/peps/pep-0008/#naming-conventions)\n",
    "* [Python Operator Precedence](https://introcs.cs.princeton.edu/python/appendix_precedence/)"
   ]
  },
  {
   "cell_type": "code",
   "execution_count": null,
   "metadata": {},
   "outputs": [],
   "source": []
  }
 ],
 "metadata": {
  "kernelspec": {
   "display_name": "Python 3",
   "language": "python",
   "name": "python3"
  },
  "language_info": {
   "codemirror_mode": {
    "name": "ipython",
    "version": 3
   },
   "file_extension": ".py",
   "mimetype": "text/x-python",
   "name": "python",
   "nbconvert_exporter": "python",
   "pygments_lexer": "ipython3",
   "version": "3.7.1"
  }
 },
 "nbformat": 4,
 "nbformat_minor": 2
}
