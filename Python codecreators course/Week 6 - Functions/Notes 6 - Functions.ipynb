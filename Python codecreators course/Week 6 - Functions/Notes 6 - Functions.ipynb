{
 "cells": [
  {
   "cell_type": "markdown",
   "metadata": {},
   "source": [
    "# Notes 6 - Functions\n",
    "\n",
    "A function is a block of code which is run when called. It is reusable code, as it can be ran more than once in your program."
   ]
  },
  {
   "cell_type": "markdown",
   "metadata": {},
   "source": [
    " "
   ]
  },
  {
   "cell_type": "markdown",
   "metadata": {},
   "source": [
    "## 1) Defining a function\n",
    "\n",
    "In Python a function is defined using the keyword `def`. The syntax for this is:\n",
    "```python\n",
    "def my_function():\n",
    "    statement\n",
    "```\n",
    "\n",
    "This will define a function with the name `my_function` and the `statement` inside is the code which will be run when the function is called."
   ]
  },
  {
   "cell_type": "code",
   "execution_count": 2,
   "metadata": {},
   "outputs": [],
   "source": [
    "def my_function():\n",
    "    print(\"Printed from inside a function\")"
   ]
  },
  {
   "cell_type": "markdown",
   "metadata": {},
   "source": [
    " "
   ]
  },
  {
   "cell_type": "markdown",
   "metadata": {},
   "source": [
    "***"
   ]
  },
  {
   "cell_type": "markdown",
   "metadata": {},
   "source": [
    " "
   ]
  },
  {
   "cell_type": "markdown",
   "metadata": {},
   "source": [
    "## 2) Calling a function\n",
    "\n",
    "When you have defined a function you can use it by calling it. To call a function you write the name followed by a pair of round brackets `()`, for example: `my_function()`."
   ]
  },
  {
   "cell_type": "code",
   "execution_count": 3,
   "metadata": {},
   "outputs": [
    {
     "name": "stdout",
     "output_type": "stream",
     "text": [
      "Printed from inside a function\n"
     ]
    }
   ],
   "source": [
    "def my_function():\n",
    "    print(\"Printed from inside a function\")\n",
    "    \n",
    "my_function()"
   ]
  },
  {
   "cell_type": "markdown",
   "metadata": {},
   "source": [
    " "
   ]
  },
  {
   "cell_type": "markdown",
   "metadata": {},
   "source": [
    "Due to how Jupyter works, once you have defined a function you can call it from any code box. This means that you can reuse the functions later on in your code. However you need to make sure that you have run the code box where the function is defined first, otherwise you will get an error."
   ]
  },
  {
   "cell_type": "code",
   "execution_count": null,
   "metadata": {},
   "outputs": [],
   "source": [
    "my_function()"
   ]
  },
  {
   "cell_type": "markdown",
   "metadata": {},
   "source": [
    " "
   ]
  },
  {
   "cell_type": "markdown",
   "metadata": {},
   "source": [
    "***"
   ]
  },
  {
   "cell_type": "markdown",
   "metadata": {},
   "source": [
    " "
   ]
  },
  {
   "cell_type": "markdown",
   "metadata": {},
   "source": [
    "## 3) Using parameters\n",
    "\n",
    "You can pass values to a function as parameters, these values can then be used inside the function. \n",
    "\n",
    "### 3.1) Single parameter\n",
    "\n",
    "The syntax to define a function `hello` which takes a parameter `name` is:\n",
    "\n",
    "```python\n",
    "def say_hello(name):\n",
    "    print(\"Hello\", name)\n",
    "```\n",
    "\n",
    "This function will take a value, assign the value to the variable `name` and then print out the variable `name`.\n",
    "\n",
    "In order to call a function which has parameters, you pass a value inside the brackets when calling it. So to call `say_hello` and pass it the string `\"Rafael\"`, it would be: `say_hello(\"Rafael\")`."
   ]
  },
  {
   "cell_type": "code",
   "execution_count": null,
   "metadata": {},
   "outputs": [],
   "source": [
    "def say_hello(name):\n",
    "    print(\"Hello\", name)\n",
    "    \n",
    "say_hello(\"Rafael\")\n",
    "say_hello(\"Sam\")"
   ]
  },
  {
   "cell_type": "markdown",
   "metadata": {},
   "source": [
    " "
   ]
  },
  {
   "cell_type": "markdown",
   "metadata": {},
   "source": [
    "You can use variables to pass values to the function as well."
   ]
  },
  {
   "cell_type": "code",
   "execution_count": null,
   "metadata": {},
   "outputs": [],
   "source": [
    "def say_hello(name):\n",
    "    print(\"Hello\", name)\n",
    "\n",
    "names = [\"Rafael\", \"Sam\", \"Olly\"]\n",
    "\n",
    "for n in names:\n",
    "    say_hello(n)"
   ]
  },
  {
   "cell_type": "markdown",
   "metadata": {},
   "source": [
    " "
   ]
  },
  {
   "cell_type": "markdown",
   "metadata": {},
   "source": [
    "### 3.2) Multiple parameters\n",
    "\n",
    "Functions can have multiple parameters, meaning you can pass more than one value to them when called. The syntax for this is the same, just with multiple parameters seperated by a comma in the brackets. For example:\n",
    "\n",
    "```python\n",
    "def add(num1, num2):\n",
    "    statements\n",
    "```\n",
    "\n",
    "The same applies to calling a function with multiple parameters, seperate the parameters with a comma: `add(1, 5)`."
   ]
  },
  {
   "cell_type": "code",
   "execution_count": 4,
   "metadata": {},
   "outputs": [
    {
     "name": "stdout",
     "output_type": "stream",
     "text": [
      "Equals: 6\n"
     ]
    }
   ],
   "source": [
    "def add(num1, num2):\n",
    "    print(\"Equals:\", num1 + num2)\n",
    "    \n",
    "add(1, 5)"
   ]
  },
  {
   "cell_type": "code",
   "execution_count": 5,
   "metadata": {},
   "outputs": [
    {
     "name": "stdout",
     "output_type": "stream",
     "text": [
      "Equals: 16\n"
     ]
    }
   ],
   "source": [
    "def add3(num1, num2, num3):\n",
    "    print(\"Equals:\", num1 + num2 + num3)\n",
    "    \n",
    "add3(1, 5, 10)"
   ]
  },
  {
   "cell_type": "markdown",
   "metadata": {},
   "source": [
    " "
   ]
  },
  {
   "cell_type": "markdown",
   "metadata": {},
   "source": [
    "### 3.3) Default parameters\n",
    "\n",
    "It is possible to set a default value for a parameter. This means the parameter will be that value if you call the function without providing a value."
   ]
  },
  {
   "cell_type": "code",
   "execution_count": null,
   "metadata": {},
   "outputs": [],
   "source": [
    "def say_hello(name=\"no one\"):\n",
    "    print(\"Hello\", name)\n",
    "    \n",
    "# provide a value as before\n",
    "say_hello(\"Rafael\")\n",
    "\n",
    "# works and uses default value\n",
    "say_hello()"
   ]
  },
  {
   "cell_type": "markdown",
   "metadata": {},
   "source": [
    " "
   ]
  },
  {
   "cell_type": "markdown",
   "metadata": {},
   "source": [
    "***"
   ]
  },
  {
   "cell_type": "markdown",
   "metadata": {},
   "source": [
    " "
   ]
  },
  {
   "cell_type": "markdown",
   "metadata": {},
   "source": [
    "## 4) Return values\n",
    "\n",
    "While printing out the result in a function is sometimes useful, the use of the `return` statement can make functions far more useful. The `return` statement allows you to return a value from the function, the syntax to do this is the `return` keyword followed by the value you want to return."
   ]
  },
  {
   "cell_type": "code",
   "execution_count": null,
   "metadata": {},
   "outputs": [],
   "source": [
    "def double(num):\n",
    "    return num * 2\n",
    "\n",
    "print(double(5))"
   ]
  },
  {
   "cell_type": "markdown",
   "metadata": {},
   "source": [
    " "
   ]
  },
  {
   "cell_type": "markdown",
   "metadata": {},
   "source": [
    "You can assign the value returned by the function to a variable in order to use it."
   ]
  },
  {
   "cell_type": "code",
   "execution_count": null,
   "metadata": {},
   "outputs": [],
   "source": [
    "num2 = double(10)\n",
    "print(num2)"
   ]
  },
  {
   "cell_type": "markdown",
   "metadata": {},
   "source": [
    " "
   ]
  },
  {
   "cell_type": "markdown",
   "metadata": {},
   "source": [
    "It is possible to have multiple return statements in a function. When the function reaches a return statement it immediately ends and returns the value, no more code from the function is ran. This means that you can return if a condition is met for example."
   ]
  },
  {
   "cell_type": "code",
   "execution_count": null,
   "metadata": {},
   "outputs": [],
   "source": [
    "def double(num):\n",
    "    if type(num) != int:\n",
    "        return \"Not an integer\"\n",
    "    else:\n",
    "        return num * 2\n",
    "    \n",
    "print(double(5))"
   ]
  },
  {
   "cell_type": "code",
   "execution_count": null,
   "metadata": {},
   "outputs": [],
   "source": [
    "print(double(\"hello\"))"
   ]
  },
  {
   "cell_type": "markdown",
   "metadata": {},
   "source": [
    " "
   ]
  },
  {
   "cell_type": "markdown",
   "metadata": {},
   "source": [
    "***"
   ]
  },
  {
   "cell_type": "markdown",
   "metadata": {},
   "source": [
    " "
   ]
  },
  {
   "cell_type": "markdown",
   "metadata": {},
   "source": [
    "## 5) Statements in functions\n",
    "\n",
    "The block of code inside a function is the same as any of the other code we have written so far. This means you can place conditional statements and loops inside to create reusable functions that perform useful actions.\n",
    "\n",
    "### 5.1) Conditionals in functions\n",
    "\n",
    "You can place any conditionals inside a function, for example here we have created our own `min` function:"
   ]
  },
  {
   "cell_type": "code",
   "execution_count": null,
   "metadata": {},
   "outputs": [],
   "source": [
    "def min_value(num1, num2):\n",
    "    if num1 < num2:\n",
    "        return num1\n",
    "    else:\n",
    "        return num2\n",
    "    \n",
    "print(min_value(4, 10))\n",
    "print(min_value(12, 11))"
   ]
  },
  {
   "cell_type": "markdown",
   "metadata": {},
   "source": [
    " "
   ]
  },
  {
   "cell_type": "markdown",
   "metadata": {},
   "source": [
    "### 5.2) Loops in functions\n",
    "\n",
    "You can place loops inside to repeat the code block. Here we have created our own `get_input` function which will repeatedly ask the user for an input until it isn't empty."
   ]
  },
  {
   "cell_type": "code",
   "execution_count": null,
   "metadata": {},
   "outputs": [],
   "source": [
    "# Take user input until its not empty\n",
    "def get_input():\n",
    "    user_input = ''\n",
    "    while not user_input:\n",
    "        user_input = input(\"Enter something: \")\n",
    "    return user_input\n",
    "    \n",
    "x = get_input()\n",
    "print(\"Entered:\", x)"
   ]
  },
  {
   "cell_type": "markdown",
   "metadata": {},
   "source": [
    " "
   ]
  },
  {
   "cell_type": "markdown",
   "metadata": {},
   "source": [
    "***"
   ]
  },
  {
   "cell_type": "markdown",
   "metadata": {},
   "source": [
    " "
   ]
  },
  {
   "cell_type": "markdown",
   "metadata": {},
   "source": [
    "## 6) Recursion\n",
    "\n",
    "As code inside a function can be any of the statements we have learnt so far, it follows that you can call a function from inside of a function. This can be extended even further to calling a function from inside itself, this is called recursion.\n",
    "\n",
    "An example of recursion would be:\n",
    "\n",
    "```python\n",
    "def recursive_sum(numbers):\n",
    "    if len(numbers) == 1:\n",
    "        return numbers[0]\n",
    "    else:\n",
    "        return numbers[0] + recursive_sum(numbers[1:])\n",
    "```\n",
    "\n",
    "This function takes a list of numbers and returns the sum of all the values using recursion. Each time the function is called it first checks if their is only 1 item left (`len(numbers) == 1`), this is called the **base case**. When the base case is true the recursion stops and a single value is returned, here that is the remaining number.\n",
    "\n",
    "In each function call before the base case is met, the `else` statement is ran. Here the first value in the list of numbers is also taken, however it is added to another call of `recursive_sum` with the parameter being the remaining numbers in the list.\n",
    "\n",
    "Each item is therefore added together and the sum is returned as each call of `recursive_sum` returns. This may be a difficult concept to understand, if you don't get it don't worry too much as most recursive functions can be defined in other ways. However recursion can sometimes be the most efficient solution.\n",
    "\n",
    "Here is a run through of `recursive_sum` with print statements to help understand:"
   ]
  },
  {
   "cell_type": "code",
   "execution_count": null,
   "metadata": {},
   "outputs": [],
   "source": [
    "def recursive_sum(numbers):\n",
    "    if len(numbers) == 1:  # base case\n",
    "        print(\"base case met, current num:\", numbers[0])\n",
    "        return numbers[0]\n",
    "    else:\n",
    "        print(\"recursive call, current num:\", numbers[0], \", remaining:\", numbers[1:])\n",
    "        return numbers[0] + recursive_sum(numbers[1:])  # recursion\n",
    "    \n",
    "    \n",
    "values = [1, 2, 3, 4, 5, 6]\n",
    "recursive_sum(values)"
   ]
  },
  {
   "cell_type": "markdown",
   "metadata": {},
   "source": [
    " "
   ]
  },
  {
   "cell_type": "markdown",
   "metadata": {},
   "source": [
    "***"
   ]
  },
  {
   "cell_type": "markdown",
   "metadata": {},
   "source": [
    " "
   ]
  },
  {
   "cell_type": "markdown",
   "metadata": {},
   "source": [
    "## 7) Scope\n",
    "\n",
    "With the introduction of functions comes the concept of scope. Scope is the idea that a variable is only available from inside the block of code it is created. \n",
    "\n",
    "### 7.1) Global Scope\n",
    "\n",
    "Until this week we have only dealt with the *global scope*. Any variable initialized in the main body of code is a global variable and is in the global scope. Being in the global scope means that it is available within any scope, so can be used anywhere in the program.\n",
    "\n",
    "Here is an example of using a global variable in a function:"
   ]
  },
  {
   "cell_type": "code",
   "execution_count": null,
   "metadata": {},
   "outputs": [],
   "source": [
    "current_year = 2019\n",
    "\n",
    "def current_age(birth_year):\n",
    "    age = current_year - birth_year\n",
    "    print(\"You are\", age, \"years old\")\n",
    "    \n",
    "current_age(1998)"
   ]
  },
  {
   "cell_type": "markdown",
   "metadata": {},
   "source": [
    " "
   ]
  },
  {
   "cell_type": "markdown",
   "metadata": {},
   "source": [
    "### 7.2) Local Scope\n",
    "\n",
    "Variables which are initialized inside a function instead belong to the *local scope* of that function, meaning they can only be used inside that function. When the function finishes running, the variables no longer exist and discarded - they aren't saved between function calls.\n",
    "\n",
    "Here `age` is defined in the function, so it is a local variable which can only be used in the function:"
   ]
  },
  {
   "cell_type": "code",
   "execution_count": null,
   "metadata": {},
   "outputs": [],
   "source": [
    "current_year = 2019\n",
    "\n",
    "def current_age(birth_year):\n",
    "    age = current_year - birth_year\n",
    "    print(\"You are\", age, \"years old\")\n",
    "    \n",
    "current_age(1998)\n",
    "\n",
    "# will error as only defined locally in function\n",
    "print(age)"
   ]
  },
  {
   "cell_type": "markdown",
   "metadata": {},
   "source": [
    " "
   ]
  },
  {
   "cell_type": "markdown",
   "metadata": {},
   "source": [
    "### 7.3) Naming issues\n",
    "\n",
    "As variables defined in the *global scope* are accessible from within functions, you can make use of them there. However, if you assign a new value to a global variable inside a function it doesn't alter the global variable; it instead creates a local variable of the same name which is independant of the global one. This means you can have naming issues if you try to access a global variable you have 'overwritten' in the function, instead returning the corresponding local variable.\n",
    "\n",
    "Here the local variable `age` takes precendece over the global variable, while the global value remains unchanged afterwards:"
   ]
  },
  {
   "cell_type": "code",
   "execution_count": null,
   "metadata": {},
   "outputs": [],
   "source": [
    "current_year = 2019\n",
    "age = 25\n",
    "\n",
    "def current_age(birth_year):\n",
    "    age = current_year - birth_year\n",
    "    print(\"You are\", age, \"years old\")\n",
    "    \n",
    "current_age(1998)\n",
    "\n",
    "# global variable remains the same\n",
    "print(age)"
   ]
  },
  {
   "cell_type": "markdown",
   "metadata": {},
   "source": [
    " "
   ]
  },
  {
   "cell_type": "markdown",
   "metadata": {},
   "source": [
    "***"
   ]
  },
  {
   "cell_type": "code",
   "execution_count": null,
   "metadata": {},
   "outputs": [],
   "source": []
  },
  {
   "cell_type": "markdown",
   "metadata": {},
   "source": [
    " "
   ]
  },
  {
   "cell_type": "markdown",
   "metadata": {},
   "source": [
    "## 8) Passing by reference or value\n",
    "\n",
    "A concept that is useful to understand is how variables are passed when calling a function. There is two different ways variables are passed in Python, with it depending on the datatype of the variable. \n",
    "\n",
    "### 8.1) Pass by value\n",
    "\n",
    "The first way a variable can be passed is by value. This means that when the variable is passed as a parameter, the *local variable* in the function takes on its value but isn't the same as the original variable. This means that any changes made to the *local variable* doesn't alter the original variable. In Python the datatypes passed by value are: integers, floats, strings and booleans."
   ]
  },
  {
   "cell_type": "code",
   "execution_count": null,
   "metadata": {},
   "outputs": [],
   "source": [
    "# Function to attempt to double number\n",
    "# DOES NOT WORK\n",
    "def double(in_num):\n",
    "    in_num *= 2\n",
    "    print(\"Value inside the function: \", in_num)\n",
    "    \n",
    "# Initialize value\n",
    "out_num = 5\n",
    "print(\"Value before the function: \", out_num)\n",
    "\n",
    "# Attempt to change the value using function\n",
    "double(out_num);\n",
    "\n",
    "# Value unchanged after function call\n",
    "print(\"Value outside the function: \", out_num)"
   ]
  },
  {
   "cell_type": "code",
   "execution_count": null,
   "metadata": {},
   "outputs": [],
   "source": [
    "# Correct way of handling numbers\n",
    "def double(num):\n",
    "    return num*2\n",
    "\n",
    "num = 5\n",
    "num = double(num)\n",
    "print(num)"
   ]
  },
  {
   "cell_type": "markdown",
   "metadata": {},
   "source": [
    " "
   ]
  },
  {
   "cell_type": "markdown",
   "metadata": {},
   "source": [
    "### 8.2) Pass by reference\n",
    "\n",
    "The remaining datatypes are objects which are instead passed by reference. This means that when a variable is passed as a parameter, the *local variable* and the original variable both point to the same object. Therefore any changes made to the *local variable* in the function also affect the original variable."
   ]
  },
  {
   "cell_type": "code",
   "execution_count": null,
   "metadata": {},
   "outputs": [],
   "source": [
    "# Function to append 40 to a list\n",
    "def append_list(in_list):\n",
    "    in_list.append(40);\n",
    "    print(\"Values inside the function: \", in_list)\n",
    "\n",
    "# Initialize list\n",
    "out_list = [10,20,30]\n",
    "print(\"Values before the function: \", out_list)\n",
    "\n",
    "# Change the list using function\n",
    "append_list(out_list)\n",
    "print(\"Values outside the function: \", out_list)"
   ]
  },
  {
   "cell_type": "markdown",
   "metadata": {},
   "source": [
    " "
   ]
  },
  {
   "cell_type": "markdown",
   "metadata": {},
   "source": [
    "***"
   ]
  },
  {
   "cell_type": "markdown",
   "metadata": {},
   "source": [
    " "
   ]
  },
  {
   "cell_type": "markdown",
   "metadata": {},
   "source": [
    "## 9) Common errors\n",
    "\n",
    "There are several common errors when defining and calling functions, here are few examples to help you understand what can go wrong.\n",
    "\n",
    "### 9.1) Errors when declaring\n",
    "\n",
    "When defining a function you must make sure to use the correct syntax, remember a function is defined like:\n",
    "\n",
    "```python\n",
    "def function_name(params):\n",
    "    statement\n",
    "```\n",
    "\n",
    "If you forget the brackets, colon or indentation of the statements you will get an error."
   ]
  },
  {
   "cell_type": "code",
   "execution_count": null,
   "metadata": {},
   "outputs": [],
   "source": [
    "# Missing brackets and colon\n",
    "def my_function\n",
    "    return None\n",
    "\n",
    "print(my_function())"
   ]
  },
  {
   "cell_type": "code",
   "execution_count": null,
   "metadata": {},
   "outputs": [],
   "source": [
    "# Missing indentation\n",
    "def my_function():\n",
    "return None\n",
    "\n",
    "print(my_function())"
   ]
  },
  {
   "cell_type": "markdown",
   "metadata": {},
   "source": [
    " "
   ]
  },
  {
   "cell_type": "markdown",
   "metadata": {},
   "source": [
    "Another common error is attempting to alter global variables within a function. This will error as the variables are only defined in the *global scope*, meaning they can't be altered in the functions *local scope*."
   ]
  },
  {
   "cell_type": "code",
   "execution_count": null,
   "metadata": {},
   "outputs": [],
   "source": [
    "# Error as attempting to alter global variable in function\n",
    "num = 1\n",
    "\n",
    "def my_function():\n",
    "    num += 1\n",
    "    \n",
    "print(my_function())"
   ]
  },
  {
   "cell_type": "markdown",
   "metadata": {},
   "source": [
    " "
   ]
  },
  {
   "cell_type": "markdown",
   "metadata": {},
   "source": [
    "### 9.2) Errors when calling\n",
    "\n",
    "There are also some common mistakes made when calling a function. One of these can be providing an incorrect amount of parameters."
   ]
  },
  {
   "cell_type": "code",
   "execution_count": null,
   "metadata": {},
   "outputs": [],
   "source": [
    "# Incorrect parameter count\n",
    "def add(num1, num2):\n",
    "    return num1+num2\n",
    "\n",
    "# all cause an error\n",
    "add()"
   ]
  },
  {
   "cell_type": "code",
   "execution_count": null,
   "metadata": {},
   "outputs": [],
   "source": [
    "add(2,3,4)"
   ]
  },
  {
   "cell_type": "code",
   "execution_count": null,
   "metadata": {},
   "outputs": [],
   "source": [
    "add(2)"
   ]
  },
  {
   "cell_type": "markdown",
   "metadata": {},
   "source": [
    " "
   ]
  },
  {
   "cell_type": "markdown",
   "metadata": {},
   "source": [
    "Another common mistake is to miss the brackets off when calling the function. This will return a reference to the function rather than calling it."
   ]
  },
  {
   "cell_type": "code",
   "execution_count": null,
   "metadata": {},
   "outputs": [],
   "source": [
    "# Missing function call brackets\n",
    "def print_hello():\n",
    "    print(\"hello\")\n",
    "    \n",
    "print(print_hello)"
   ]
  }
 ],
 "metadata": {
  "kernelspec": {
   "display_name": "Python 3",
   "language": "python",
   "name": "python3"
  },
  "language_info": {
   "codemirror_mode": {
    "name": "ipython",
    "version": 3
   },
   "file_extension": ".py",
   "mimetype": "text/x-python",
   "name": "python",
   "nbconvert_exporter": "python",
   "pygments_lexer": "ipython3",
   "version": "3.7.4"
  }
 },
 "nbformat": 4,
 "nbformat_minor": 2
}
