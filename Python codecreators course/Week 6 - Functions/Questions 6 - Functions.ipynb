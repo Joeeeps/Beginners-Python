{
 "cells": [
  {
   "cell_type": "markdown",
   "metadata": {},
   "source": [
    "# Questions 6 - Functions"
   ]
  },
  {
   "cell_type": "markdown",
   "metadata": {},
   "source": [
    "### Question 1\n",
    "\n",
    "Create a function called `test_range` which takes a number as a parameter, checks if the given number is in the range 0 to 10 (inclusive) and returns the answer as a boolean."
   ]
  },
  {
   "cell_type": "code",
   "execution_count": 5,
   "metadata": {},
   "outputs": [
    {
     "name": "stdout",
     "output_type": "stream",
     "text": [
      "True\n",
      "False\n"
     ]
    }
   ],
   "source": [
    "def test_range(num):\n",
    "    if num in range(0,11):\n",
    "        return True\n",
    "    else:\n",
    "        return False\n",
    "    \n",
    "print(test_range(5))\n",
    "print(test_range(999))"
   ]
  },
  {
   "cell_type": "markdown",
   "metadata": {},
   "source": [
    " "
   ]
  },
  {
   "cell_type": "markdown",
   "metadata": {},
   "source": [
    "### Question 2\n",
    "\n",
    "Improve the `test_range` function by allowing the user to specify the range using parameters. Set the default range to still be 1 to 10 by using default parameters."
   ]
  },
  {
   "cell_type": "code",
   "execution_count": 35,
   "metadata": {},
   "outputs": [
    {
     "name": "stdout",
     "output_type": "stream",
     "text": [
      "Enter the lowest number in your range 1\n",
      "Entner the highest number in your range 10\n",
      "True\n",
      "True\n",
      "1 to 10\n"
     ]
    }
   ],
   "source": [
    "low = int(input(\"Enter the lowest number in your range \"))\n",
    "high = int(input(\"Enter the highest number in your range \"))\n",
    "           \n",
    "def test_range(num):\n",
    "    if low <= num <= high:\n",
    "        return True\n",
    "        \n",
    "    else:\n",
    "        return False\n",
    "      \n",
    "print(test_range(1))\n",
    "print(test_range(10))\n",
    "\n",
    "print(low, \"to\", high)\n"
   ]
  },
  {
   "cell_type": "markdown",
   "metadata": {},
   "source": [
    " "
   ]
  },
  {
   "cell_type": "markdown",
   "metadata": {},
   "source": [
    "### Question 3\n",
    "\n",
    "Create a function that takes a list as a parameter and returns the average (mean) of it.\n",
    "\n",
    "    scores = [50, 70, 52, 100, 90, 38, 72, 83, 21]\n",
    "    Average: 64"
   ]
  },
  {
   "cell_type": "code",
   "execution_count": 43,
   "metadata": {},
   "outputs": [
    {
     "name": "stdout",
     "output_type": "stream",
     "text": [
      "Average: 64.0\n",
      "576\n",
      "9\n"
     ]
    }
   ],
   "source": [
    "scores = [50, 70, 52, 100, 90, 38, 72, 83, 21]  # test list\n",
    "\n",
    "def average(numbers):\n",
    "    a = sum(numbers) / len(numbers)\n",
    "    return a\n",
    "        \n",
    "print(\"Average:\", average(scores))\n",
    "\n",
    "print(sum(scores))\n",
    "\n",
    "print(len(scores))"
   ]
  },
  {
   "cell_type": "markdown",
   "metadata": {},
   "source": [
    " "
   ]
  },
  {
   "cell_type": "markdown",
   "metadata": {},
   "source": [
    "### Question 4\n",
    "\n",
    "Write a function to calculate how much an employee earns, given an employees hours as a parameter the rules to calculate pay are:\n",
    "    \n",
    "    - Standard pay is £5.5 per hour\n",
    "    - Any hours above 40 are considered as overtime\n",
    "    - Overtime pay is the standard pay multiplied by 1.5 per hour\n",
    "    \n",
    "Return the payment an employee should recieve."
   ]
  },
  {
   "cell_type": "code",
   "execution_count": 46,
   "metadata": {},
   "outputs": [
    {
     "name": "stdout",
     "output_type": "stream",
     "text": [
      "220.0\n",
      "261.25\n"
     ]
    }
   ],
   "source": [
    "def employee_pay(hours):\n",
    "    payment = hours*5.5\n",
    "    \n",
    "    if hours > 40:\n",
    "        overtime = hours - 40\n",
    "        over_pay = overtime * 5.5 * 0.5\n",
    "        payment += over_pay\n",
    "        \n",
    "    return payment\n",
    "\n",
    "print(employee_pay(40))\n",
    "print(employee_pay(45))"
   ]
  },
  {
   "cell_type": "markdown",
   "metadata": {},
   "source": [
    " "
   ]
  },
  {
   "cell_type": "markdown",
   "metadata": {},
   "source": [
    "### Question 5\n",
    "\n",
    "Create a function that **uses recursion** to calculate the factorial of a given number and return it. Remember that the factorial of a number is that number multiplied by all the integers from it to zero. \n",
    "\n",
    "    5! = 5 x 4 x 3 x 2 x 1 = 120\n",
    "\n",
    "More on how to calculate a factorial can be found [here](https://www.mathsisfun.com/numbers/factorial.html)."
   ]
  },
  {
   "cell_type": "code",
   "execution_count": 47,
   "metadata": {
    "scrolled": true
   },
   "outputs": [
    {
     "name": "stdout",
     "output_type": "stream",
     "text": [
      "120\n"
     ]
    }
   ],
   "source": [
    "def fact(num):\n",
    "    \n",
    "    if num <= 1:\n",
    "        return 1\n",
    "    else:\n",
    "        return num * fact(num-1)\n",
    "    \n",
    "print(fact(5))"
   ]
  },
  {
   "cell_type": "markdown",
   "metadata": {},
   "source": [
    " "
   ]
  },
  {
   "cell_type": "markdown",
   "metadata": {},
   "source": [
    "### Question 6\n",
    "\n",
    "Create a function that returns all the substrings of a word as a set:\n",
    "    \n",
    "    For example, the word `animal` has the following substrings:\n",
    "    \n",
    "    {'a', 'an', 'ani', 'anim', 'anima', 'animal', 'n', 'ni', 'nim', 'nima', 'nimal', 'i', 'im', 'ima', 'imal', 'm', 'ma', 'mal', 'a', 'al', 'l'}"
   ]
  },
  {
   "cell_type": "code",
   "execution_count": null,
   "metadata": {},
   "outputs": [],
   "source": [
    "def find_substrings(text):\n",
    "    \n",
    "    substrings = set()\n",
    "    word_length = len(text)\n",
    "    \n",
    "    # outer loop goes through each index\n",
    "    # inner loop goes through all the following indexes to create a range\n",
    "    for i in range(word_length):\n",
    "        for j in range(i + 1, word_length + 1):\n",
    "            # Use indexing to get each substring\n",
    "            substrings.add(text[i:j])\n",
    "            \n",
    "    return substrings\n",
    "\n",
    "print(find_substrings(\"kittens\"))"
   ]
  },
  {
   "cell_type": "markdown",
   "metadata": {},
   "source": [
    " "
   ]
  },
  {
   "cell_type": "markdown",
   "metadata": {},
   "source": [
    "### Quesiton 7\n",
    "\n",
    "Create a function that finds all the palindrome substrings of a word or phrase, you should use the previous function to return all the substrings. Reminder that a palindrome is a word or phrase that reads the same backward or forward, this does not include single characters.\n",
    "\n",
    "    For example if word is 'kayak'\n",
    "        Substrings = ['k', 'ka', 'kay', 'kaya', 'kayak', 'a', 'ay', 'aya', 'ayak', 'y', 'ya', 'yak', 'a', 'ak', 'k']\n",
    "        Palindrome Substrings = ['kayak', 'aya']\n",
    "        \n",
    "See if you can get all the palindrome substrings from the phrase: `anna took her mum to a top spot in a racecar`. You could try extending it to spot palindrome phrases which contain spaces, such as `top spot`."
   ]
  },
  {
   "cell_type": "code",
   "execution_count": null,
   "metadata": {
    "scrolled": false
   },
   "outputs": [],
   "source": [
    "def find_palindromes(text):\n",
    "    sub_texts = find_substrings(text)\n",
    "    palindromes = set()\n",
    "    \n",
    "    for word in sub_texts:\n",
    "        if len(word) > 1 and word == word[::-1]:\n",
    "            palindromes.add(word)\n",
    "            \n",
    "    return palindromes\n",
    "\n",
    "substrings = find_palindromes(\"anna took her mum to a top spot in a racecar\")\n",
    "print(substrings)"
   ]
  },
  {
   "cell_type": "markdown",
   "metadata": {},
   "source": [
    " "
   ]
  },
  {
   "cell_type": "markdown",
   "metadata": {},
   "source": [
    "### Question 8 (Difficult)\n",
    "\n",
    "Create a program which allows the user to manage a shopping basket. This exercise will involve using multiple functions to complete the program. \n",
    "\n",
    "- 1) The user should first be presented with a menu and asked to choose an option. If they choose a valid option it should call the relavent function, if the option is invalid ask them again.\n",
    "\n",
    "        Welcome to the online supermarket.\n",
    "\n",
    "            1) Add to basket\n",
    "            2) Remove from basket\n",
    "            3) View basket\n",
    "            4) Checkout\n",
    " \n",
    "        Enter your choice:\n",
    "\n",
    " \n",
    "- 2) To add an item to the basket the user should be asked to input an item. It should then confirm that the item is added and return back to the main menu. If the input is empty or the item already in the basket, it should ask them again.\n",
    " \n",
    "        Enter the item to be add: Eggs\n",
    "        Eggs has been added.\n",
    "\n",
    "\n",
    "- 3) To remove an item from the basket first the basket should be displayed, then the user asked for a number to remove. If the number is valid the item should be removed and the program return to the main menu, otherwise ask for the input again.\n",
    " \n",
    "        1)  Milk\n",
    "        2)  Eggs\n",
    " \n",
    "        Enter item to be removed: 2\n",
    "        Eggs has been removed\n",
    " \n",
    "- 4) When viewing the basket it should display a list of all item in the basket, with each numbered in order. \n",
    "\n",
    "        1)  Milk\n",
    "        2)  Eggs\n",
    "        \n",
    "- 5) Checkout should stop the program.\n",
    "\n",
    "Here are suggestions for the main functions to use, it might be useful to write some additional ones too.\n",
    "\n",
    "```python\n",
    "def add_basket(basket):\n",
    "    # Write your code in here\n",
    "    return basket\n",
    "\n",
    "def remove_basket(basket):\n",
    "    # Write your code in here\n",
    "    return basket\n",
    "\n",
    "def view_basket(basket):\n",
    "    # Write your code in here\n",
    "\n",
    "def start_basket(basket = []):\n",
    "    # Write your main code in here\n",
    "```"
   ]
  },
  {
   "cell_type": "code",
   "execution_count": 48,
   "metadata": {},
   "outputs": [
    {
     "name": "stdout",
     "output_type": "stream",
     "text": [
      "\n",
      "Welcome to the online supermarket\n",
      "\n",
      "1) Add to basket\n",
      "2) Remove from basket\n",
      "3) View basket\n",
      "4) Checkout\n",
      "\n",
      "Enter your choice 1\n",
      "Please enter the item's name to be added: lun\n",
      "\n",
      "1) lun\n",
      "\n",
      "Welcome to the online supermarket\n",
      "\n",
      "1) Add to basket\n",
      "2) Remove from basket\n",
      "3) View basket\n",
      "4) Checkout\n",
      "\n",
      "Enter your choice 2\n",
      "Please enter the item's name to be removed: lun\n",
      "\n",
      "Your basket is empty\n",
      "\n",
      "Welcome to the online supermarket\n",
      "\n",
      "1) Add to basket\n",
      "2) Remove from basket\n",
      "3) View basket\n",
      "4) Checkout\n",
      "\n",
      "Enter your choice 4\n"
     ]
    }
   ],
   "source": [
    "def get_input(output):\n",
    "    user_input = \"\"\n",
    "    while not user_input:  # ask again if nothing entered\n",
    "        user_input = input(output)\n",
    "    return user_input\n",
    "\n",
    "def get_int(output):  # safely deal with converting input to int\n",
    "    user_input = \"\"\n",
    "    while not user_input.isdigit():  # ask again if input not int\n",
    "        user_input = get_input(output)\n",
    "    return int(user_input)\n",
    "\n",
    "def add_to_basket(basket):\n",
    "    user_input = get_input(\"Please enter the item's name to be added: \")\n",
    "    basket.append(user_input)  # add to basket list\n",
    "\n",
    "def remove_from_basket(basket):\n",
    "    user_input = get_input(\"Please enter the item's name to be removed: \")\n",
    "    while user_input not in basket:\n",
    "        print(\"Item not found\")\n",
    "        user_input = get_input(\"Please enter the item's name to be removed: \")\n",
    "    else:\n",
    "        basket.remove(user_input)  # remove from list if present\n",
    "    \n",
    "def view_basket(basket):\n",
    "    print()\n",
    "    if basket:  # check basket not empty\n",
    "        for i in range(len(basket)):\n",
    "            print(str(i+1) + \") \" + basket[i])\n",
    "    else:\n",
    "        print(\"Your basket is empty\")\n",
    "            \n",
    "def start_program(basket = []):\n",
    "    while True:\n",
    "        # print() statements used just for the program to be more readable\n",
    "        print()\n",
    "        print(\"Welcome to the online supermarket\")\n",
    "        print()\n",
    "        print(\"1) Add to basket\")\n",
    "        print(\"2) Remove from basket\")\n",
    "        print(\"3) View basket\")\n",
    "        print(\"4) Checkout\")\n",
    "        print()\n",
    "\n",
    "        user_input = get_int(\"Enter your choice \")\n",
    "        while user_input not in range(1, 5):\n",
    "            user_input = get_int(\"Enter your choice \")\n",
    "\n",
    "        if user_input == 1:\n",
    "            add_to_basket(basket)\n",
    "        elif user_input == 2:\n",
    "            remove_from_basket(basket)\n",
    "        elif user_input == 3:\n",
    "            pass\n",
    "        else:\n",
    "            return \n",
    "        \n",
    "        view_basket(basket)\n",
    "\n",
    "start_program()"
   ]
  }
 ],
 "metadata": {
  "kernelspec": {
   "display_name": "Python 3",
   "language": "python",
   "name": "python3"
  },
  "language_info": {
   "codemirror_mode": {
    "name": "ipython",
    "version": 3
   },
   "file_extension": ".py",
   "mimetype": "text/x-python",
   "name": "python",
   "nbconvert_exporter": "python",
   "pygments_lexer": "ipython3",
   "version": "3.7.4"
  }
 },
 "nbformat": 4,
 "nbformat_minor": 2
}
