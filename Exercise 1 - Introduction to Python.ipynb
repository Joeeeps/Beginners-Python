{
 "cells": [
  {
   "cell_type": "markdown",
   "metadata": {},
   "source": [
    "# Exercise 1 - Introduction to Python"
   ]
  },
  {
   "cell_type": "markdown",
   "metadata": {},
   "source": [
    "### Question 1\n",
    "Write a program which greets someone. It should ask for a persons name and then greet them with something like '*Hello Bob!*'."
   ]
  },
  {
   "cell_type": "code",
   "execution_count": 5,
   "metadata": {},
   "outputs": [
    {
     "name": "stdout",
     "output_type": "stream",
     "text": [
      "What is your name? Joe\n",
      "Your name is  Joe\n"
     ]
    }
   ],
   "source": [
    "name = input(\"What is your name? \")\n",
    "print(\"Your name is \",name)"
   ]
  },
  {
   "cell_type": "markdown",
   "metadata": {},
   "source": [
    "### Question 2\n",
    "Write a program which takes a number input and then prints multiplication table of it up to 5."
   ]
  },
  {
   "cell_type": "code",
   "execution_count": 2,
   "metadata": {},
   "outputs": [
    {
     "name": "stdout",
     "output_type": "stream",
     "text": [
      "Insert number3\n",
      "3.0 x 1 = 3.0\n",
      "3.0 x 1 = 6.0\n",
      "3.0 x 1 = 9.0\n",
      "3.0 x 1 = 12.0\n",
      "3.0 x 1 = 15.0\n"
     ]
    }
   ],
   "source": [
    "num = float(input(\"Insert number\"))\n",
    "print(num, \"x\", 1, \"=\", num * 1)\n",
    "print(num, \"x\", 1, \"=\", num * 2)\n",
    "print(num, \"x\", 1, \"=\", num * 3)\n",
    "print(num, \"x\", 1, \"=\", num * 4)\n",
    "print(num, \"x\", 1, \"=\", num * 5)\n",
    "\n"
   ]
  },
  {
   "cell_type": "markdown",
   "metadata": {},
   "source": [
    "### Question 3\n",
    "Write a program which works out someones age. It should ask for the persons year of birth and then tell them how old they are, such as '*You are 20 years old*'. Use the integer 2019 as the current year."
   ]
  },
  {
   "cell_type": "code",
   "execution_count": 7,
   "metadata": {},
   "outputs": [
    {
     "name": "stdout",
     "output_type": "stream",
     "text": [
      "What was your year of birth? 2000\n",
      "You are 19 years old\n"
     ]
    }
   ],
   "source": [
    "num = int(input(\"What was your year of birth? \"))\n",
    "year = 2019\n",
    "print(\"You are\", year-num, \"years old\" )"
   ]
  },
  {
   "cell_type": "markdown",
   "metadata": {},
   "source": [
    "### Question 4\n",
    "Write a program which takes 3 floats and then returns the average of them. It should individually take 3 floats as inputs, calculate the average and then print something like '*The average is 36.74*'."
   ]
  },
  {
   "cell_type": "code",
   "execution_count": 12,
   "metadata": {
    "scrolled": true
   },
   "outputs": [
    {
     "name": "stdout",
     "output_type": "stream",
     "text": [
      "Please insert a number: 2\n",
      "Please insert a number: 4\n",
      "Please insert a number: 6\n",
      "The average is:  4.0\n"
     ]
    }
   ],
   "source": [
    "one = float(input(\"Please insert a number: \"))\n",
    "two = float(input(\"Please insert a number: \"))\n",
    "three = float(input(\"Please insert a number: \")) \n",
    "average = (one+two+three)/3\n",
    "print(\"The average is: \", average)"
   ]
  },
  {
   "cell_type": "markdown",
   "metadata": {},
   "source": [
    "### Question 5\n",
    "Write a program which converts an input of days, hours, minutes and seconds into total seconds.\n",
    "\n"
   ]
  },
  {
   "cell_type": "markdown",
   "metadata": {},
   "source": [
    "\n",
    "\n"
   ]
  },
  {
   "cell_type": "code",
   "execution_count": 3,
   "metadata": {},
   "outputs": [
    {
     "name": "stdout",
     "output_type": "stream",
     "text": [
      "Please insert number of days: 2\n",
      "Hours 2\n",
      "Minutes 22\n",
      "Seconds 2\n",
      "2 days, 2 hours, 22 minutes and 2 seconds equals a total of 181322 seconds\n"
     ]
    }
   ],
   "source": [
    "days = int(input(\"Please insert number of days: \"))\n",
    "hours = int(input(\"Hours \"))\n",
    "minutes = int(input(\"Minutes \"))\n",
    "seconds = int(input(\"Seconds \"))\n",
    "\n",
    "totalseconds = (days * 86400) + (hours * 3600) + (minutes * 60) + seconds\n",
    "\n",
    "print(days,\"days,\",hours,\"hours,\", minutes, \"minutes and\", seconds, \"seconds\", \"equals a total of\", totalseconds, \"seconds\")"
   ]
  },
  {
   "cell_type": "code",
   "execution_count": null,
   "metadata": {},
   "outputs": [],
   "source": []
  }
 ],
 "metadata": {
  "kernelspec": {
   "display_name": "Python 3",
   "language": "python",
   "name": "python3"
  },
  "language_info": {
   "codemirror_mode": {
    "name": "ipython",
    "version": 3
   },
   "file_extension": ".py",
   "mimetype": "text/x-python",
   "name": "python",
   "nbconvert_exporter": "python",
   "pygments_lexer": "ipython3",
   "version": "3.7.4"
  }
 },
 "nbformat": 4,
 "nbformat_minor": 2
}
